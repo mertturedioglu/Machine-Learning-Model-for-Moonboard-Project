{
 "cells": [
  {
   "cell_type": "markdown",
   "id": "f76ddd59",
   "metadata": {},
   "source": [
    "<p style=\"text-align:right\">Mert Türedioğlu</p>\n",
    "<p style=\"text-align:right\">1856335</p>\n",
    "<p style=\"text-align:center\">cogs514-proposal</p>\n",
    "<p style=\"text-align:center\"><strong>machine learning model for difficulty assessment of climbing routes</strong></p>\n",
    "\n",
    "\n",
    "1. __Background Information and Aim:__\n",
    "    There are many grading scales for the difficulty of climbing routes: Fontainebleau, Hueco, UIAA, French, British, etc. There are  [conversion chart](https://www.climbing.co.za/wp-content/uploads/2012/10/climbza_gradechart.png)s for all these different scales. Bouldering is a subdiscipline of climbing. Bouldering has three different grade scales, and there is a [bouldering conversion chart](https://extremesportguide.com/wp-content/uploads/2020/05/ESG-Bouldering-Grades.jpg). Yet, it is not formally defined how to assess a climbing route's difficulty.\n",
    "\n",
    "    [MoonBoard](https://www.dailycamera.com/wp-content/uploads/2020/02/MoonBoard1.jpg) is a standardized and widely used artificial climbing wall that climbers train on. The routes on this board (in bouldering jargon: problems) are graded in bouldering scales: Hueco and Fontainebleau. The routes will be selected from MoonBoard.\n",
    "\n",
    "    In this project ([git](https://github.com/mertturedioglu/moonboard-project-ML)), I will construct a machine learning model to estimate the difficulty grade of a bouldering route. The estimate will be categorical. The estimators will be both categorical and continuous.\n",
    "    \n",
    "1. __[Dataset](https://github.com/mertturedioglu/moonboard-project-ML/blob/main/dataset/dataset_raw.csv)__     \n",
    "    I have scraped the data from MoonBoard website. There are more than 450 routes in the dataset. All the routes are labeled with difficulty grades. The estimand will be difficulty grade. The estimators are not yet specified. Possible estimators are; the number of holds, mean difficulty of holds, mean incut size, type of grips, the friction of holds, and rotational angle of holds.\n",
    "1. __Literature Survey:__  \n",
    "    What will be new??? The difficulty classification of climbing routes is done with machine learning algorithms in the literature. Here are some examples from the literature:\n",
    "\n",
    "    * Tai, C. H., Wu, A., & Hinojosa, R. (2020). Graph neural networks in classifying rock climbing difficulties. Technical report.\n",
    "\n",
    "    * Dobles, A., Sarmiento, J. C., & Satterthwaite, P. (2017). Machine learning methods for climbing route classification. \n",
    "\n",
    "    * Duh, Y. S., & Chang, R. (2021). Recurrent neural network for moonboard climbing route classification and generation. arXiv preprint arXiv:2102.01788.\n",
    "\n",
    "    * Kempen, L. (2018). A fair grade: assessing difficulty of climbing routes through machine learning. Formal methods and tools, University of Twente.\n",
    "\n",
    "    * Mandelli, G., & Angriman, A. (2019). Scales of difficulty in climbing. Retrieved, 22, 2019."
   ]
  }
 ],
 "metadata": {
  "kernelspec": {
   "display_name": "Python 3 (ipykernel)",
   "language": "python",
   "name": "python3"
  },
  "language_info": {
   "codemirror_mode": {
    "name": "ipython",
    "version": 3
   },
   "file_extension": ".py",
   "mimetype": "text/x-python",
   "name": "python",
   "nbconvert_exporter": "python",
   "pygments_lexer": "ipython3",
   "version": "3.8.12"
  }
 },
 "nbformat": 4,
 "nbformat_minor": 5
}
