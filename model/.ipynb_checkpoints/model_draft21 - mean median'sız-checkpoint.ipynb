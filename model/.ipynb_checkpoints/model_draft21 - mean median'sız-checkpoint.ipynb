{
 "cells": [
  {
   "cell_type": "code",
   "execution_count": 1,
   "metadata": {},
   "outputs": [],
   "source": [
    "# check version number\n",
    "import imblearn\n",
    "from collections import Counter\n",
    "from matplotlib import pyplot\n",
    "import pandas as pd\n",
    "from imblearn.over_sampling import SMOTE\n",
    "import numpy as np\n",
    "from numpy import std\n",
    "from numpy import mean\n",
    "from pandas import read_csv\n",
    "from sklearn.preprocessing import LabelEncoder\n",
    "from sklearn.model_selection import cross_val_score\n",
    "from sklearn.model_selection import RepeatedStratifiedKFold\n",
    "from sklearn.ensemble import RandomForestClassifier\n",
    "from sklearn.model_selection import train_test_split\n",
    "from sklearn.datasets import make_classification\n",
    "from sklearn.feature_selection import SelectKBest\n",
    "from sklearn.feature_selection import f_classif\n",
    "from sklearn.feature_selection import SelectFromModel"
   ]
  },
  {
   "cell_type": "code",
   "execution_count": 2,
   "metadata": {
    "scrolled": true
   },
   "outputs": [],
   "source": [
    "df = pd.read_csv(\"dataset_draft2.csv\")\n",
    "df.drop([\"median_diff_holds\",\"mean_diff_holds\",\"Grade_numeric\",\"Unnamed: 0\",\"holds\", \"Name\", \"Moves\", \"Holdsets\", \"Id\", \"lengths_of_moves\",\"Grade_thermo\",\"Grade_ohe\",\"numeric_grades\"], axis=1, inplace=True)\n"
   ]
  },
  {
   "cell_type": "code",
   "execution_count": 3,
   "metadata": {
    "scrolled": true
   },
   "outputs": [
    {
     "data": {
      "text/html": [
       "<div>\n",
       "<style scoped>\n",
       "    .dataframe tbody tr th:only-of-type {\n",
       "        vertical-align: middle;\n",
       "    }\n",
       "\n",
       "    .dataframe tbody tr th {\n",
       "        vertical-align: top;\n",
       "    }\n",
       "\n",
       "    .dataframe thead th {\n",
       "        text-align: right;\n",
       "    }\n",
       "</style>\n",
       "<table border=\"1\" class=\"dataframe\">\n",
       "  <thead>\n",
       "    <tr style=\"text-align: right;\">\n",
       "      <th></th>\n",
       "      <th>Grade</th>\n",
       "      <th>number_of_holds</th>\n",
       "      <th>downwards_count</th>\n",
       "      <th>only_upwards_count</th>\n",
       "      <th>yellow_count</th>\n",
       "      <th>black_count</th>\n",
       "      <th>white_count</th>\n",
       "      <th>only_sideways_count</th>\n",
       "      <th>yellow_percent</th>\n",
       "      <th>white_percent</th>\n",
       "      <th>black_percent</th>\n",
       "      <th>b_w_percent</th>\n",
       "      <th>downwards_percent</th>\n",
       "      <th>mean_distance_of_holds</th>\n",
       "    </tr>\n",
       "  </thead>\n",
       "  <tbody>\n",
       "    <tr>\n",
       "      <th>0</th>\n",
       "      <td>8B</td>\n",
       "      <td>4</td>\n",
       "      <td>3</td>\n",
       "      <td>1</td>\n",
       "      <td>1</td>\n",
       "      <td>3</td>\n",
       "      <td>0</td>\n",
       "      <td>0</td>\n",
       "      <td>0.250000</td>\n",
       "      <td>0.000</td>\n",
       "      <td>0.750000</td>\n",
       "      <td>0.750000</td>\n",
       "      <td>0.750</td>\n",
       "      <td>8.005032</td>\n",
       "    </tr>\n",
       "    <tr>\n",
       "      <th>1</th>\n",
       "      <td>8A+</td>\n",
       "      <td>6</td>\n",
       "      <td>6</td>\n",
       "      <td>0</td>\n",
       "      <td>5</td>\n",
       "      <td>1</td>\n",
       "      <td>0</td>\n",
       "      <td>0</td>\n",
       "      <td>0.833333</td>\n",
       "      <td>0.000</td>\n",
       "      <td>0.166667</td>\n",
       "      <td>0.166667</td>\n",
       "      <td>1.000</td>\n",
       "      <td>8.611438</td>\n",
       "    </tr>\n",
       "    <tr>\n",
       "      <th>2</th>\n",
       "      <td>8A+</td>\n",
       "      <td>8</td>\n",
       "      <td>6</td>\n",
       "      <td>2</td>\n",
       "      <td>8</td>\n",
       "      <td>0</td>\n",
       "      <td>0</td>\n",
       "      <td>0</td>\n",
       "      <td>1.000000</td>\n",
       "      <td>0.000</td>\n",
       "      <td>0.000000</td>\n",
       "      <td>0.000000</td>\n",
       "      <td>0.750</td>\n",
       "      <td>8.039489</td>\n",
       "    </tr>\n",
       "    <tr>\n",
       "      <th>3</th>\n",
       "      <td>8A</td>\n",
       "      <td>8</td>\n",
       "      <td>7</td>\n",
       "      <td>1</td>\n",
       "      <td>2</td>\n",
       "      <td>3</td>\n",
       "      <td>3</td>\n",
       "      <td>0</td>\n",
       "      <td>0.250000</td>\n",
       "      <td>0.375</td>\n",
       "      <td>0.375000</td>\n",
       "      <td>0.750000</td>\n",
       "      <td>0.875</td>\n",
       "      <td>8.163433</td>\n",
       "    </tr>\n",
       "    <tr>\n",
       "      <th>4</th>\n",
       "      <td>8A</td>\n",
       "      <td>8</td>\n",
       "      <td>7</td>\n",
       "      <td>1</td>\n",
       "      <td>8</td>\n",
       "      <td>0</td>\n",
       "      <td>0</td>\n",
       "      <td>0</td>\n",
       "      <td>1.000000</td>\n",
       "      <td>0.000</td>\n",
       "      <td>0.000000</td>\n",
       "      <td>0.000000</td>\n",
       "      <td>0.875</td>\n",
       "      <td>7.282818</td>\n",
       "    </tr>\n",
       "  </tbody>\n",
       "</table>\n",
       "</div>"
      ],
      "text/plain": [
       "  Grade  number_of_holds  downwards_count  only_upwards_count  yellow_count  \\\n",
       "0    8B                4                3                   1             1   \n",
       "1   8A+                6                6                   0             5   \n",
       "2   8A+                8                6                   2             8   \n",
       "3    8A                8                7                   1             2   \n",
       "4    8A                8                7                   1             8   \n",
       "\n",
       "   black_count  white_count  only_sideways_count  yellow_percent  \\\n",
       "0            3            0                    0        0.250000   \n",
       "1            1            0                    0        0.833333   \n",
       "2            0            0                    0        1.000000   \n",
       "3            3            3                    0        0.250000   \n",
       "4            0            0                    0        1.000000   \n",
       "\n",
       "   white_percent  black_percent  b_w_percent  downwards_percent  \\\n",
       "0          0.000       0.750000     0.750000              0.750   \n",
       "1          0.000       0.166667     0.166667              1.000   \n",
       "2          0.000       0.000000     0.000000              0.750   \n",
       "3          0.375       0.375000     0.750000              0.875   \n",
       "4          0.000       0.000000     0.000000              0.875   \n",
       "\n",
       "   mean_distance_of_holds  \n",
       "0                8.005032  \n",
       "1                8.611438  \n",
       "2                8.039489  \n",
       "3                8.163433  \n",
       "4                7.282818  "
      ]
     },
     "execution_count": 3,
     "metadata": {},
     "output_type": "execute_result"
    }
   ],
   "source": [
    "df.head(5)"
   ]
  },
  {
   "cell_type": "code",
   "execution_count": 45,
   "metadata": {},
   "outputs": [
    {
     "data": {
      "text/plain": [
       "7.142536659927051"
      ]
     },
     "execution_count": 45,
     "metadata": {},
     "output_type": "execute_result"
    }
   ],
   "source": [
    "df[\"mean_distance_of_holds\"].mean()\n"
   ]
  },
  {
   "cell_type": "code",
   "execution_count": 49,
   "metadata": {
    "scrolled": true
   },
   "outputs": [
    {
     "data": {
      "text/plain": [
       "array([8.00503193, 8.61143767, 8.03948906, 8.16343277, 7.28281846,\n",
       "       7.28756886, 8.13143268, 6.82163494, 8.5041902 , 7.10071828,\n",
       "       7.05285086, 7.95715898, 7.89449109, 8.24933215, 7.81596361,\n",
       "       7.92483697, 7.47752964, 8.37605005, 7.29186733, 7.62726996,\n",
       "       6.99295672, 8.02933302, 6.58540826, 8.86696018, 8.15321828,\n",
       "       8.05284101, 7.77440505, 8.33333333, 7.46496488, 7.69401341,\n",
       "       8.18471802, 6.97443464, 8.41226715, 6.94671578, 7.43572761,\n",
       "       7.68667079, 8.09761418, 9.24511042, 7.25558841, 7.89525318,\n",
       "       7.05752526, 7.12456665, 6.71144098, 6.06233328, 6.41200105,\n",
       "       7.28455384, 6.72388841, 7.57965364, 6.79972039, 6.56277575,\n",
       "       6.95868233, 7.34684482, 6.35422345, 6.85522008, 6.29741234,\n",
       "       6.52395963, 6.88448854, 6.5501899 , 7.50697884, 5.78534717,\n",
       "       7.43574722, 6.57193303, 6.52221295, 6.46568694, 6.84709158,\n",
       "       6.68296078, 7.47576733, 7.37804026, 6.29174676, 6.7119985 ,\n",
       "       6.55266884, 6.47130638, 6.50268602, 7.19523961, 6.14790927,\n",
       "       6.39984099, 6.8483519 , 6.11585281, 6.9418023 , 6.04025758,\n",
       "       6.65713638, 6.87409813, 6.73860656, 6.22938023, 6.94300024,\n",
       "       6.21311825, 6.44635618, 7.64131654, 6.99254964, 5.9656942 ,\n",
       "       6.68041941, 6.92579547, 6.88336739, 6.61772709, 6.63109913,\n",
       "       6.52069649, 6.44402607, 7.42460838, 6.55322513, 6.91172821,\n",
       "       6.60712773, 6.62400141, 5.68752082, 6.12083536, 6.81733597,\n",
       "       7.19073362, 6.33913458, 7.22169264, 6.86213684, 7.06364302,\n",
       "       7.36395415, 7.0978412 , 6.33956135, 7.82079478, 6.99004066,\n",
       "       6.25337631, 5.68791505, 7.43212098, 6.86403331, 6.1771059 ,\n",
       "       6.74770146, 6.17609183, 6.58966533, 6.13041873, 7.33345697,\n",
       "       6.8300048 , 6.40516172, 6.34624182, 6.99221467, 6.72051363,\n",
       "       6.66676367, 6.79179832, 7.64249212, 8.10304703, 7.31545116,\n",
       "       7.63662806, 6.55356373, 7.52335741, 6.50539867, 7.80455882,\n",
       "       7.43775222, 7.11195453, 9.17183916, 7.35878203, 7.00588438,\n",
       "       7.92641015, 7.30045256, 6.76401329, 6.71685088, 7.64445417,\n",
       "       7.37898314, 7.70542006, 6.06057667, 7.89584749, 7.47577156,\n",
       "       7.53093176, 7.89972243, 8.80300852, 7.41394202, 7.95637278,\n",
       "       7.76404929, 7.18444261, 7.80233985, 8.32914892, 6.48536926,\n",
       "       8.6831171 , 8.75655795, 7.07491818, 7.21903785, 7.02592192,\n",
       "       6.8137291 , 7.90675799, 7.48339343, 6.9040279 , 7.02800903,\n",
       "       7.84430119, 6.62869711, 6.96731534, 7.13250228, 7.51620665,\n",
       "       7.72114506, 7.50491283, 7.44483728, 7.38509312, 7.05366049,\n",
       "       6.65290995, 6.39862709, 7.11913522, 7.00577522, 6.9613335 ,\n",
       "       7.33960594, 6.98597663, 7.78441947, 7.24286401, 7.10773752,\n",
       "       6.50004062, 6.83914509, 7.94814125, 6.92347594, 7.40129935,\n",
       "       7.71627626, 7.04389496, 6.93806962, 6.60779631, 6.85115403,\n",
       "       7.44296436, 6.81540254, 8.01333857, 7.2344251 , 6.77022988,\n",
       "       7.30811871, 7.77601197, 7.79532443, 7.70347988, 6.62989832,\n",
       "       8.12093583, 8.40418796, 7.50488001, 7.00121952, 7.70895447,\n",
       "       8.52158132, 7.58943295, 6.74808207, 7.10280125, 7.25809548,\n",
       "       8.04889463, 6.83657257, 7.38725628, 6.87285616, 8.05205163,\n",
       "       7.3500027 , 6.28221112, 7.39494073, 6.7029196 , 7.259445  ,\n",
       "       7.10056715, 7.17110912, 6.6122224 , 7.94205377, 7.83343091,\n",
       "       6.89843078, 7.22297402, 6.73205713, 7.44851399, 7.26155757,\n",
       "       7.00537856, 7.04024278, 6.58454427, 6.63144565, 6.93291434,\n",
       "       7.46508058, 7.08460303, 7.57526637, 7.04994756, 6.73379272,\n",
       "       6.87912186, 6.98438801, 8.14134986, 8.03144171, 7.15431589,\n",
       "       8.5224707 , 7.22126067, 7.13330894, 7.04846156, 7.20629459,\n",
       "       6.8317461 , 7.1162127 , 8.18681276, 8.05850758, 6.77508871,\n",
       "       7.37199243, 6.79836012, 6.97091597, 5.94167972, 6.71287252,\n",
       "       7.03634781, 7.10625564, 7.18137284, 7.60045345, 6.98265502,\n",
       "       7.9071713 , 6.38828225, 6.6492274 , 8.76216509, 7.08493149,\n",
       "       6.81207504, 8.35323075, 7.86178709, 7.56643604, 6.51315532,\n",
       "       7.2796318 , 7.11860026, 7.40467649, 7.59904565, 6.9763491 ,\n",
       "       7.53496796, 7.00678472, 7.71035906, 7.36780787, 6.90672331,\n",
       "       6.92348826, 7.1328711 , 6.5884379 , 7.48053267, 7.82359065,\n",
       "       7.07972813, 6.20969221, 7.25012712, 6.46077599, 6.76021072,\n",
       "       5.92921857, 7.46193738, 6.96583765, 7.01925555, 6.99526919,\n",
       "       6.35011607, 7.74791144, 7.41108163, 6.52375579, 7.34331659,\n",
       "       7.25880918, 7.13480741, 7.42145123, 6.40370409, 6.70121035,\n",
       "       6.74832641, 7.33529069, 7.15136902, 7.52807741, 7.05277313,\n",
       "       6.84298694, 7.34167221, 6.62585904, 6.84006359, 6.67064559,\n",
       "       6.39682   , 7.92285734, 6.37118819, 6.64841757, 7.12237554,\n",
       "       6.38197295, 7.03302435, 7.25768072, 7.91483526, 7.78215031,\n",
       "       8.00939005, 7.75171587, 7.47478096, 7.0553341 , 7.01610492,\n",
       "       7.52284701, 8.07177102, 8.2342741 , 8.14893812, 7.35222083,\n",
       "       7.51434001, 6.48220873, 6.82483246, 6.6192956 , 7.50476814,\n",
       "       7.07402998, 6.93983174, 6.63706979, 6.90163537, 6.89534935,\n",
       "       7.35044661, 6.92606031, 6.86318906, 6.87905535, 7.24926983,\n",
       "       6.28669964, 6.20800344, 6.95935144, 7.11006078, 7.54872199,\n",
       "       6.09543568, 6.9610625 , 7.17208472, 7.29834559, 6.06922061,\n",
       "       7.22061364, 6.81425001, 6.405869  , 6.64439775, 7.28800897,\n",
       "       6.70196044, 6.85405442, 6.64443389, 8.44928886, 6.55339336,\n",
       "       7.0223692 , 6.95447039, 6.82733699, 6.90016608, 6.41009379,\n",
       "       7.34188196, 6.70751148, 6.54778504, 6.8499999 , 6.9429591 ,\n",
       "       7.43383952, 7.93751869, 7.43047139, 6.79125798, 6.60701496,\n",
       "       7.00156138, 7.81366254, 6.30437544, 6.92233572, 6.42684576,\n",
       "       7.35757104, 7.43765621, 7.21296573, 7.9588899 , 8.2282112 ,\n",
       "       7.57958296, 6.37275271, 8.17856349, 7.95338133, 6.80340041,\n",
       "       6.28744725, 6.81608437, 7.21044423, 6.71210945, 7.08638728,\n",
       "       7.35642446, 6.9672397 , 6.79084082, 6.89248103, 6.27406   ,\n",
       "       7.32587273, 7.35698477, 7.01868106, 7.26701991, 7.23655613,\n",
       "       5.97471262, 6.80870714, 7.04799099, 7.15739818, 7.25101449,\n",
       "       6.86034976, 7.02033773, 6.72501032, 6.73804065, 7.27009691,\n",
       "       7.44936313, 6.77618641, 5.93627665, 6.97396172, 7.82948969,\n",
       "       6.98767831])"
      ]
     },
     "execution_count": 49,
     "metadata": {},
     "output_type": "execute_result"
    }
   ],
   "source": [
    "df[\"mean_distance_of_holds\"].values"
   ]
  },
  {
   "cell_type": "code",
   "execution_count": 46,
   "metadata": {},
   "outputs": [
    {
     "data": {
      "text/plain": [
       "0.6026827979746037"
      ]
     },
     "execution_count": 46,
     "metadata": {},
     "output_type": "execute_result"
    }
   ],
   "source": [
    "df[\"mean_distance_of_holds\"].std()"
   ]
  },
  {
   "cell_type": "code",
   "execution_count": 47,
   "metadata": {},
   "outputs": [
    {
     "data": {
      "text/plain": [
       "9.24511042088765"
      ]
     },
     "execution_count": 47,
     "metadata": {},
     "output_type": "execute_result"
    }
   ],
   "source": [
    "df[\"mean_distance_of_holds\"].max()"
   ]
  },
  {
   "cell_type": "code",
   "execution_count": 48,
   "metadata": {},
   "outputs": [
    {
     "data": {
      "text/plain": [
       "5.687520817680579"
      ]
     },
     "execution_count": 48,
     "metadata": {},
     "output_type": "execute_result"
    }
   ],
   "source": [
    "df[\"mean_distance_of_holds\"].min()"
   ]
  },
  {
   "cell_type": "code",
   "execution_count": null,
   "metadata": {},
   "outputs": [],
   "source": []
  },
  {
   "cell_type": "code",
   "execution_count": 56,
   "metadata": {},
   "outputs": [
    {
     "data": {
      "image/png": "[encoded data removed]",
      "text/plain": [
       "<Figure size 432x288 with 1 Axes>"
      ]
     },
     "metadata": {
      "needs_background": "light"
     },
     "output_type": "display_data"
    }
   ],
   "source": [
    "import numpy as np\n",
    "\n",
    "y = np.sort(df[\"mean_distance_of_holds\"].values)\n",
    "\n",
    "\n",
    "plt.plot(y)\n",
    "\n",
    "plt.show()"
   ]
  },
  {
   "cell_type": "code",
   "execution_count": 4,
   "metadata": {
    "scrolled": true
   },
   "outputs": [
    {
     "name": "stderr",
     "output_type": "stream",
     "text": [
      "C:\\Users\\mertt\\anaconda3\\envs\\tf\\lib\\site-packages\\sklearn\\preprocessing\\_label.py:115: DataConversionWarning: A column-vector y was passed when a 1d array was expected. Please change the shape of y to (n_samples, ), for example using ravel().\n",
      "  y = column_or_1d(y, warn=True)\n",
      "C:\\Users\\mertt\\anaconda3\\envs\\tf\\lib\\site-packages\\imblearn\\utils\\_validation.py:299: UserWarning: After over-sampling, the number of samples (400) in class 0 will be larger than the number of samples in the majority class (class #4 -> 69)\n",
      "  warnings.warn(\n",
      "C:\\Users\\mertt\\anaconda3\\envs\\tf\\lib\\site-packages\\imblearn\\utils\\_validation.py:299: UserWarning: After over-sampling, the number of samples (400) in class 1 will be larger than the number of samples in the majority class (class #4 -> 69)\n",
      "  warnings.warn(\n",
      "C:\\Users\\mertt\\anaconda3\\envs\\tf\\lib\\site-packages\\imblearn\\utils\\_validation.py:299: UserWarning: After over-sampling, the number of samples (400) in class 2 will be larger than the number of samples in the majority class (class #4 -> 69)\n",
      "  warnings.warn(\n",
      "C:\\Users\\mertt\\anaconda3\\envs\\tf\\lib\\site-packages\\imblearn\\utils\\_validation.py:299: UserWarning: After over-sampling, the number of samples (400) in class 3 will be larger than the number of samples in the majority class (class #4 -> 69)\n",
      "  warnings.warn(\n",
      "C:\\Users\\mertt\\anaconda3\\envs\\tf\\lib\\site-packages\\imblearn\\utils\\_validation.py:299: UserWarning: After over-sampling, the number of samples (400) in class 4 will be larger than the number of samples in the majority class (class #4 -> 69)\n",
      "  warnings.warn(\n",
      "C:\\Users\\mertt\\anaconda3\\envs\\tf\\lib\\site-packages\\imblearn\\utils\\_validation.py:299: UserWarning: After over-sampling, the number of samples (400) in class 5 will be larger than the number of samples in the majority class (class #4 -> 69)\n",
      "  warnings.warn(\n",
      "C:\\Users\\mertt\\anaconda3\\envs\\tf\\lib\\site-packages\\imblearn\\utils\\_validation.py:299: UserWarning: After over-sampling, the number of samples (400) in class 6 will be larger than the number of samples in the majority class (class #4 -> 69)\n",
      "  warnings.warn(\n",
      "C:\\Users\\mertt\\anaconda3\\envs\\tf\\lib\\site-packages\\imblearn\\utils\\_validation.py:299: UserWarning: After over-sampling, the number of samples (400) in class 7 will be larger than the number of samples in the majority class (class #4 -> 69)\n",
      "  warnings.warn(\n",
      "C:\\Users\\mertt\\anaconda3\\envs\\tf\\lib\\site-packages\\imblearn\\utils\\_validation.py:299: UserWarning: After over-sampling, the number of samples (400) in class 8 will be larger than the number of samples in the majority class (class #4 -> 69)\n",
      "  warnings.warn(\n",
      "C:\\Users\\mertt\\anaconda3\\envs\\tf\\lib\\site-packages\\imblearn\\utils\\_validation.py:299: UserWarning: After over-sampling, the number of samples (400) in class 9 will be larger than the number of samples in the majority class (class #4 -> 69)\n",
      "  warnings.warn(\n"
     ]
    },
    {
     "name": "stdout",
     "output_type": "stream",
     "text": [
      "Class=11, n=1 (0.025%)\n",
      "Class=10, n=2 (0.050%)\n",
      "Class=9, n=400 (9.993%)\n",
      "Class=8, n=400 (9.993%)\n",
      "Class=1, n=400 (9.993%)\n",
      "Class=0, n=400 (9.993%)\n",
      "Class=7, n=400 (9.993%)\n",
      "Class=6, n=400 (9.993%)\n",
      "Class=5, n=400 (9.993%)\n",
      "Class=4, n=400 (9.993%)\n",
      "Class=3, n=400 (9.993%)\n",
      "Class=2, n=400 (9.993%)\n"
     ]
    },
    {
     "data": {
      "image/png": "[encoded data removed]",
      "text/plain": [
       "<Figure size 432x288 with 1 Axes>"
      ]
     },
     "metadata": {
      "needs_background": "light"
     },
     "output_type": "display_data"
    }
   ],
   "source": [
    "\n",
    "data = df.values\n",
    "X, y =  data[:, 1:], data[:, [0]]\n",
    "# label encode the target variable\n",
    "y = LabelEncoder().fit_transform(y)\n",
    "\n",
    "\n",
    "# transform the dataset\n",
    "strategy = {0:400, 1:400, 2:400, 3:400, 4:400, 5:400, 6:400,7:400,8:400,9:400}\n",
    "oversample = SMOTE(sampling_strategy=strategy)\n",
    "X, y = oversample.fit_resample(X, y)\n",
    "# summarize distribution\n",
    "counter = Counter(y)\n",
    "for k,v in counter.items():\n",
    "    per = v / len(y) * 100\n",
    "    print('Class=%d, n=%d (%.3f%%)' % (k, v, per))\n",
    "# plot the distribution\n",
    "pyplot.bar(counter.keys(), counter.values())\n",
    "pyplot.show()"
   ]
  },
  {
   "cell_type": "code",
   "execution_count": 5,
   "metadata": {},
   "outputs": [],
   "source": [
    "def evaluate_model(X, y, model):\n",
    "    # define evaluation procedure\n",
    "    cv = RepeatedStratifiedKFold(n_splits=5, n_repeats=4, random_state=1)\n",
    "    # evaluate model\n",
    "    scores = cross_val_score(model, X, y, scoring='accuracy', cv=cv, n_jobs=-1)\n",
    "    return scores"
   ]
  },
  {
   "cell_type": "code",
   "execution_count": 6,
   "metadata": {},
   "outputs": [],
   "source": [
    "# split in to train test sets\n",
    "X_train, X_test, y_train, y_test = train_test_split(X, y, test_size=0.25, random_state=1)"
   ]
  },
  {
   "cell_type": "code",
   "execution_count": 21,
   "metadata": {
    "scrolled": true
   },
   "outputs": [],
   "source": [
    "# feature selection\n",
    "\n",
    "#sel = SelectFromModel(RandomForestClassifier(n_estimators = 100))\n",
    "#sel.fit(X_train, y_train)\n",
    "#sel.get_support()\n",
    "#pd.series(sel.estimator_,feature_importances_,.ravel()).hist()"
   ]
  },
  {
   "cell_type": "code",
   "execution_count": 7,
   "metadata": {},
   "outputs": [
    {
     "name": "stderr",
     "output_type": "stream",
     "text": [
      "C:\\Users\\mertt\\anaconda3\\envs\\tf\\lib\\site-packages\\sklearn\\model_selection\\_split.py:680: UserWarning: The least populated class in y has only 1 members, which is less than n_splits=5.\n",
      "  warnings.warn(\n"
     ]
    }
   ],
   "source": [
    "parameters = {\n",
    "    \"n_estimators\":[5,10,50,100,250,500,1000],\n",
    "    \"max_depth\":[2,4,8,16,32,None]\n",
    "}\n",
    "weights = {0:2.0, 1:2.0, 2:2.0, 3:5.0, 4:5.0, 5:2.0, 6:2.0,  7:2.0, 8:2.0, 9:2.0, 10:1.0, 11:1.0}\n",
    "model = RandomForestClassifier(class_weight=weights)\n",
    "\n",
    "from sklearn.model_selection import GridSearchCV\n",
    "cv = GridSearchCV(model,parameters,cv=5)\n",
    "cv.fit(X_train,y_train.ravel())\n",
    "\n",
    "def display(results):\n",
    "    print(f'Best parameters are: {results.best_params_}')\n",
    "    print(\"\\n\")\n",
    "    mean_score = results.cv_results_['mean_test_score']\n",
    "    std_score = results.cv_results_['std_test_score']\n",
    "    params = results.cv_results_['params']\n",
    "    for mean,std,params in zip(mean_score,std_score,params):\n",
    "        print(f'{round(mean,3)} + or -{round(std,3)} for the {params}')"
   ]
  },
  {
   "cell_type": "code",
   "execution_count": 23,
   "metadata": {
    "scrolled": false
   },
   "outputs": [
    {
     "name": "stdout",
     "output_type": "stream",
     "text": [
      "Best parameters are: {'max_depth': None, 'n_estimators': 250}\n",
      "\n",
      "\n",
      "0.191 + or -0.014 for the {'max_depth': 2, 'n_estimators': 5}\n",
      "0.2 + or -0.01 for the {'max_depth': 2, 'n_estimators': 10}\n",
      "0.202 + or -0.005 for the {'max_depth': 2, 'n_estimators': 50}\n",
      "0.206 + or -0.003 for the {'max_depth': 2, 'n_estimators': 100}\n",
      "0.205 + or -0.005 for the {'max_depth': 2, 'n_estimators': 250}\n",
      "0.207 + or -0.003 for the {'max_depth': 2, 'n_estimators': 500}\n",
      "0.208 + or -0.005 for the {'max_depth': 2, 'n_estimators': 1000}\n",
      "0.329 + or -0.013 for the {'max_depth': 4, 'n_estimators': 5}\n",
      "0.352 + or -0.015 for the {'max_depth': 4, 'n_estimators': 10}\n",
      "0.353 + or -0.015 for the {'max_depth': 4, 'n_estimators': 50}\n",
      "0.354 + or -0.013 for the {'max_depth': 4, 'n_estimators': 100}\n",
      "0.349 + or -0.014 for the {'max_depth': 4, 'n_estimators': 250}\n",
      "0.353 + or -0.01 for the {'max_depth': 4, 'n_estimators': 500}\n",
      "0.352 + or -0.014 for the {'max_depth': 4, 'n_estimators': 1000}\n",
      "0.572 + or -0.01 for the {'max_depth': 8, 'n_estimators': 5}\n",
      "0.614 + or -0.015 for the {'max_depth': 8, 'n_estimators': 10}\n",
      "0.641 + or -0.01 for the {'max_depth': 8, 'n_estimators': 50}\n",
      "0.646 + or -0.006 for the {'max_depth': 8, 'n_estimators': 100}\n",
      "0.655 + or -0.004 for the {'max_depth': 8, 'n_estimators': 250}\n",
      "0.653 + or -0.008 for the {'max_depth': 8, 'n_estimators': 500}\n",
      "0.654 + or -0.005 for the {'max_depth': 8, 'n_estimators': 1000}\n",
      "0.683 + or -0.01 for the {'max_depth': 16, 'n_estimators': 5}\n",
      "0.722 + or -0.012 for the {'max_depth': 16, 'n_estimators': 10}\n",
      "0.743 + or -0.009 for the {'max_depth': 16, 'n_estimators': 50}\n",
      "0.747 + or -0.012 for the {'max_depth': 16, 'n_estimators': 100}\n",
      "0.744 + or -0.013 for the {'max_depth': 16, 'n_estimators': 250}\n",
      "0.749 + or -0.01 for the {'max_depth': 16, 'n_estimators': 500}\n",
      "0.748 + or -0.012 for the {'max_depth': 16, 'n_estimators': 1000}\n",
      "0.697 + or -0.011 for the {'max_depth': 32, 'n_estimators': 5}\n",
      "0.726 + or -0.013 for the {'max_depth': 32, 'n_estimators': 10}\n",
      "0.747 + or -0.012 for the {'max_depth': 32, 'n_estimators': 50}\n",
      "0.749 + or -0.008 for the {'max_depth': 32, 'n_estimators': 100}\n",
      "0.746 + or -0.012 for the {'max_depth': 32, 'n_estimators': 250}\n",
      "0.746 + or -0.011 for the {'max_depth': 32, 'n_estimators': 500}\n",
      "0.748 + or -0.009 for the {'max_depth': 32, 'n_estimators': 1000}\n",
      "0.701 + or -0.008 for the {'max_depth': None, 'n_estimators': 5}\n",
      "0.711 + or -0.021 for the {'max_depth': None, 'n_estimators': 10}\n",
      "0.745 + or -0.013 for the {'max_depth': None, 'n_estimators': 50}\n",
      "0.746 + or -0.012 for the {'max_depth': None, 'n_estimators': 100}\n",
      "0.75 + or -0.012 for the {'max_depth': None, 'n_estimators': 250}\n",
      "0.747 + or -0.01 for the {'max_depth': None, 'n_estimators': 500}\n",
      "0.748 + or -0.011 for the {'max_depth': None, 'n_estimators': 1000}\n"
     ]
    }
   ],
   "source": [
    "display(cv)"
   ]
  },
  {
   "cell_type": "code",
   "execution_count": 33,
   "metadata": {
    "scrolled": true
   },
   "outputs": [
    {
     "name": "stderr",
     "output_type": "stream",
     "text": [
      "C:\\Users\\mertt\\anaconda3\\envs\\tf\\lib\\site-packages\\sklearn\\model_selection\\_split.py:680: UserWarning: The least populated class in y has only 1 members, which is less than n_splits=5.\n",
      "  warnings.warn(\n",
      "C:\\Users\\mertt\\anaconda3\\envs\\tf\\lib\\site-packages\\sklearn\\model_selection\\_split.py:680: UserWarning: The least populated class in y has only 1 members, which is less than n_splits=5.\n",
      "  warnings.warn(\n",
      "C:\\Users\\mertt\\anaconda3\\envs\\tf\\lib\\site-packages\\sklearn\\model_selection\\_split.py:680: UserWarning: The least populated class in y has only 1 members, which is less than n_splits=5.\n",
      "  warnings.warn(\n",
      "C:\\Users\\mertt\\anaconda3\\envs\\tf\\lib\\site-packages\\sklearn\\model_selection\\_split.py:680: UserWarning: The least populated class in y has only 1 members, which is less than n_splits=5.\n",
      "  warnings.warn(\n"
     ]
    },
    {
     "name": "stdout",
     "output_type": "stream",
     "text": [
      "Mean Accuracy: 0.761 (0.021)\n"
     ]
    }
   ],
   "source": [
    "## generate dataset\n",
    "#X_train, y_train = make_classification(n_samples=100, n_features=7, n_informative=2)\n",
    "## define feature selection\n",
    "#fs = SelectKBest(score_func=f_classif, k=5)\n",
    "## apply feature selection\n",
    "#X_selected = fs.fit_transform(X_train, y_train)\n",
    "#print(X_selected.shape)\n",
    "\n",
    "weights = {0:2.0, 1:2.0, 2:2.0, 3:4.0, 4:4.0, 5:2.0, 6:2.0,  7:2.0, 8:2.0, 9:2.0, 10:1.0, 11:1.0}\n",
    "model = RandomForestClassifier(max_depth=None,n_estimators=1000,class_weight=weights)\n",
    "scores = evaluate_model(X_train, y_train, model)\n",
    "model.fit(X_train, y_train)\n",
    "print('Mean Accuracy: %.3f (%.3f)' % (mean(scores), std(scores)))"
   ]
  },
  {
   "cell_type": "code",
   "execution_count": null,
   "metadata": {},
   "outputs": [],
   "source": []
  },
  {
   "cell_type": "code",
   "execution_count": 31,
   "metadata": {},
   "outputs": [
    {
     "data": {
      "image/png": "[encoded data removed]",
      "text/plain": [
       "<Figure size 360x288 with 2 Axes>"
      ]
     },
     "metadata": {
      "needs_background": "light"
     },
     "output_type": "display_data"
    }
   ],
   "source": [
    "# training confusion matrix\n",
    "\n",
    "y_pred = model.predict(X_train)\n",
    "confusion_matrix = metrics.confusion_matrix(y_train, y_pred)\n",
    "confusion_matrix_df = pd.DataFrame(confusion_matrix,\n",
    ")\n",
    "\n",
    "plt.figure(figsize=(5,4))\n",
    "sns.heatmap(confusion_matrix_df, annot=True)\n",
    "plt.title('Confusion Matrix')\n",
    "plt.ylabel('Actal Values')\n",
    "plt.xlabel('Predicted Values')\n",
    "plt.show()"
   ]
  },
  {
   "cell_type": "code",
   "execution_count": 35,
   "metadata": {},
   "outputs": [
    {
     "name": "stdout",
     "output_type": "stream",
     "text": [
      "297\n",
      "292\n",
      "292\n",
      "299\n",
      "308\n",
      "290\n",
      "308\n",
      "310\n",
      "301\n",
      "302\n",
      "2\n",
      "1\n"
     ]
    },
    {
     "data": {
      "text/plain": [
       "1.0"
      ]
     },
     "execution_count": 35,
     "metadata": {},
     "output_type": "execute_result"
    }
   ],
   "source": [
    "nom = 0\n",
    "denom = 0\n",
    "for i in range(len(confusion_matrix)):\n",
    "    print(confusion_matrix[i][i])\n",
    "    nom += confusion_matrix[i][i]\n",
    "    denom += sum(list(confusion_matrix[i]))\n",
    "\n",
    "nom/denom"
   ]
  },
  {
   "cell_type": "code",
   "execution_count": null,
   "metadata": {},
   "outputs": [],
   "source": []
  },
  {
   "cell_type": "code",
   "execution_count": 11,
   "metadata": {
    "scrolled": true
   },
   "outputs": [
    {
     "name": "stdout",
     "output_type": "stream",
     "text": [
      "Mean Accuracy: 0.635 (0.030)\n"
     ]
    }
   ],
   "source": [
    "# generate dataset\n",
    "#X_test, y_test = make_classification(n_samples=100, n_features=10, n_informative=2)\n",
    "# define feature selection\n",
    "#fs = SelectKBest(score_func=f_classif, k=5)\n",
    "## apply feature selection\n",
    "#X_test_selected = fs.fit_transform(X_test, y_test)\n",
    "#print(X_test_selected.shape)\n",
    "\n",
    "scores = evaluate_model(X_test, y_test, model)\n",
    "print('Mean Accuracy: %.3f (%.3f)' % (mean(scores), std(scores)))"
   ]
  },
  {
   "cell_type": "code",
   "execution_count": 36,
   "metadata": {
    "scrolled": true
   },
   "outputs": [
    {
     "data": {
      "image/png": "[encoded data removed]",
      "text/plain": [
       "<Figure size 360x288 with 2 Axes>"
      ]
     },
     "metadata": {
      "needs_background": "light"
     },
     "output_type": "display_data"
    }
   ],
   "source": [
    "from sklearn import metrics\n",
    "import seaborn as sns\n",
    "import matplotlib.pyplot as plt\n",
    "\n",
    "y_pred = model.predict(X_test)\n",
    "confusion_matrix = metrics.confusion_matrix(y_test, y_pred)\n",
    "confusion_matrix_df = pd.DataFrame(confusion_matrix,\n",
    ")\n",
    "\n",
    "plt.figure(figsize=(5,4))\n",
    "sns.heatmap(confusion_matrix_df, annot=True)\n",
    "plt.title('Confusion Matrix')\n",
    "plt.ylabel('Actal Values')\n",
    "plt.xlabel('Predicted Values')\n",
    "plt.show()"
   ]
  },
  {
   "cell_type": "code",
   "execution_count": 38,
   "metadata": {},
   "outputs": [
    {
     "name": "stdout",
     "output_type": "stream",
     "text": [
      "778\n",
      "1001\n"
     ]
    },
    {
     "data": {
      "text/plain": [
       "0.7772227772227772"
      ]
     },
     "execution_count": 38,
     "metadata": {},
     "output_type": "execute_result"
    }
   ],
   "source": [
    "nom = 0\n",
    "denom = 0\n",
    "for i in range(len(confusion_matrix)):\n",
    "    \n",
    "    nom += confusion_matrix[i][i]\n",
    "    denom += sum(list(confusion_matrix[i]))\n",
    "\n",
    "print(nom)\n",
    "print(denom)\n",
    "nom/denom"
   ]
  },
  {
   "cell_type": "code",
   "execution_count": 13,
   "metadata": {
    "scrolled": true
   },
   "outputs": [
    {
     "data": {
      "text/html": [
       "<div>\n",
       "<style scoped>\n",
       "    .dataframe tbody tr th:only-of-type {\n",
       "        vertical-align: middle;\n",
       "    }\n",
       "\n",
       "    .dataframe tbody tr th {\n",
       "        vertical-align: top;\n",
       "    }\n",
       "\n",
       "    .dataframe thead th {\n",
       "        text-align: right;\n",
       "    }\n",
       "</style>\n",
       "<table border=\"1\" class=\"dataframe\">\n",
       "  <thead>\n",
       "    <tr style=\"text-align: right;\">\n",
       "      <th></th>\n",
       "      <th>0</th>\n",
       "      <th>1</th>\n",
       "      <th>2</th>\n",
       "      <th>3</th>\n",
       "      <th>4</th>\n",
       "      <th>5</th>\n",
       "      <th>6</th>\n",
       "      <th>7</th>\n",
       "      <th>8</th>\n",
       "      <th>9</th>\n",
       "    </tr>\n",
       "  </thead>\n",
       "  <tbody>\n",
       "    <tr>\n",
       "      <th>0</th>\n",
       "      <td>76</td>\n",
       "      <td>17</td>\n",
       "      <td>2</td>\n",
       "      <td>5</td>\n",
       "      <td>2</td>\n",
       "      <td>1</td>\n",
       "      <td>0</td>\n",
       "      <td>0</td>\n",
       "      <td>0</td>\n",
       "      <td>0</td>\n",
       "    </tr>\n",
       "    <tr>\n",
       "      <th>1</th>\n",
       "      <td>10</td>\n",
       "      <td>76</td>\n",
       "      <td>2</td>\n",
       "      <td>12</td>\n",
       "      <td>4</td>\n",
       "      <td>3</td>\n",
       "      <td>1</td>\n",
       "      <td>0</td>\n",
       "      <td>0</td>\n",
       "      <td>0</td>\n",
       "    </tr>\n",
       "    <tr>\n",
       "      <th>2</th>\n",
       "      <td>2</td>\n",
       "      <td>6</td>\n",
       "      <td>79</td>\n",
       "      <td>7</td>\n",
       "      <td>4</td>\n",
       "      <td>4</td>\n",
       "      <td>2</td>\n",
       "      <td>2</td>\n",
       "      <td>2</td>\n",
       "      <td>0</td>\n",
       "    </tr>\n",
       "    <tr>\n",
       "      <th>3</th>\n",
       "      <td>3</td>\n",
       "      <td>8</td>\n",
       "      <td>2</td>\n",
       "      <td>71</td>\n",
       "      <td>8</td>\n",
       "      <td>5</td>\n",
       "      <td>2</td>\n",
       "      <td>1</td>\n",
       "      <td>1</td>\n",
       "      <td>0</td>\n",
       "    </tr>\n",
       "    <tr>\n",
       "      <th>4</th>\n",
       "      <td>3</td>\n",
       "      <td>6</td>\n",
       "      <td>10</td>\n",
       "      <td>4</td>\n",
       "      <td>55</td>\n",
       "      <td>4</td>\n",
       "      <td>2</td>\n",
       "      <td>4</td>\n",
       "      <td>1</td>\n",
       "      <td>3</td>\n",
       "    </tr>\n",
       "    <tr>\n",
       "      <th>5</th>\n",
       "      <td>5</td>\n",
       "      <td>2</td>\n",
       "      <td>3</td>\n",
       "      <td>2</td>\n",
       "      <td>4</td>\n",
       "      <td>84</td>\n",
       "      <td>6</td>\n",
       "      <td>3</td>\n",
       "      <td>0</td>\n",
       "      <td>1</td>\n",
       "    </tr>\n",
       "    <tr>\n",
       "      <th>6</th>\n",
       "      <td>0</td>\n",
       "      <td>0</td>\n",
       "      <td>0</td>\n",
       "      <td>0</td>\n",
       "      <td>0</td>\n",
       "      <td>2</td>\n",
       "      <td>83</td>\n",
       "      <td>2</td>\n",
       "      <td>5</td>\n",
       "      <td>0</td>\n",
       "    </tr>\n",
       "    <tr>\n",
       "      <th>7</th>\n",
       "      <td>0</td>\n",
       "      <td>0</td>\n",
       "      <td>1</td>\n",
       "      <td>2</td>\n",
       "      <td>1</td>\n",
       "      <td>1</td>\n",
       "      <td>0</td>\n",
       "      <td>79</td>\n",
       "      <td>3</td>\n",
       "      <td>3</td>\n",
       "    </tr>\n",
       "    <tr>\n",
       "      <th>8</th>\n",
       "      <td>0</td>\n",
       "      <td>1</td>\n",
       "      <td>2</td>\n",
       "      <td>1</td>\n",
       "      <td>0</td>\n",
       "      <td>1</td>\n",
       "      <td>2</td>\n",
       "      <td>1</td>\n",
       "      <td>89</td>\n",
       "      <td>2</td>\n",
       "    </tr>\n",
       "    <tr>\n",
       "      <th>9</th>\n",
       "      <td>0</td>\n",
       "      <td>0</td>\n",
       "      <td>0</td>\n",
       "      <td>0</td>\n",
       "      <td>2</td>\n",
       "      <td>2</td>\n",
       "      <td>0</td>\n",
       "      <td>2</td>\n",
       "      <td>6</td>\n",
       "      <td>86</td>\n",
       "    </tr>\n",
       "  </tbody>\n",
       "</table>\n",
       "</div>"
      ],
      "text/plain": [
       "    0   1   2   3   4   5   6   7   8   9\n",
       "0  76  17   2   5   2   1   0   0   0   0\n",
       "1  10  76   2  12   4   3   1   0   0   0\n",
       "2   2   6  79   7   4   4   2   2   2   0\n",
       "3   3   8   2  71   8   5   2   1   1   0\n",
       "4   3   6  10   4  55   4   2   4   1   3\n",
       "5   5   2   3   2   4  84   6   3   0   1\n",
       "6   0   0   0   0   0   2  83   2   5   0\n",
       "7   0   0   1   2   1   1   0  79   3   3\n",
       "8   0   1   2   1   0   1   2   1  89   2\n",
       "9   0   0   0   0   2   2   0   2   6  86"
      ]
     },
     "execution_count": 13,
     "metadata": {},
     "output_type": "execute_result"
    }
   ],
   "source": [
    "confusion_matrix_df"
   ]
  },
  {
   "cell_type": "code",
   "execution_count": 45,
   "metadata": {},
   "outputs": [],
   "source": [
    "cm_2=[[91, 0,  2,  6,  3,  0,  1,  0,  0,  0],\n",
    "[ 0, 92,  0,  8,  4,  3,  0,  0,  1,  0],\n",
    "[ 5,  0, 84,  0,  2,  5,  5,  1,  6,  0],\n",
    "[ 3,  9,  0, 79,  0,  5,  4,  1,  0,  0],\n",
    "[ 2,  3,  4,  0, 72,  0,  4,  2,  3,  2],\n",
    "[ 2,  4,  3,  3,  0, 96,  0,  0,  1,  1],\n",
    "[ 0,  0,  0,  0,  1,  0, 86,  0,  5,  0],\n",
    "[ 0,  0,  0,  3,  2,  1,  0, 81,  0,  3],\n",
    "[ 0,  1,  0,  1,  0,  4,  0,  0, 93,  0],\n",
    "[ 0,  0,  0,  0,  0,  1,  0,  4,  0, 93]]"
   ]
  },
  {
   "cell_type": "code",
   "execution_count": null,
   "metadata": {},
   "outputs": [],
   "source": []
  },
  {
   "cell_type": "code",
   "execution_count": 49,
   "metadata": {},
   "outputs": [],
   "source": [
    "confusion_matrix_df_2 = pd.DataFrame(np.array(cm_2))"
   ]
  },
  {
   "cell_type": "code",
   "execution_count": 66,
   "metadata": {
    "scrolled": true
   },
   "outputs": [
    {
     "data": {
      "text/html": [
       "<div>\n",
       "<style scoped>\n",
       "    .dataframe tbody tr th:only-of-type {\n",
       "        vertical-align: middle;\n",
       "    }\n",
       "\n",
       "    .dataframe tbody tr th {\n",
       "        vertical-align: top;\n",
       "    }\n",
       "\n",
       "    .dataframe thead th {\n",
       "        text-align: right;\n",
       "    }\n",
       "</style>\n",
       "<table border=\"1\" class=\"dataframe\">\n",
       "  <thead>\n",
       "    <tr style=\"text-align: right;\">\n",
       "      <th></th>\n",
       "      <th>0</th>\n",
       "      <th>1</th>\n",
       "      <th>2</th>\n",
       "      <th>3</th>\n",
       "      <th>4</th>\n",
       "      <th>5</th>\n",
       "      <th>6</th>\n",
       "      <th>7</th>\n",
       "      <th>8</th>\n",
       "      <th>9</th>\n",
       "    </tr>\n",
       "  </thead>\n",
       "  <tbody>\n",
       "    <tr>\n",
       "      <th>0</th>\n",
       "      <td>91</td>\n",
       "      <td>0</td>\n",
       "      <td>2</td>\n",
       "      <td>6</td>\n",
       "      <td>3</td>\n",
       "      <td>0</td>\n",
       "      <td>1</td>\n",
       "      <td>0</td>\n",
       "      <td>0</td>\n",
       "      <td>0</td>\n",
       "    </tr>\n",
       "    <tr>\n",
       "      <th>1</th>\n",
       "      <td>0</td>\n",
       "      <td>92</td>\n",
       "      <td>0</td>\n",
       "      <td>8</td>\n",
       "      <td>4</td>\n",
       "      <td>3</td>\n",
       "      <td>0</td>\n",
       "      <td>0</td>\n",
       "      <td>1</td>\n",
       "      <td>0</td>\n",
       "    </tr>\n",
       "    <tr>\n",
       "      <th>2</th>\n",
       "      <td>5</td>\n",
       "      <td>0</td>\n",
       "      <td>84</td>\n",
       "      <td>0</td>\n",
       "      <td>2</td>\n",
       "      <td>5</td>\n",
       "      <td>5</td>\n",
       "      <td>1</td>\n",
       "      <td>6</td>\n",
       "      <td>0</td>\n",
       "    </tr>\n",
       "    <tr>\n",
       "      <th>3</th>\n",
       "      <td>3</td>\n",
       "      <td>9</td>\n",
       "      <td>0</td>\n",
       "      <td>79</td>\n",
       "      <td>0</td>\n",
       "      <td>5</td>\n",
       "      <td>4</td>\n",
       "      <td>1</td>\n",
       "      <td>0</td>\n",
       "      <td>0</td>\n",
       "    </tr>\n",
       "    <tr>\n",
       "      <th>4</th>\n",
       "      <td>2</td>\n",
       "      <td>3</td>\n",
       "      <td>4</td>\n",
       "      <td>0</td>\n",
       "      <td>72</td>\n",
       "      <td>0</td>\n",
       "      <td>4</td>\n",
       "      <td>2</td>\n",
       "      <td>3</td>\n",
       "      <td>2</td>\n",
       "    </tr>\n",
       "    <tr>\n",
       "      <th>5</th>\n",
       "      <td>2</td>\n",
       "      <td>4</td>\n",
       "      <td>3</td>\n",
       "      <td>3</td>\n",
       "      <td>0</td>\n",
       "      <td>96</td>\n",
       "      <td>0</td>\n",
       "      <td>0</td>\n",
       "      <td>1</td>\n",
       "      <td>1</td>\n",
       "    </tr>\n",
       "    <tr>\n",
       "      <th>6</th>\n",
       "      <td>0</td>\n",
       "      <td>0</td>\n",
       "      <td>0</td>\n",
       "      <td>0</td>\n",
       "      <td>1</td>\n",
       "      <td>0</td>\n",
       "      <td>86</td>\n",
       "      <td>0</td>\n",
       "      <td>5</td>\n",
       "      <td>0</td>\n",
       "    </tr>\n",
       "    <tr>\n",
       "      <th>7</th>\n",
       "      <td>0</td>\n",
       "      <td>0</td>\n",
       "      <td>0</td>\n",
       "      <td>3</td>\n",
       "      <td>2</td>\n",
       "      <td>1</td>\n",
       "      <td>0</td>\n",
       "      <td>81</td>\n",
       "      <td>0</td>\n",
       "      <td>3</td>\n",
       "    </tr>\n",
       "    <tr>\n",
       "      <th>8</th>\n",
       "      <td>0</td>\n",
       "      <td>1</td>\n",
       "      <td>0</td>\n",
       "      <td>1</td>\n",
       "      <td>0</td>\n",
       "      <td>4</td>\n",
       "      <td>0</td>\n",
       "      <td>0</td>\n",
       "      <td>93</td>\n",
       "      <td>0</td>\n",
       "    </tr>\n",
       "    <tr>\n",
       "      <th>9</th>\n",
       "      <td>0</td>\n",
       "      <td>0</td>\n",
       "      <td>0</td>\n",
       "      <td>0</td>\n",
       "      <td>0</td>\n",
       "      <td>1</td>\n",
       "      <td>0</td>\n",
       "      <td>4</td>\n",
       "      <td>0</td>\n",
       "      <td>93</td>\n",
       "    </tr>\n",
       "  </tbody>\n",
       "</table>\n",
       "</div>"
      ],
      "text/plain": [
       "    0   1   2   3   4   5   6   7   8   9\n",
       "0  91   0   2   6   3   0   1   0   0   0\n",
       "1   0  92   0   8   4   3   0   0   1   0\n",
       "2   5   0  84   0   2   5   5   1   6   0\n",
       "3   3   9   0  79   0   5   4   1   0   0\n",
       "4   2   3   4   0  72   0   4   2   3   2\n",
       "5   2   4   3   3   0  96   0   0   1   1\n",
       "6   0   0   0   0   1   0  86   0   5   0\n",
       "7   0   0   0   3   2   1   0  81   0   3\n",
       "8   0   1   0   1   0   4   0   0  93   0\n",
       "9   0   0   0   0   0   1   0   4   0  93"
      ]
     },
     "execution_count": 66,
     "metadata": {},
     "output_type": "execute_result"
    }
   ],
   "source": [
    "confusion_matrix_df_2"
   ]
  },
  {
   "cell_type": "code",
   "execution_count": 51,
   "metadata": {
    "scrolled": false
   },
   "outputs": [
    {
     "data": {
      "image/png": "[encoded data removed]",
      "text/plain": [
       "<Figure size 360x288 with 2 Axes>"
      ]
     },
     "metadata": {
      "needs_background": "light"
     },
     "output_type": "display_data"
    }
   ],
   "source": [
    "plt.figure(figsize=(5,4))\n",
    "sns.heatmap(confusion_matrix_df_2, annot=True)\n",
    "plt.title('Confusion Matrix')\n",
    "plt.ylabel('Actal Values')\n",
    "plt.xlabel('Predicted Values')\n",
    "plt.show()"
   ]
  },
  {
   "cell_type": "code",
   "execution_count": 41,
   "metadata": {},
   "outputs": [
    {
     "name": "stdout",
     "output_type": "stream",
     "text": [
      "              precision    recall  f1-score   support\n",
      "\n",
      "           0       1.00      1.00      1.00       297\n",
      "           1       1.00      1.00      1.00       292\n",
      "           2       1.00      1.00      1.00       292\n",
      "           3       1.00      1.00      1.00       299\n",
      "           4       1.00      1.00      1.00       308\n",
      "           5       1.00      1.00      1.00       290\n",
      "           6       1.00      1.00      1.00       308\n",
      "           7       1.00      1.00      1.00       310\n",
      "           8       1.00      1.00      1.00       301\n",
      "           9       1.00      1.00      1.00       302\n",
      "          10       1.00      1.00      1.00         2\n",
      "          11       1.00      1.00      1.00         1\n",
      "\n",
      "    accuracy                           1.00      3002\n",
      "   macro avg       1.00      1.00      1.00      3002\n",
      "weighted avg       1.00      1.00      1.00      3002\n",
      "\n"
     ]
    }
   ],
   "source": [
    "y_pred = model.predict(X_train)\n",
    "from sklearn.metrics import classification_report\n",
    "print(classification_report(y_train, y_pred))"
   ]
  },
  {
   "cell_type": "code",
   "execution_count": 43,
   "metadata": {},
   "outputs": [
    {
     "name": "stdout",
     "output_type": "stream",
     "text": [
      "              precision    recall  f1-score   support\n",
      "\n",
      "           0       0.77      0.74      0.75       103\n",
      "           1       0.66      0.70      0.68       108\n",
      "           2       0.78      0.73      0.76       108\n",
      "           3       0.68      0.70      0.69       101\n",
      "           4       0.69      0.60      0.64        92\n",
      "           5       0.79      0.76      0.77       110\n",
      "           6       0.85      0.90      0.87        92\n",
      "           7       0.84      0.88      0.86        90\n",
      "           8       0.83      0.90      0.86        99\n",
      "           9       0.91      0.88      0.89        98\n",
      "\n",
      "    accuracy                           0.78      1001\n",
      "   macro avg       0.78      0.78      0.78      1001\n",
      "weighted avg       0.78      0.78      0.78      1001\n",
      "\n"
     ]
    }
   ],
   "source": [
    "y_pred = model.predict(X_test)\n",
    "from sklearn.metrics import classification_report\n",
    "print(classification_report(y_test, y_pred))"
   ]
  }
 ],
 "metadata": {
  "kernelspec": {
   "display_name": "Python 3",
   "language": "python",
   "name": "python3"
  },
  "language_info": {
   "codemirror_mode": {
    "name": "ipython",
    "version": 3
   },
   "file_extension": ".py",
   "mimetype": "text/x-python",
   "name": "python",
   "nbconvert_exporter": "python",
   "pygments_lexer": "ipython3",
   "version": "3.8.5"
  }
 },
 "nbformat": 4,
 "nbformat_minor": 4
}
