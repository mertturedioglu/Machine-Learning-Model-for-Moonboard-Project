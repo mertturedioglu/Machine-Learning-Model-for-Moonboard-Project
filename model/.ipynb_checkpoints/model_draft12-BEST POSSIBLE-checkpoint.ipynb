{
 "cells": [
  {
   "cell_type": "code",
   "execution_count": 19,
   "metadata": {},
   "outputs": [],
   "source": [
    "# check version number\n",
    "import imblearn\n",
    "from collections import Counter\n",
    "from matplotlib import pyplot\n",
    "import pandas as pd\n",
    "from imblearn.over_sampling import SMOTE\n",
    "import numpy as np\n",
    "from numpy import std\n",
    "from numpy import mean\n",
    "from pandas import read_csv\n",
    "from sklearn.preprocessing import LabelEncoder\n",
    "from sklearn.model_selection import cross_val_score\n",
    "from sklearn.model_selection import RepeatedStratifiedKFold\n",
    "from sklearn.ensemble import RandomForestClassifier\n",
    "from sklearn.model_selection import train_test_split\n",
    "from sklearn.datasets import make_classification\n",
    "from sklearn.feature_selection import SelectKBest\n",
    "from sklearn.feature_selection import f_classif"
   ]
  },
  {
   "cell_type": "code",
   "execution_count": 20,
   "metadata": {},
   "outputs": [],
   "source": [
    "df = pd.read_csv(\"dataset_draft1.csv\")\n",
    "df.drop([\"number_of_holds\",\"Grade_numeric\",\"Unnamed: 0\",\"holds\", \"Name\", \"Moves\", \"Holdsets\", \"Id\", \"lengths_of_moves\",\"Grade_thermo\",\"Grade_ohe\",\"numeric_grades\"], axis=1, inplace=True)\n"
   ]
  },
  {
   "cell_type": "code",
   "execution_count": 21,
   "metadata": {
    "scrolled": true
   },
   "outputs": [
    {
     "data": {
      "text/html": [
       "<div>\n",
       "<style scoped>\n",
       "    .dataframe tbody tr th:only-of-type {\n",
       "        vertical-align: middle;\n",
       "    }\n",
       "\n",
       "    .dataframe tbody tr th {\n",
       "        vertical-align: top;\n",
       "    }\n",
       "\n",
       "    .dataframe thead th {\n",
       "        text-align: right;\n",
       "    }\n",
       "</style>\n",
       "<table border=\"1\" class=\"dataframe\">\n",
       "  <thead>\n",
       "    <tr style=\"text-align: right;\">\n",
       "      <th></th>\n",
       "      <th>Grade</th>\n",
       "      <th>median_diff_holds</th>\n",
       "      <th>mean_diff_holds</th>\n",
       "      <th>downwards_count</th>\n",
       "      <th>only_upwards_count</th>\n",
       "      <th>yellow_count</th>\n",
       "      <th>black_count</th>\n",
       "      <th>white_count</th>\n",
       "    </tr>\n",
       "  </thead>\n",
       "  <tbody>\n",
       "    <tr>\n",
       "      <th>0</th>\n",
       "      <td>8B</td>\n",
       "      <td>15.345703</td>\n",
       "      <td>19.623801</td>\n",
       "      <td>3</td>\n",
       "      <td>1</td>\n",
       "      <td>1</td>\n",
       "      <td>3</td>\n",
       "      <td>0</td>\n",
       "    </tr>\n",
       "    <tr>\n",
       "      <th>1</th>\n",
       "      <td>8A+</td>\n",
       "      <td>18.509766</td>\n",
       "      <td>29.576319</td>\n",
       "      <td>6</td>\n",
       "      <td>0</td>\n",
       "      <td>5</td>\n",
       "      <td>1</td>\n",
       "      <td>0</td>\n",
       "    </tr>\n",
       "    <tr>\n",
       "      <th>2</th>\n",
       "      <td>8A+</td>\n",
       "      <td>18.509766</td>\n",
       "      <td>27.793141</td>\n",
       "      <td>6</td>\n",
       "      <td>2</td>\n",
       "      <td>8</td>\n",
       "      <td>0</td>\n",
       "      <td>0</td>\n",
       "    </tr>\n",
       "    <tr>\n",
       "      <th>3</th>\n",
       "      <td>8A</td>\n",
       "      <td>12.339844</td>\n",
       "      <td>21.766030</td>\n",
       "      <td>7</td>\n",
       "      <td>1</td>\n",
       "      <td>2</td>\n",
       "      <td>3</td>\n",
       "      <td>3</td>\n",
       "    </tr>\n",
       "    <tr>\n",
       "      <th>4</th>\n",
       "      <td>8A</td>\n",
       "      <td>25.628906</td>\n",
       "      <td>30.831236</td>\n",
       "      <td>7</td>\n",
       "      <td>1</td>\n",
       "      <td>8</td>\n",
       "      <td>0</td>\n",
       "      <td>0</td>\n",
       "    </tr>\n",
       "  </tbody>\n",
       "</table>\n",
       "</div>"
      ],
      "text/plain": [
       "  Grade  median_diff_holds  mean_diff_holds  downwards_count  \\\n",
       "0    8B          15.345703        19.623801                3   \n",
       "1   8A+          18.509766        29.576319                6   \n",
       "2   8A+          18.509766        27.793141                6   \n",
       "3    8A          12.339844        21.766030                7   \n",
       "4    8A          25.628906        30.831236                7   \n",
       "\n",
       "   only_upwards_count  yellow_count  black_count  white_count  \n",
       "0                   1             1            3            0  \n",
       "1                   0             5            1            0  \n",
       "2                   2             8            0            0  \n",
       "3                   1             2            3            3  \n",
       "4                   1             8            0            0  "
      ]
     },
     "execution_count": 21,
     "metadata": {},
     "output_type": "execute_result"
    }
   ],
   "source": [
    "df.head(5)"
   ]
  },
  {
   "cell_type": "code",
   "execution_count": 22,
   "metadata": {},
   "outputs": [
    {
     "data": {
      "text/plain": [
       "array([[15.345703125, 19.62380104954338, 3, ..., 1, 3, 0],\n",
       "       [18.509765625, 29.576319021503945, 6, ..., 5, 1, 0],\n",
       "       [18.509765625, 27.793140813002037, 6, ..., 8, 0, 0],\n",
       "       ...,\n",
       "       [3.375, 6.059493776440418, 7, ..., 0, 0, 7],\n",
       "       [3.375, 7.024749268113474, 5, ..., 0, 5, 0],\n",
       "       [5.0625, 9.213322900216951, 8, ..., 2, 4, 2]], dtype=object)"
      ]
     },
     "execution_count": 22,
     "metadata": {},
     "output_type": "execute_result"
    }
   ],
   "source": [
    " data[:, 1:]"
   ]
  },
  {
   "cell_type": "code",
   "execution_count": 23,
   "metadata": {
    "scrolled": true
   },
   "outputs": [
    {
     "name": "stderr",
     "output_type": "stream",
     "text": [
      "C:\\Users\\mertt\\anaconda3\\envs\\tf\\lib\\site-packages\\sklearn\\preprocessing\\_label.py:115: DataConversionWarning: A column-vector y was passed when a 1d array was expected. Please change the shape of y to (n_samples, ), for example using ravel().\n",
      "  y = column_or_1d(y, warn=True)\n",
      "C:\\Users\\mertt\\anaconda3\\envs\\tf\\lib\\site-packages\\imblearn\\utils\\_validation.py:299: UserWarning: After over-sampling, the number of samples (300) in class 0 will be larger than the number of samples in the majority class (class #4 -> 69)\n",
      "  warnings.warn(\n",
      "C:\\Users\\mertt\\anaconda3\\envs\\tf\\lib\\site-packages\\imblearn\\utils\\_validation.py:299: UserWarning: After over-sampling, the number of samples (300) in class 1 will be larger than the number of samples in the majority class (class #4 -> 69)\n",
      "  warnings.warn(\n",
      "C:\\Users\\mertt\\anaconda3\\envs\\tf\\lib\\site-packages\\imblearn\\utils\\_validation.py:299: UserWarning: After over-sampling, the number of samples (300) in class 2 will be larger than the number of samples in the majority class (class #4 -> 69)\n",
      "  warnings.warn(\n",
      "C:\\Users\\mertt\\anaconda3\\envs\\tf\\lib\\site-packages\\imblearn\\utils\\_validation.py:299: UserWarning: After over-sampling, the number of samples (300) in class 3 will be larger than the number of samples in the majority class (class #4 -> 69)\n",
      "  warnings.warn(\n",
      "C:\\Users\\mertt\\anaconda3\\envs\\tf\\lib\\site-packages\\imblearn\\utils\\_validation.py:299: UserWarning: After over-sampling, the number of samples (300) in class 4 will be larger than the number of samples in the majority class (class #4 -> 69)\n",
      "  warnings.warn(\n",
      "C:\\Users\\mertt\\anaconda3\\envs\\tf\\lib\\site-packages\\imblearn\\utils\\_validation.py:299: UserWarning: After over-sampling, the number of samples (300) in class 5 will be larger than the number of samples in the majority class (class #4 -> 69)\n",
      "  warnings.warn(\n",
      "C:\\Users\\mertt\\anaconda3\\envs\\tf\\lib\\site-packages\\imblearn\\utils\\_validation.py:299: UserWarning: After over-sampling, the number of samples (300) in class 6 will be larger than the number of samples in the majority class (class #4 -> 69)\n",
      "  warnings.warn(\n",
      "C:\\Users\\mertt\\anaconda3\\envs\\tf\\lib\\site-packages\\imblearn\\utils\\_validation.py:299: UserWarning: After over-sampling, the number of samples (300) in class 7 will be larger than the number of samples in the majority class (class #4 -> 69)\n",
      "  warnings.warn(\n",
      "C:\\Users\\mertt\\anaconda3\\envs\\tf\\lib\\site-packages\\imblearn\\utils\\_validation.py:299: UserWarning: After over-sampling, the number of samples (300) in class 8 will be larger than the number of samples in the majority class (class #4 -> 69)\n",
      "  warnings.warn(\n",
      "C:\\Users\\mertt\\anaconda3\\envs\\tf\\lib\\site-packages\\imblearn\\utils\\_validation.py:299: UserWarning: After over-sampling, the number of samples (300) in class 9 will be larger than the number of samples in the majority class (class #4 -> 69)\n",
      "  warnings.warn(\n"
     ]
    },
    {
     "name": "stdout",
     "output_type": "stream",
     "text": [
      "Class=11, n=1 (0.033%)\n",
      "Class=10, n=2 (0.067%)\n",
      "Class=9, n=300 (9.990%)\n",
      "Class=8, n=300 (9.990%)\n",
      "Class=1, n=300 (9.990%)\n",
      "Class=0, n=300 (9.990%)\n",
      "Class=7, n=300 (9.990%)\n",
      "Class=6, n=300 (9.990%)\n",
      "Class=5, n=300 (9.990%)\n",
      "Class=4, n=300 (9.990%)\n",
      "Class=3, n=300 (9.990%)\n",
      "Class=2, n=300 (9.990%)\n"
     ]
    },
    {
     "data": {
      "image/png": "[encoded data removed]",
      "text/plain": [
       "<Figure size 432x288 with 1 Axes>"
      ]
     },
     "metadata": {
      "needs_background": "light"
     },
     "output_type": "display_data"
    }
   ],
   "source": [
    "\n",
    "data = df.values\n",
    "X, y =  data[:, 1:], data[:, [0]]\n",
    "# label encode the target variable\n",
    "y = LabelEncoder().fit_transform(y)\n",
    "\n",
    "\n",
    "# transform the dataset\n",
    "strategy = {0:300, 1:300, 2:300, 3:300, 4:300, 5:300, 6:300,7:300,8:300,9:300}\n",
    "oversample = SMOTE(sampling_strategy=strategy)\n",
    "X, y = oversample.fit_resample(X, y)\n",
    "# summarize distribution\n",
    "counter = Counter(y)\n",
    "for k,v in counter.items():\n",
    "    per = v / len(y) * 100\n",
    "    print('Class=%d, n=%d (%.3f%%)' % (k, v, per))\n",
    "# plot the distribution\n",
    "pyplot.bar(counter.keys(), counter.values())\n",
    "pyplot.show()"
   ]
  },
  {
   "cell_type": "code",
   "execution_count": 24,
   "metadata": {},
   "outputs": [],
   "source": [
    "def evaluate_model(X, y, model):\n",
    "    # define evaluation procedure\n",
    "    cv = RepeatedStratifiedKFold(n_splits=5, n_repeats=4, random_state=1)\n",
    "    # evaluate model\n",
    "    scores = cross_val_score(model, X, y, scoring='accuracy', cv=cv, n_jobs=-1)\n",
    "    return scores"
   ]
  },
  {
   "cell_type": "code",
   "execution_count": 25,
   "metadata": {},
   "outputs": [],
   "source": [
    "# split in to train test sets\n",
    "X_train, X_test, y_train, y_test = train_test_split(X, y, test_size=0.25, random_state=1)"
   ]
  },
  {
   "cell_type": "code",
   "execution_count": 26,
   "metadata": {},
   "outputs": [
    {
     "name": "stderr",
     "output_type": "stream",
     "text": [
      "C:\\Users\\mertt\\anaconda3\\envs\\tf\\lib\\site-packages\\sklearn\\model_selection\\_split.py:680: UserWarning: The least populated class in y has only 1 members, which is less than n_splits=5.\n",
      "  warnings.warn(\n"
     ]
    }
   ],
   "source": [
    "parameters = {\n",
    "    \"n_estimators\":[5,10,50,100,250],\n",
    "    \"max_depth\":[2,4,8,16,32,None]\n",
    "}\n",
    "weights = {0:2.0, 1:2.0, 2:2.0, 3:2.0, 4:2.0, 5:2.0, 6:2.0,  7:2.0, 8:2.0, 9:2.0, 10:1.0, 11:1.0}\n",
    "model = RandomForestClassifier(class_weight=weights)\n",
    "\n",
    "from sklearn.model_selection import GridSearchCV\n",
    "cv = GridSearchCV(model,parameters,cv=5)\n",
    "cv.fit(X_train,y_train.ravel())\n",
    "\n",
    "def display(results):\n",
    "    print(f'Best parameters are: {results.best_params_}')\n",
    "    print(\"\\n\")\n",
    "    mean_score = results.cv_results_['mean_test_score']\n",
    "    std_score = results.cv_results_['std_test_score']\n",
    "    params = results.cv_results_['params']\n",
    "    for mean,std,params in zip(mean_score,std_score,params):\n",
    "        print(f'{round(mean,3)} + or -{round(std,3)} for the {params}')"
   ]
  },
  {
   "cell_type": "code",
   "execution_count": 27,
   "metadata": {
    "scrolled": false
   },
   "outputs": [
    {
     "name": "stdout",
     "output_type": "stream",
     "text": [
      "Best parameters are: {'max_depth': 32, 'n_estimators': 250}\n",
      "\n",
      "\n",
      "0.326 + or -0.026 for the {'max_depth': 2, 'n_estimators': 5}\n",
      "0.335 + or -0.022 for the {'max_depth': 2, 'n_estimators': 10}\n",
      "0.345 + or -0.01 for the {'max_depth': 2, 'n_estimators': 50}\n",
      "0.349 + or -0.013 for the {'max_depth': 2, 'n_estimators': 100}\n",
      "0.35 + or -0.013 for the {'max_depth': 2, 'n_estimators': 250}\n",
      "0.418 + or -0.012 for the {'max_depth': 4, 'n_estimators': 5}\n",
      "0.443 + or -0.026 for the {'max_depth': 4, 'n_estimators': 10}\n",
      "0.474 + or -0.037 for the {'max_depth': 4, 'n_estimators': 50}\n",
      "0.474 + or -0.022 for the {'max_depth': 4, 'n_estimators': 100}\n",
      "0.482 + or -0.027 for the {'max_depth': 4, 'n_estimators': 250}\n",
      "0.614 + or -0.019 for the {'max_depth': 8, 'n_estimators': 5}\n",
      "0.669 + or -0.018 for the {'max_depth': 8, 'n_estimators': 10}\n",
      "0.714 + or -0.013 for the {'max_depth': 8, 'n_estimators': 50}\n",
      "0.718 + or -0.017 for the {'max_depth': 8, 'n_estimators': 100}\n",
      "0.72 + or -0.012 for the {'max_depth': 8, 'n_estimators': 250}\n",
      "0.725 + or -0.025 for the {'max_depth': 16, 'n_estimators': 5}\n",
      "0.773 + or -0.025 for the {'max_depth': 16, 'n_estimators': 10}\n",
      "0.805 + or -0.013 for the {'max_depth': 16, 'n_estimators': 50}\n",
      "0.814 + or -0.012 for the {'max_depth': 16, 'n_estimators': 100}\n",
      "0.818 + or -0.015 for the {'max_depth': 16, 'n_estimators': 250}\n",
      "0.729 + or -0.018 for the {'max_depth': 32, 'n_estimators': 5}\n",
      "0.772 + or -0.012 for the {'max_depth': 32, 'n_estimators': 10}\n",
      "0.806 + or -0.015 for the {'max_depth': 32, 'n_estimators': 50}\n",
      "0.815 + or -0.014 for the {'max_depth': 32, 'n_estimators': 100}\n",
      "0.821 + or -0.016 for the {'max_depth': 32, 'n_estimators': 250}\n",
      "0.726 + or -0.011 for the {'max_depth': None, 'n_estimators': 5}\n",
      "0.779 + or -0.019 for the {'max_depth': None, 'n_estimators': 10}\n",
      "0.81 + or -0.013 for the {'max_depth': None, 'n_estimators': 50}\n",
      "0.808 + or -0.016 for the {'max_depth': None, 'n_estimators': 100}\n",
      "0.82 + or -0.016 for the {'max_depth': None, 'n_estimators': 250}\n"
     ]
    }
   ],
   "source": [
    "display(cv)"
   ]
  },
  {
   "cell_type": "code",
   "execution_count": 28,
   "metadata": {
    "scrolled": true
   },
   "outputs": [
    {
     "name": "stderr",
     "output_type": "stream",
     "text": [
      "C:\\Users\\mertt\\anaconda3\\envs\\tf\\lib\\site-packages\\sklearn\\model_selection\\_split.py:680: UserWarning: The least populated class in y has only 1 members, which is less than n_splits=5.\n",
      "  warnings.warn(\n",
      "C:\\Users\\mertt\\anaconda3\\envs\\tf\\lib\\site-packages\\sklearn\\model_selection\\_split.py:680: UserWarning: The least populated class in y has only 1 members, which is less than n_splits=5.\n",
      "  warnings.warn(\n",
      "C:\\Users\\mertt\\anaconda3\\envs\\tf\\lib\\site-packages\\sklearn\\model_selection\\_split.py:680: UserWarning: The least populated class in y has only 1 members, which is less than n_splits=5.\n",
      "  warnings.warn(\n",
      "C:\\Users\\mertt\\anaconda3\\envs\\tf\\lib\\site-packages\\sklearn\\model_selection\\_split.py:680: UserWarning: The least populated class in y has only 1 members, which is less than n_splits=5.\n",
      "  warnings.warn(\n"
     ]
    },
    {
     "name": "stdout",
     "output_type": "stream",
     "text": [
      "Mean Accuracy: 0.822 (0.013)\n"
     ]
    }
   ],
   "source": [
    "## generate dataset\n",
    "#X_train, y_train = make_classification(n_samples=100, n_features=7, n_informative=2)\n",
    "## define feature selection\n",
    "#fs = SelectKBest(score_func=f_classif, k=5)\n",
    "## apply feature selection\n",
    "#X_selected = fs.fit_transform(X_train, y_train)\n",
    "#print(X_selected.shape)\n",
    "\n",
    "weights = {0:2.0, 1:2.0, 2:2.0, 3:2.0, 4:2.0, 5:2.0, 6:2.0,  7:2.0, 8:2.0, 9:2.0, 10:1.0, 11:1.0}\n",
    "model = RandomForestClassifier(max_depth=32,n_estimators=250,class_weight=weights)\n",
    "scores = evaluate_model(X_train, y_train, model)\n",
    "model.fit(X_train, y_train)\n",
    "print('Mean Accuracy: %.3f (%.3f)' % (mean(scores), std(scores)))"
   ]
  },
  {
   "cell_type": "code",
   "execution_count": 29,
   "metadata": {
    "scrolled": true
   },
   "outputs": [
    {
     "name": "stdout",
     "output_type": "stream",
     "text": [
      "Mean Accuracy: 0.673 (0.034)\n"
     ]
    }
   ],
   "source": [
    "# generate dataset\n",
    "#X_test, y_test = make_classification(n_samples=100, n_features=10, n_informative=2)\n",
    "# define feature selection\n",
    "#fs = SelectKBest(score_func=f_classif, k=5)\n",
    "## apply feature selection\n",
    "#X_test_selected = fs.fit_transform(X_test, y_test)\n",
    "#print(X_test_selected.shape)\n",
    "\n",
    "scores = evaluate_model(X_test, y_test, model)\n",
    "print('Mean Accuracy: %.3f (%.3f)' % (mean(scores), std(scores)))"
   ]
  },
  {
   "cell_type": "code",
   "execution_count": 31,
   "metadata": {
    "scrolled": true
   },
   "outputs": [
    {
     "data": {
      "image/png": "[encoded data removed]",
      "text/plain": [
       "<Figure size 360x288 with 2 Axes>"
      ]
     },
     "metadata": {
      "needs_background": "light"
     },
     "output_type": "display_data"
    }
   ],
   "source": [
    "from sklearn import metrics\n",
    "import seaborn as sns\n",
    "import matplotlib.pyplot as plt\n",
    "\n",
    "y_pred = model.predict(X_test)\n",
    "confusion_matrix = metrics.confusion_matrix(y_test, y_pred)\n",
    "confusion_matrix_df = pd.DataFrame(confusion_matrix,\n",
    ")\n",
    "\n",
    "plt.figure(figsize=(5,4))\n",
    "sns.heatmap(confusion_matrix_df, annot=True)\n",
    "plt.title('Confusion Matrix')\n",
    "plt.ylabel('Actal Values')\n",
    "plt.xlabel('Predicted Values')\n",
    "plt.show()"
   ]
  }
 ],
 "metadata": {
  "kernelspec": {
   "display_name": "Python 3",
   "language": "python",
   "name": "python3"
  },
  "language_info": {
   "codemirror_mode": {
    "name": "ipython",
    "version": 3
   },
   "file_extension": ".py",
   "mimetype": "text/x-python",
   "name": "python",
   "nbconvert_exporter": "python",
   "pygments_lexer": "ipython3",
   "version": "3.8.5"
  }
 },
 "nbformat": 4,
 "nbformat_minor": 4
}
