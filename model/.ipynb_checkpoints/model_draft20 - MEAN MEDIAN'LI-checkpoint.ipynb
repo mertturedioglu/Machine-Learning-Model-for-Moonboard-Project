{
 "cells": [
  {
   "cell_type": "code",
   "execution_count": 1,
   "metadata": {},
   "outputs": [],
   "source": [
    "# check version number\n",
    "import imblearn\n",
    "from collections import Counter\n",
    "from matplotlib import pyplot\n",
    "import pandas as pd\n",
    "from imblearn.over_sampling import SMOTE\n",
    "import numpy as np\n",
    "from numpy import std\n",
    "from numpy import mean\n",
    "from pandas import read_csv\n",
    "from sklearn.preprocessing import LabelEncoder\n",
    "from sklearn.model_selection import cross_val_score\n",
    "from sklearn.model_selection import RepeatedStratifiedKFold\n",
    "from sklearn.ensemble import RandomForestClassifier\n",
    "from sklearn.model_selection import train_test_split\n",
    "from sklearn.datasets import make_classification\n",
    "from sklearn.feature_selection import SelectKBest\n",
    "from sklearn.feature_selection import f_classif\n",
    "from sklearn.feature_selection import SelectFromModel"
   ]
  },
  {
   "cell_type": "code",
   "execution_count": 2,
   "metadata": {
    "scrolled": true
   },
   "outputs": [],
   "source": [
    "df = pd.read_csv(\"dataset_draft2.csv\")\n",
    "df.drop([\"Grade_numeric\",\"Unnamed: 0\",\"holds\", \"Name\", \"Moves\", \"Holdsets\", \"Id\", \"lengths_of_moves\",\"Grade_thermo\",\"Grade_ohe\",\"numeric_grades\"], axis=1, inplace=True)\n"
   ]
  },
  {
   "cell_type": "code",
   "execution_count": 3,
   "metadata": {
    "scrolled": false
   },
   "outputs": [
    {
     "data": {
      "text/html": [
       "<div>\n",
       "<style scoped>\n",
       "    .dataframe tbody tr th:only-of-type {\n",
       "        vertical-align: middle;\n",
       "    }\n",
       "\n",
       "    .dataframe tbody tr th {\n",
       "        vertical-align: top;\n",
       "    }\n",
       "\n",
       "    .dataframe thead th {\n",
       "        text-align: right;\n",
       "    }\n",
       "</style>\n",
       "<table border=\"1\" class=\"dataframe\">\n",
       "  <thead>\n",
       "    <tr style=\"text-align: right;\">\n",
       "      <th></th>\n",
       "      <th>Grade</th>\n",
       "      <th>number_of_holds</th>\n",
       "      <th>median_diff_holds</th>\n",
       "      <th>mean_diff_holds</th>\n",
       "      <th>downwards_count</th>\n",
       "      <th>only_upwards_count</th>\n",
       "      <th>yellow_count</th>\n",
       "      <th>black_count</th>\n",
       "      <th>white_count</th>\n",
       "      <th>only_sideways_count</th>\n",
       "      <th>yellow_percent</th>\n",
       "      <th>white_percent</th>\n",
       "      <th>black_percent</th>\n",
       "      <th>b_w_percent</th>\n",
       "      <th>downwards_percent</th>\n",
       "      <th>mean_distance_of_holds</th>\n",
       "    </tr>\n",
       "  </thead>\n",
       "  <tbody>\n",
       "    <tr>\n",
       "      <th>0</th>\n",
       "      <td>8B</td>\n",
       "      <td>4</td>\n",
       "      <td>15.345703</td>\n",
       "      <td>19.623801</td>\n",
       "      <td>3</td>\n",
       "      <td>1</td>\n",
       "      <td>1</td>\n",
       "      <td>3</td>\n",
       "      <td>0</td>\n",
       "      <td>0</td>\n",
       "      <td>0.250000</td>\n",
       "      <td>0.000</td>\n",
       "      <td>0.750000</td>\n",
       "      <td>0.750000</td>\n",
       "      <td>0.750</td>\n",
       "      <td>8.005032</td>\n",
       "    </tr>\n",
       "    <tr>\n",
       "      <th>1</th>\n",
       "      <td>8A+</td>\n",
       "      <td>6</td>\n",
       "      <td>18.509766</td>\n",
       "      <td>29.576319</td>\n",
       "      <td>6</td>\n",
       "      <td>0</td>\n",
       "      <td>5</td>\n",
       "      <td>1</td>\n",
       "      <td>0</td>\n",
       "      <td>0</td>\n",
       "      <td>0.833333</td>\n",
       "      <td>0.000</td>\n",
       "      <td>0.166667</td>\n",
       "      <td>0.166667</td>\n",
       "      <td>1.000</td>\n",
       "      <td>8.611438</td>\n",
       "    </tr>\n",
       "    <tr>\n",
       "      <th>2</th>\n",
       "      <td>8A+</td>\n",
       "      <td>8</td>\n",
       "      <td>18.509766</td>\n",
       "      <td>27.793141</td>\n",
       "      <td>6</td>\n",
       "      <td>2</td>\n",
       "      <td>8</td>\n",
       "      <td>0</td>\n",
       "      <td>0</td>\n",
       "      <td>0</td>\n",
       "      <td>1.000000</td>\n",
       "      <td>0.000</td>\n",
       "      <td>0.000000</td>\n",
       "      <td>0.000000</td>\n",
       "      <td>0.750</td>\n",
       "      <td>8.039489</td>\n",
       "    </tr>\n",
       "    <tr>\n",
       "      <th>3</th>\n",
       "      <td>8A</td>\n",
       "      <td>8</td>\n",
       "      <td>12.339844</td>\n",
       "      <td>21.766030</td>\n",
       "      <td>7</td>\n",
       "      <td>1</td>\n",
       "      <td>2</td>\n",
       "      <td>3</td>\n",
       "      <td>3</td>\n",
       "      <td>0</td>\n",
       "      <td>0.250000</td>\n",
       "      <td>0.375</td>\n",
       "      <td>0.375000</td>\n",
       "      <td>0.750000</td>\n",
       "      <td>0.875</td>\n",
       "      <td>8.163433</td>\n",
       "    </tr>\n",
       "    <tr>\n",
       "      <th>4</th>\n",
       "      <td>8A</td>\n",
       "      <td>8</td>\n",
       "      <td>25.628906</td>\n",
       "      <td>30.831236</td>\n",
       "      <td>7</td>\n",
       "      <td>1</td>\n",
       "      <td>8</td>\n",
       "      <td>0</td>\n",
       "      <td>0</td>\n",
       "      <td>0</td>\n",
       "      <td>1.000000</td>\n",
       "      <td>0.000</td>\n",
       "      <td>0.000000</td>\n",
       "      <td>0.000000</td>\n",
       "      <td>0.875</td>\n",
       "      <td>7.282818</td>\n",
       "    </tr>\n",
       "  </tbody>\n",
       "</table>\n",
       "</div>"
      ],
      "text/plain": [
       "  Grade  number_of_holds  median_diff_holds  mean_diff_holds  downwards_count  \\\n",
       "0    8B                4          15.345703        19.623801                3   \n",
       "1   8A+                6          18.509766        29.576319                6   \n",
       "2   8A+                8          18.509766        27.793141                6   \n",
       "3    8A                8          12.339844        21.766030                7   \n",
       "4    8A                8          25.628906        30.831236                7   \n",
       "\n",
       "   only_upwards_count  yellow_count  black_count  white_count  \\\n",
       "0                   1             1            3            0   \n",
       "1                   0             5            1            0   \n",
       "2                   2             8            0            0   \n",
       "3                   1             2            3            3   \n",
       "4                   1             8            0            0   \n",
       "\n",
       "   only_sideways_count  yellow_percent  white_percent  black_percent  \\\n",
       "0                    0        0.250000          0.000       0.750000   \n",
       "1                    0        0.833333          0.000       0.166667   \n",
       "2                    0        1.000000          0.000       0.000000   \n",
       "3                    0        0.250000          0.375       0.375000   \n",
       "4                    0        1.000000          0.000       0.000000   \n",
       "\n",
       "   b_w_percent  downwards_percent  mean_distance_of_holds  \n",
       "0     0.750000              0.750                8.005032  \n",
       "1     0.166667              1.000                8.611438  \n",
       "2     0.000000              0.750                8.039489  \n",
       "3     0.750000              0.875                8.163433  \n",
       "4     0.000000              0.875                7.282818  "
      ]
     },
     "execution_count": 3,
     "metadata": {},
     "output_type": "execute_result"
    }
   ],
   "source": [
    "df.head(5)"
   ]
  },
  {
   "cell_type": "code",
   "execution_count": 4,
   "metadata": {
    "scrolled": true
   },
   "outputs": [
    {
     "name": "stderr",
     "output_type": "stream",
     "text": [
      "C:\\Users\\mertt\\anaconda3\\envs\\tf\\lib\\site-packages\\sklearn\\preprocessing\\_label.py:115: DataConversionWarning: A column-vector y was passed when a 1d array was expected. Please change the shape of y to (n_samples, ), for example using ravel().\n",
      "  y = column_or_1d(y, warn=True)\n",
      "C:\\Users\\mertt\\anaconda3\\envs\\tf\\lib\\site-packages\\imblearn\\utils\\_validation.py:299: UserWarning: After over-sampling, the number of samples (400) in class 0 will be larger than the number of samples in the majority class (class #4 -> 69)\n",
      "  warnings.warn(\n",
      "C:\\Users\\mertt\\anaconda3\\envs\\tf\\lib\\site-packages\\imblearn\\utils\\_validation.py:299: UserWarning: After over-sampling, the number of samples (400) in class 1 will be larger than the number of samples in the majority class (class #4 -> 69)\n",
      "  warnings.warn(\n",
      "C:\\Users\\mertt\\anaconda3\\envs\\tf\\lib\\site-packages\\imblearn\\utils\\_validation.py:299: UserWarning: After over-sampling, the number of samples (400) in class 2 will be larger than the number of samples in the majority class (class #4 -> 69)\n",
      "  warnings.warn(\n",
      "C:\\Users\\mertt\\anaconda3\\envs\\tf\\lib\\site-packages\\imblearn\\utils\\_validation.py:299: UserWarning: After over-sampling, the number of samples (400) in class 3 will be larger than the number of samples in the majority class (class #4 -> 69)\n",
      "  warnings.warn(\n",
      "C:\\Users\\mertt\\anaconda3\\envs\\tf\\lib\\site-packages\\imblearn\\utils\\_validation.py:299: UserWarning: After over-sampling, the number of samples (400) in class 4 will be larger than the number of samples in the majority class (class #4 -> 69)\n",
      "  warnings.warn(\n",
      "C:\\Users\\mertt\\anaconda3\\envs\\tf\\lib\\site-packages\\imblearn\\utils\\_validation.py:299: UserWarning: After over-sampling, the number of samples (400) in class 5 will be larger than the number of samples in the majority class (class #4 -> 69)\n",
      "  warnings.warn(\n",
      "C:\\Users\\mertt\\anaconda3\\envs\\tf\\lib\\site-packages\\imblearn\\utils\\_validation.py:299: UserWarning: After over-sampling, the number of samples (400) in class 6 will be larger than the number of samples in the majority class (class #4 -> 69)\n",
      "  warnings.warn(\n",
      "C:\\Users\\mertt\\anaconda3\\envs\\tf\\lib\\site-packages\\imblearn\\utils\\_validation.py:299: UserWarning: After over-sampling, the number of samples (400) in class 7 will be larger than the number of samples in the majority class (class #4 -> 69)\n",
      "  warnings.warn(\n",
      "C:\\Users\\mertt\\anaconda3\\envs\\tf\\lib\\site-packages\\imblearn\\utils\\_validation.py:299: UserWarning: After over-sampling, the number of samples (400) in class 8 will be larger than the number of samples in the majority class (class #4 -> 69)\n",
      "  warnings.warn(\n",
      "C:\\Users\\mertt\\anaconda3\\envs\\tf\\lib\\site-packages\\imblearn\\utils\\_validation.py:299: UserWarning: After over-sampling, the number of samples (400) in class 9 will be larger than the number of samples in the majority class (class #4 -> 69)\n",
      "  warnings.warn(\n"
     ]
    },
    {
     "name": "stdout",
     "output_type": "stream",
     "text": [
      "Class=11, n=1 (0.025%)\n",
      "Class=10, n=2 (0.050%)\n",
      "Class=9, n=400 (9.993%)\n",
      "Class=8, n=400 (9.993%)\n",
      "Class=1, n=400 (9.993%)\n",
      "Class=0, n=400 (9.993%)\n",
      "Class=7, n=400 (9.993%)\n",
      "Class=6, n=400 (9.993%)\n",
      "Class=5, n=400 (9.993%)\n",
      "Class=4, n=400 (9.993%)\n",
      "Class=3, n=400 (9.993%)\n",
      "Class=2, n=400 (9.993%)\n"
     ]
    },
    {
     "data": {
      "image/png": "[encoded data removed]",
      "text/plain": [
       "<Figure size 432x288 with 1 Axes>"
      ]
     },
     "metadata": {
      "needs_background": "light"
     },
     "output_type": "display_data"
    }
   ],
   "source": [
    "\n",
    "data = df.values\n",
    "X, y =  data[:, 1:], data[:, [0]]\n",
    "# label encode the target variable\n",
    "y = LabelEncoder().fit_transform(y)\n",
    "\n",
    "\n",
    "# transform the dataset\n",
    "strategy = {0:400, 1:400, 2:400, 3:400, 4:400, 5:400, 6:400,7:400,8:400,9:400}\n",
    "oversample = SMOTE(sampling_strategy=strategy)\n",
    "X, y = oversample.fit_resample(X, y)\n",
    "# summarize distribution\n",
    "counter = Counter(y)\n",
    "for k,v in counter.items():\n",
    "    per = v / len(y) * 100\n",
    "    print('Class=%d, n=%d (%.3f%%)' % (k, v, per))\n",
    "# plot the distribution\n",
    "pyplot.bar(counter.keys(), counter.values())\n",
    "pyplot.show()"
   ]
  },
  {
   "cell_type": "code",
   "execution_count": 5,
   "metadata": {},
   "outputs": [],
   "source": [
    "def evaluate_model(X, y, model):\n",
    "    # prediction\n",
    "    y_pred = model.predict(X)\n",
    "    \n",
    "    # confusion matrix\n",
    "    confusion_matrix = metrics.confusion_matrix(y, y_pred)\n",
    "    confusion_matrix_df = pd.DataFrame(confusion_matrix,\n",
    "    )\n",
    "\n",
    "    # plot confusion matrix\n",
    "    plt.figure(figsize=(5,4))\n",
    "    sns.heatmap(confusion_matrix_df, annot=True)\n",
    "    plt.title('Confusion Matrix')\n",
    "    plt.ylabel('Actal Values')\n",
    "    plt.xlabel('Predicted Values')\n",
    "    plt.show()    \n",
    "    \n",
    "    # total accuracy\n",
    "    nom = 0\n",
    "    denom = 0\n",
    "    for i in range(len(confusion_matrix)):\n",
    "        print(confusion_matrix[i][i])\n",
    "        nom += confusion_matrix[i][i]\n",
    "        denom += sum(list(confusion_matrix[i]))\n",
    "    total_accuracy = nom/denom\n",
    "    print(\"total_accuracy: \",total_accuracy)\n",
    "    \n",
    "    # \n"
   ]
  },
  {
   "cell_type": "code",
   "execution_count": 20,
   "metadata": {},
   "outputs": [
    {
     "name": "stdout",
     "output_type": "stream",
     "text": [
      "              precision    recall  f1-score   support\n",
      "\n",
      "           0       1.00      1.00      1.00       297\n",
      "           1       1.00      1.00      1.00       292\n",
      "           2       1.00      1.00      1.00       292\n",
      "           3       1.00      1.00      1.00       299\n",
      "           4       1.00      1.00      1.00       308\n",
      "           5       1.00      1.00      1.00       290\n",
      "           6       1.00      1.00      1.00       308\n",
      "           7       1.00      1.00      1.00       310\n",
      "           8       1.00      1.00      1.00       301\n",
      "           9       1.00      1.00      1.00       302\n",
      "          10       1.00      1.00      1.00         2\n",
      "          11       1.00      1.00      1.00         1\n",
      "\n",
      "    accuracy                           1.00      3002\n",
      "   macro avg       1.00      1.00      1.00      3002\n",
      "weighted avg       1.00      1.00      1.00      3002\n",
      "\n"
     ]
    }
   ],
   "source": [
    "y_pred = model.predict(X_train)\n",
    "from sklearn.metrics import classification_report\n",
    "print(classification_report(y_train, y_pred))"
   ]
  },
  {
   "cell_type": "code",
   "execution_count": 19,
   "metadata": {
    "scrolled": true
   },
   "outputs": [
    {
     "name": "stdout",
     "output_type": "stream",
     "text": [
      "              precision    recall  f1-score   support\n",
      "\n",
      "           0       0.84      0.92      0.88       103\n",
      "           1       0.88      0.84      0.86       108\n",
      "           2       0.96      0.88      0.92       108\n",
      "           3       0.86      0.82      0.84       101\n",
      "           4       0.82      0.77      0.79        92\n",
      "           5       0.80      0.87      0.83       110\n",
      "           6       0.90      0.97      0.93        92\n",
      "           7       0.96      0.89      0.92        90\n",
      "           8       0.95      1.00      0.98        99\n",
      "           9       1.00      0.97      0.98        98\n",
      "\n",
      "    accuracy                           0.89      1001\n",
      "   macro avg       0.90      0.89      0.89      1001\n",
      "weighted avg       0.90      0.89      0.89      1001\n",
      "\n"
     ]
    }
   ],
   "source": [
    "y_pred = model.predict(X_test)\n",
    "from sklearn.metrics import classification_report\n",
    "print(classification_report(y_test, y_pred))"
   ]
  },
  {
   "cell_type": "code",
   "execution_count": 6,
   "metadata": {},
   "outputs": [],
   "source": [
    "# split in to train test sets\n",
    "X_train, X_test, y_train, y_test = train_test_split(X, y, test_size=0.25, random_state=1)"
   ]
  },
  {
   "cell_type": "code",
   "execution_count": 7,
   "metadata": {
    "scrolled": true
   },
   "outputs": [],
   "source": [
    "# feature selection\n",
    "\n",
    "#sel = SelectFromModel(RandomForestClassifier(n_estimators = 100))\n",
    "#sel.fit(X_train, y_train)\n",
    "#sel.get_support()\n",
    "#pd.series(sel.estimator_,feature_importances_,.ravel()).hist()"
   ]
  },
  {
   "cell_type": "code",
   "execution_count": 8,
   "metadata": {},
   "outputs": [
    {
     "name": "stderr",
     "output_type": "stream",
     "text": [
      "C:\\Users\\mertt\\anaconda3\\envs\\tf\\lib\\site-packages\\sklearn\\model_selection\\_split.py:680: UserWarning: The least populated class in y has only 1 members, which is less than n_splits=5.\n",
      "  warnings.warn(\n"
     ]
    }
   ],
   "source": [
    "parameters = {\n",
    "    \"n_estimators\":[5,10,50,100,250,500,1000],\n",
    "    \"max_depth\":[2,4,8,16,32,None]\n",
    "}\n",
    "weights = {0:2.0, 1:2.0, 2:2.0, 3:5.0, 4:5.0, 5:2.0, 6:2.0,  7:2.0, 8:2.0, 9:2.0, 10:1.0, 11:1.0}\n",
    "model = RandomForestClassifier(class_weight=weights)\n",
    "\n",
    "from sklearn.model_selection import GridSearchCV\n",
    "cv = GridSearchCV(model,parameters,cv=5)\n",
    "cv.fit(X_train,y_train.ravel())\n",
    "\n",
    "def display(results):\n",
    "    print(f'Best parameters are: {results.best_params_}')\n",
    "    print(\"\\n\")\n",
    "    mean_score = results.cv_results_['mean_test_score']\n",
    "    std_score = results.cv_results_['std_test_score']\n",
    "    params = results.cv_results_['params']\n",
    "    for mean,std,params in zip(mean_score,std_score,params):\n",
    "        print(f'{round(mean,3)} + or -{round(std,3)} for the {params}')"
   ]
  },
  {
   "cell_type": "code",
   "execution_count": 9,
   "metadata": {
    "scrolled": true
   },
   "outputs": [
    {
     "name": "stdout",
     "output_type": "stream",
     "text": [
      "Best parameters are: {'max_depth': None, 'n_estimators': 1000}\n",
      "\n",
      "\n",
      "0.229 + or -0.03 for the {'max_depth': 2, 'n_estimators': 5}\n",
      "0.256 + or -0.029 for the {'max_depth': 2, 'n_estimators': 10}\n",
      "0.242 + or -0.023 for the {'max_depth': 2, 'n_estimators': 50}\n",
      "0.244 + or -0.01 for the {'max_depth': 2, 'n_estimators': 100}\n",
      "0.242 + or -0.013 for the {'max_depth': 2, 'n_estimators': 250}\n",
      "0.244 + or -0.014 for the {'max_depth': 2, 'n_estimators': 500}\n",
      "0.243 + or -0.016 for the {'max_depth': 2, 'n_estimators': 1000}\n",
      "0.411 + or -0.026 for the {'max_depth': 4, 'n_estimators': 5}\n",
      "0.434 + or -0.012 for the {'max_depth': 4, 'n_estimators': 10}\n",
      "0.462 + or -0.016 for the {'max_depth': 4, 'n_estimators': 50}\n",
      "0.469 + or -0.018 for the {'max_depth': 4, 'n_estimators': 100}\n",
      "0.477 + or -0.022 for the {'max_depth': 4, 'n_estimators': 250}\n",
      "0.474 + or -0.02 for the {'max_depth': 4, 'n_estimators': 500}\n",
      "0.482 + or -0.018 for the {'max_depth': 4, 'n_estimators': 1000}\n",
      "0.656 + or -0.008 for the {'max_depth': 8, 'n_estimators': 5}\n",
      "0.699 + or -0.016 for the {'max_depth': 8, 'n_estimators': 10}\n",
      "0.756 + or -0.016 for the {'max_depth': 8, 'n_estimators': 50}\n",
      "0.754 + or -0.01 for the {'max_depth': 8, 'n_estimators': 100}\n",
      "0.768 + or -0.012 for the {'max_depth': 8, 'n_estimators': 250}\n",
      "0.764 + or -0.013 for the {'max_depth': 8, 'n_estimators': 500}\n",
      "0.761 + or -0.016 for the {'max_depth': 8, 'n_estimators': 1000}\n",
      "0.799 + or -0.005 for the {'max_depth': 16, 'n_estimators': 5}\n",
      "0.836 + or -0.015 for the {'max_depth': 16, 'n_estimators': 10}\n",
      "0.876 + or -0.02 for the {'max_depth': 16, 'n_estimators': 50}\n",
      "0.887 + or -0.015 for the {'max_depth': 16, 'n_estimators': 100}\n",
      "0.89 + or -0.015 for the {'max_depth': 16, 'n_estimators': 250}\n",
      "0.887 + or -0.015 for the {'max_depth': 16, 'n_estimators': 500}\n",
      "0.889 + or -0.017 for the {'max_depth': 16, 'n_estimators': 1000}\n",
      "0.798 + or -0.011 for the {'max_depth': 32, 'n_estimators': 5}\n",
      "0.846 + or -0.009 for the {'max_depth': 32, 'n_estimators': 10}\n",
      "0.879 + or -0.013 for the {'max_depth': 32, 'n_estimators': 50}\n",
      "0.888 + or -0.016 for the {'max_depth': 32, 'n_estimators': 100}\n",
      "0.89 + or -0.011 for the {'max_depth': 32, 'n_estimators': 250}\n",
      "0.893 + or -0.013 for the {'max_depth': 32, 'n_estimators': 500}\n",
      "0.893 + or -0.012 for the {'max_depth': 32, 'n_estimators': 1000}\n",
      "0.8 + or -0.016 for the {'max_depth': None, 'n_estimators': 5}\n",
      "0.846 + or -0.019 for the {'max_depth': None, 'n_estimators': 10}\n",
      "0.882 + or -0.013 for the {'max_depth': None, 'n_estimators': 50}\n",
      "0.885 + or -0.015 for the {'max_depth': None, 'n_estimators': 100}\n",
      "0.89 + or -0.014 for the {'max_depth': None, 'n_estimators': 250}\n",
      "0.886 + or -0.009 for the {'max_depth': None, 'n_estimators': 500}\n",
      "0.893 + or -0.011 for the {'max_depth': None, 'n_estimators': 1000}\n"
     ]
    }
   ],
   "source": [
    "display(cv)"
   ]
  },
  {
   "cell_type": "code",
   "execution_count": 10,
   "metadata": {
    "scrolled": false
   },
   "outputs": [
    {
     "name": "stderr",
     "output_type": "stream",
     "text": [
      "C:\\Users\\mertt\\anaconda3\\envs\\tf\\lib\\site-packages\\sklearn\\model_selection\\_split.py:680: UserWarning: The least populated class in y has only 1 members, which is less than n_splits=5.\n",
      "  warnings.warn(\n",
      "C:\\Users\\mertt\\anaconda3\\envs\\tf\\lib\\site-packages\\sklearn\\model_selection\\_split.py:680: UserWarning: The least populated class in y has only 1 members, which is less than n_splits=5.\n",
      "  warnings.warn(\n",
      "C:\\Users\\mertt\\anaconda3\\envs\\tf\\lib\\site-packages\\sklearn\\model_selection\\_split.py:680: UserWarning: The least populated class in y has only 1 members, which is less than n_splits=5.\n",
      "  warnings.warn(\n",
      "C:\\Users\\mertt\\anaconda3\\envs\\tf\\lib\\site-packages\\sklearn\\model_selection\\_split.py:680: UserWarning: The least populated class in y has only 1 members, which is less than n_splits=5.\n",
      "  warnings.warn(\n"
     ]
    },
    {
     "name": "stdout",
     "output_type": "stream",
     "text": [
      "Mean Accuracy: 0.890 (0.014)\n"
     ]
    }
   ],
   "source": [
    "## generate dataset\n",
    "#X_train, y_train = make_classification(n_samples=100, n_features=7, n_informative=2)\n",
    "## define feature selection\n",
    "#fs = SelectKBest(score_func=f_classif, k=5)\n",
    "## apply feature selection\n",
    "#X_selected = fs.fit_transform(X_train, y_train)\n",
    "#print(X_selected.shape)\n",
    "\n",
    "weights = {0:2.0, 1:2.0, 2:2.0, 3:4.0, 4:4.0, 5:2.0, 6:2.0,  7:2.0, 8:2.0, 9:2.0, 10:1.0, 11:1.0}\n",
    "model = RandomForestClassifier(max_depth=None,n_estimators=1000,class_weight=weights)\n",
    "scores = evaluate_model(X_train, y_train, model)\n",
    "model.fit(X_train, y_train)\n",
    "print('Mean Accuracy: %.3f (%.3f)' % (mean(scores), std(scores)))"
   ]
  },
  {
   "cell_type": "code",
   "execution_count": 14,
   "metadata": {},
   "outputs": [
    {
     "data": {
      "image/png": "[encoded data removed]",
      "text/plain": [
       "<Figure size 360x288 with 2 Axes>"
      ]
     },
     "metadata": {
      "needs_background": "light"
     },
     "output_type": "display_data"
    }
   ],
   "source": [
    "# training confusion matrix\n",
    "\n",
    "y_pred = model.predict(X_train)\n",
    "confusion_matrix = metrics.confusion_matrix(y_train, y_pred)\n",
    "confusion_matrix_df = pd.DataFrame(confusion_matrix,\n",
    ")\n",
    "\n",
    "plt.figure(figsize=(5,4))\n",
    "sns.heatmap(confusion_matrix_df, annot=True)\n",
    "plt.title('Confusion Matrix')\n",
    "plt.ylabel('Actal Values')\n",
    "plt.xlabel('Predicted Values')\n",
    "plt.show()"
   ]
  },
  {
   "cell_type": "code",
   "execution_count": 15,
   "metadata": {},
   "outputs": [
    {
     "name": "stdout",
     "output_type": "stream",
     "text": [
      "297\n",
      "292\n",
      "292\n",
      "299\n",
      "308\n",
      "290\n",
      "308\n",
      "310\n",
      "301\n",
      "302\n",
      "2\n",
      "1\n"
     ]
    },
    {
     "data": {
      "text/plain": [
       "1.0"
      ]
     },
     "execution_count": 15,
     "metadata": {},
     "output_type": "execute_result"
    }
   ],
   "source": [
    "nom = 0\n",
    "denom = 0\n",
    "for i in range(len(confusion_matrix)):\n",
    "    print(confusion_matrix[i][i])\n",
    "    nom += confusion_matrix[i][i]\n",
    "    denom += sum(list(confusion_matrix[i]))\n",
    "\n",
    "nom/denom"
   ]
  },
  {
   "cell_type": "code",
   "execution_count": 11,
   "metadata": {
    "scrolled": true
   },
   "outputs": [
    {
     "name": "stdout",
     "output_type": "stream",
     "text": [
      "Mean Accuracy: 0.761 (0.025)\n"
     ]
    }
   ],
   "source": [
    "# generate dataset\n",
    "#X_test, y_test = make_classification(n_samples=100, n_features=10, n_informative=2)\n",
    "# define feature selection\n",
    "#fs = SelectKBest(score_func=f_classif, k=5)\n",
    "## apply feature selection\n",
    "#X_test_selected = fs.fit_transform(X_test, y_test)\n",
    "#print(X_test_selected.shape)\n",
    "\n",
    "scores = evaluate_model(X_test, y_test, model)\n",
    "print('Mean Accuracy: %.3f (%.3f)' % (mean(scores), std(scores)))"
   ]
  },
  {
   "cell_type": "code",
   "execution_count": 12,
   "metadata": {
    "scrolled": true
   },
   "outputs": [
    {
     "data": {
      "image/png": "[encoded data removed]",
      "text/plain": [
       "<Figure size 360x288 with 2 Axes>"
      ]
     },
     "metadata": {
      "needs_background": "light"
     },
     "output_type": "display_data"
    }
   ],
   "source": [
    "from sklearn import metrics\n",
    "import seaborn as sns\n",
    "import matplotlib.pyplot as plt\n",
    "\n",
    "y_pred = model.predict(X_test)\n",
    "confusion_matrix = metrics.confusion_matrix(y_test, y_pred)\n",
    "confusion_matrix_df = pd.DataFrame(confusion_matrix,\n",
    ")\n",
    "\n",
    "plt.figure(figsize=(5,4))\n",
    "sns.heatmap(confusion_matrix_df, annot=True)\n",
    "plt.title('Confusion Matrix')\n",
    "plt.ylabel('Actal Values')\n",
    "plt.xlabel('Predicted Values')\n",
    "plt.show()"
   ]
  },
  {
   "cell_type": "code",
   "execution_count": 13,
   "metadata": {},
   "outputs": [
    {
     "name": "stdout",
     "output_type": "stream",
     "text": [
      "103\n",
      "211\n",
      "319\n",
      "420\n",
      "512\n",
      "622\n",
      "714\n",
      "804\n",
      "903\n",
      "1001\n",
      "894\n",
      "1001\n"
     ]
    },
    {
     "data": {
      "text/plain": [
       "0.8931068931068931"
      ]
     },
     "execution_count": 13,
     "metadata": {},
     "output_type": "execute_result"
    }
   ],
   "source": [
    "nom = 0\n",
    "denom = 0\n",
    "for i in range(len(confusion_matrix)):\n",
    "    \n",
    "    nom += confusion_matrix[i][i]\n",
    "    denom += sum(list(confusion_matrix[i]))\n",
    "    print(denom)\n",
    "print(nom)\n",
    "print(denom)\n",
    "nom/denom"
   ]
  },
  {
   "cell_type": "code",
   "execution_count": 45,
   "metadata": {},
   "outputs": [],
   "source": [
    "cm_2=[[91, 0,  2,  6,  3,  0,  1,  0,  0,  0],\n",
    "[ 0, 92,  0,  8,  4,  3,  0,  0,  1,  0],\n",
    "[ 5,  0, 84,  0,  2,  5,  5,  1,  6,  0],\n",
    "[ 3,  9,  0, 79,  0,  5,  4,  1,  0,  0],\n",
    "[ 2,  3,  4,  0, 72,  0,  4,  2,  3,  2],\n",
    "[ 2,  4,  3,  3,  0, 96,  0,  0,  1,  1],\n",
    "[ 0,  0,  0,  0,  1,  0, 86,  0,  5,  0],\n",
    "[ 0,  0,  0,  3,  2,  1,  0, 81,  0,  3],\n",
    "[ 0,  1,  0,  1,  0,  4,  0,  0, 93,  0],\n",
    "[ 0,  0,  0,  0,  0,  1,  0,  4,  0, 93]]"
   ]
  },
  {
   "cell_type": "code",
   "execution_count": null,
   "metadata": {},
   "outputs": [],
   "source": []
  },
  {
   "cell_type": "code",
   "execution_count": 49,
   "metadata": {},
   "outputs": [],
   "source": [
    "confusion_matrix_df_2 = pd.DataFrame(np.array(cm_2))"
   ]
  },
  {
   "cell_type": "code",
   "execution_count": 66,
   "metadata": {
    "scrolled": true
   },
   "outputs": [
    {
     "data": {
      "text/html": [
       "<div>\n",
       "<style scoped>\n",
       "    .dataframe tbody tr th:only-of-type {\n",
       "        vertical-align: middle;\n",
       "    }\n",
       "\n",
       "    .dataframe tbody tr th {\n",
       "        vertical-align: top;\n",
       "    }\n",
       "\n",
       "    .dataframe thead th {\n",
       "        text-align: right;\n",
       "    }\n",
       "</style>\n",
       "<table border=\"1\" class=\"dataframe\">\n",
       "  <thead>\n",
       "    <tr style=\"text-align: right;\">\n",
       "      <th></th>\n",
       "      <th>0</th>\n",
       "      <th>1</th>\n",
       "      <th>2</th>\n",
       "      <th>3</th>\n",
       "      <th>4</th>\n",
       "      <th>5</th>\n",
       "      <th>6</th>\n",
       "      <th>7</th>\n",
       "      <th>8</th>\n",
       "      <th>9</th>\n",
       "    </tr>\n",
       "  </thead>\n",
       "  <tbody>\n",
       "    <tr>\n",
       "      <th>0</th>\n",
       "      <td>91</td>\n",
       "      <td>0</td>\n",
       "      <td>2</td>\n",
       "      <td>6</td>\n",
       "      <td>3</td>\n",
       "      <td>0</td>\n",
       "      <td>1</td>\n",
       "      <td>0</td>\n",
       "      <td>0</td>\n",
       "      <td>0</td>\n",
       "    </tr>\n",
       "    <tr>\n",
       "      <th>1</th>\n",
       "      <td>0</td>\n",
       "      <td>92</td>\n",
       "      <td>0</td>\n",
       "      <td>8</td>\n",
       "      <td>4</td>\n",
       "      <td>3</td>\n",
       "      <td>0</td>\n",
       "      <td>0</td>\n",
       "      <td>1</td>\n",
       "      <td>0</td>\n",
       "    </tr>\n",
       "    <tr>\n",
       "      <th>2</th>\n",
       "      <td>5</td>\n",
       "      <td>0</td>\n",
       "      <td>84</td>\n",
       "      <td>0</td>\n",
       "      <td>2</td>\n",
       "      <td>5</td>\n",
       "      <td>5</td>\n",
       "      <td>1</td>\n",
       "      <td>6</td>\n",
       "      <td>0</td>\n",
       "    </tr>\n",
       "    <tr>\n",
       "      <th>3</th>\n",
       "      <td>3</td>\n",
       "      <td>9</td>\n",
       "      <td>0</td>\n",
       "      <td>79</td>\n",
       "      <td>0</td>\n",
       "      <td>5</td>\n",
       "      <td>4</td>\n",
       "      <td>1</td>\n",
       "      <td>0</td>\n",
       "      <td>0</td>\n",
       "    </tr>\n",
       "    <tr>\n",
       "      <th>4</th>\n",
       "      <td>2</td>\n",
       "      <td>3</td>\n",
       "      <td>4</td>\n",
       "      <td>0</td>\n",
       "      <td>72</td>\n",
       "      <td>0</td>\n",
       "      <td>4</td>\n",
       "      <td>2</td>\n",
       "      <td>3</td>\n",
       "      <td>2</td>\n",
       "    </tr>\n",
       "    <tr>\n",
       "      <th>5</th>\n",
       "      <td>2</td>\n",
       "      <td>4</td>\n",
       "      <td>3</td>\n",
       "      <td>3</td>\n",
       "      <td>0</td>\n",
       "      <td>96</td>\n",
       "      <td>0</td>\n",
       "      <td>0</td>\n",
       "      <td>1</td>\n",
       "      <td>1</td>\n",
       "    </tr>\n",
       "    <tr>\n",
       "      <th>6</th>\n",
       "      <td>0</td>\n",
       "      <td>0</td>\n",
       "      <td>0</td>\n",
       "      <td>0</td>\n",
       "      <td>1</td>\n",
       "      <td>0</td>\n",
       "      <td>86</td>\n",
       "      <td>0</td>\n",
       "      <td>5</td>\n",
       "      <td>0</td>\n",
       "    </tr>\n",
       "    <tr>\n",
       "      <th>7</th>\n",
       "      <td>0</td>\n",
       "      <td>0</td>\n",
       "      <td>0</td>\n",
       "      <td>3</td>\n",
       "      <td>2</td>\n",
       "      <td>1</td>\n",
       "      <td>0</td>\n",
       "      <td>81</td>\n",
       "      <td>0</td>\n",
       "      <td>3</td>\n",
       "    </tr>\n",
       "    <tr>\n",
       "      <th>8</th>\n",
       "      <td>0</td>\n",
       "      <td>1</td>\n",
       "      <td>0</td>\n",
       "      <td>1</td>\n",
       "      <td>0</td>\n",
       "      <td>4</td>\n",
       "      <td>0</td>\n",
       "      <td>0</td>\n",
       "      <td>93</td>\n",
       "      <td>0</td>\n",
       "    </tr>\n",
       "    <tr>\n",
       "      <th>9</th>\n",
       "      <td>0</td>\n",
       "      <td>0</td>\n",
       "      <td>0</td>\n",
       "      <td>0</td>\n",
       "      <td>0</td>\n",
       "      <td>1</td>\n",
       "      <td>0</td>\n",
       "      <td>4</td>\n",
       "      <td>0</td>\n",
       "      <td>93</td>\n",
       "    </tr>\n",
       "  </tbody>\n",
       "</table>\n",
       "</div>"
      ],
      "text/plain": [
       "    0   1   2   3   4   5   6   7   8   9\n",
       "0  91   0   2   6   3   0   1   0   0   0\n",
       "1   0  92   0   8   4   3   0   0   1   0\n",
       "2   5   0  84   0   2   5   5   1   6   0\n",
       "3   3   9   0  79   0   5   4   1   0   0\n",
       "4   2   3   4   0  72   0   4   2   3   2\n",
       "5   2   4   3   3   0  96   0   0   1   1\n",
       "6   0   0   0   0   1   0  86   0   5   0\n",
       "7   0   0   0   3   2   1   0  81   0   3\n",
       "8   0   1   0   1   0   4   0   0  93   0\n",
       "9   0   0   0   0   0   1   0   4   0  93"
      ]
     },
     "execution_count": 66,
     "metadata": {},
     "output_type": "execute_result"
    }
   ],
   "source": [
    "confusion_matrix_df_2"
   ]
  },
  {
   "cell_type": "code",
   "execution_count": 51,
   "metadata": {
    "scrolled": false
   },
   "outputs": [
    {
     "data": {
      "image/png": "[encoded data removed]",
      "text/plain": [
       "<Figure size 360x288 with 2 Axes>"
      ]
     },
     "metadata": {
      "needs_background": "light"
     },
     "output_type": "display_data"
    }
   ],
   "source": [
    "plt.figure(figsize=(5,4))\n",
    "sns.heatmap(confusion_matrix_df_2, annot=True)\n",
    "plt.title('Confusion Matrix')\n",
    "plt.ylabel('Actal Values')\n",
    "plt.xlabel('Predicted Values')\n",
    "plt.show()"
   ]
  },
  {
   "cell_type": "code",
   "execution_count": 52,
   "metadata": {},
   "outputs": [
    {
     "data": {
      "text/plain": [
       "0.8737854635071324"
      ]
     },
     "execution_count": 52,
     "metadata": {},
     "output_type": "execute_result"
    }
   ],
   "source": [
    "(91/103 + 92/108 + 84/93 + 79/100 + 72/82 + 96/115 + 86/100 + 81/89 + 93/106 + 93/98)/10"
   ]
  }
 ],
 "metadata": {
  "kernelspec": {
   "display_name": "Python 3",
   "language": "python",
   "name": "python3"
  },
  "language_info": {
   "codemirror_mode": {
    "name": "ipython",
    "version": 3
   },
   "file_extension": ".py",
   "mimetype": "text/x-python",
   "name": "python",
   "nbconvert_exporter": "python",
   "pygments_lexer": "ipython3",
   "version": "3.8.5"
  }
 },
 "nbformat": 4,
 "nbformat_minor": 4
}
