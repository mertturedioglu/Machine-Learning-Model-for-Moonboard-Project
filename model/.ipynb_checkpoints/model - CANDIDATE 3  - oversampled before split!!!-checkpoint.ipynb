{
 "cells": [
  {
   "cell_type": "code",
   "execution_count": 1,
   "metadata": {},
   "outputs": [],
   "source": [
    "# check version number\n",
    "import imblearn\n",
    "from collections import Counter\n",
    "from matplotlib import pyplot\n",
    "import pandas as pd\n",
    "from imblearn.over_sampling import SMOTE\n",
    "import numpy as np\n",
    "from numpy import std\n",
    "from numpy import mean\n",
    "from pandas import read_csv\n",
    "from sklearn.preprocessing import LabelEncoder\n",
    "from sklearn.model_selection import cross_val_score\n",
    "from sklearn.model_selection import RepeatedStratifiedKFold\n",
    "from sklearn.ensemble import RandomForestClassifier\n",
    "from sklearn.model_selection import train_test_split\n",
    "from sklearn.datasets import make_classification\n",
    "from sklearn.feature_selection import SelectKBest\n",
    "from sklearn.feature_selection import f_classif\n",
    "from sklearn.feature_selection import SelectFromModel\n",
    "from sklearn.metrics import classification_report\n",
    "from sklearn import metrics\n",
    "import seaborn as sns\n",
    "import matplotlib.pyplot as plt"
   ]
  },
  {
   "cell_type": "code",
   "execution_count": 2,
   "metadata": {
    "scrolled": false
   },
   "outputs": [
    {
     "data": {
      "text/html": [
       "<div>\n",
       "<style scoped>\n",
       "    .dataframe tbody tr th:only-of-type {\n",
       "        vertical-align: middle;\n",
       "    }\n",
       "\n",
       "    .dataframe tbody tr th {\n",
       "        vertical-align: top;\n",
       "    }\n",
       "\n",
       "    .dataframe thead th {\n",
       "        text-align: right;\n",
       "    }\n",
       "</style>\n",
       "<table border=\"1\" class=\"dataframe\">\n",
       "  <thead>\n",
       "    <tr style=\"text-align: right;\">\n",
       "      <th></th>\n",
       "      <th>Grade</th>\n",
       "      <th>number_of_holds</th>\n",
       "      <th>downwards_count</th>\n",
       "      <th>yellow_count</th>\n",
       "      <th>black_count</th>\n",
       "      <th>white_count</th>\n",
       "      <th>downwards_percent</th>\n",
       "      <th>black_percent</th>\n",
       "      <th>white_percent</th>\n",
       "      <th>b_w_percent</th>\n",
       "      <th>mean_distance_of_holds</th>\n",
       "      <th>last_move_diff</th>\n",
       "      <th>first_move_diff</th>\n",
       "    </tr>\n",
       "  </thead>\n",
       "  <tbody>\n",
       "    <tr>\n",
       "      <th>0</th>\n",
       "      <td>6B+</td>\n",
       "      <td>7</td>\n",
       "      <td>7</td>\n",
       "      <td>0</td>\n",
       "      <td>7</td>\n",
       "      <td>0</td>\n",
       "      <td>1.000000</td>\n",
       "      <td>1.000000</td>\n",
       "      <td>0.000000</td>\n",
       "      <td>1.000000</td>\n",
       "      <td>6.399841</td>\n",
       "      <td>0.788516</td>\n",
       "      <td>1.870958</td>\n",
       "    </tr>\n",
       "    <tr>\n",
       "      <th>1</th>\n",
       "      <td>6B+</td>\n",
       "      <td>8</td>\n",
       "      <td>7</td>\n",
       "      <td>0</td>\n",
       "      <td>3</td>\n",
       "      <td>5</td>\n",
       "      <td>0.875000</td>\n",
       "      <td>0.375000</td>\n",
       "      <td>0.625000</td>\n",
       "      <td>1.000000</td>\n",
       "      <td>7.424608</td>\n",
       "      <td>0.854800</td>\n",
       "      <td>2.094284</td>\n",
       "    </tr>\n",
       "    <tr>\n",
       "      <th>2</th>\n",
       "      <td>6B+</td>\n",
       "      <td>7</td>\n",
       "      <td>7</td>\n",
       "      <td>0</td>\n",
       "      <td>4</td>\n",
       "      <td>3</td>\n",
       "      <td>1.000000</td>\n",
       "      <td>0.571429</td>\n",
       "      <td>0.428571</td>\n",
       "      <td>1.000000</td>\n",
       "      <td>6.444026</td>\n",
       "      <td>1.040404</td>\n",
       "      <td>2.124323</td>\n",
       "    </tr>\n",
       "    <tr>\n",
       "      <th>3</th>\n",
       "      <td>6B+</td>\n",
       "      <td>7</td>\n",
       "      <td>7</td>\n",
       "      <td>0</td>\n",
       "      <td>4</td>\n",
       "      <td>3</td>\n",
       "      <td>1.000000</td>\n",
       "      <td>0.571429</td>\n",
       "      <td>0.428571</td>\n",
       "      <td>1.000000</td>\n",
       "      <td>6.520696</td>\n",
       "      <td>0.775559</td>\n",
       "      <td>2.172539</td>\n",
       "    </tr>\n",
       "    <tr>\n",
       "      <th>4</th>\n",
       "      <td>6B+</td>\n",
       "      <td>6</td>\n",
       "      <td>6</td>\n",
       "      <td>0</td>\n",
       "      <td>2</td>\n",
       "      <td>4</td>\n",
       "      <td>1.000000</td>\n",
       "      <td>0.333333</td>\n",
       "      <td>0.666667</td>\n",
       "      <td>1.000000</td>\n",
       "      <td>6.631099</td>\n",
       "      <td>0.941565</td>\n",
       "      <td>1.881420</td>\n",
       "    </tr>\n",
       "    <tr>\n",
       "      <th>5</th>\n",
       "      <td>6B+</td>\n",
       "      <td>6</td>\n",
       "      <td>6</td>\n",
       "      <td>0</td>\n",
       "      <td>4</td>\n",
       "      <td>2</td>\n",
       "      <td>1.000000</td>\n",
       "      <td>0.666667</td>\n",
       "      <td>0.333333</td>\n",
       "      <td>1.000000</td>\n",
       "      <td>6.617727</td>\n",
       "      <td>0.864005</td>\n",
       "      <td>1.595092</td>\n",
       "    </tr>\n",
       "    <tr>\n",
       "      <th>6</th>\n",
       "      <td>6B+</td>\n",
       "      <td>5</td>\n",
       "      <td>5</td>\n",
       "      <td>0</td>\n",
       "      <td>2</td>\n",
       "      <td>3</td>\n",
       "      <td>1.000000</td>\n",
       "      <td>0.400000</td>\n",
       "      <td>0.600000</td>\n",
       "      <td>1.000000</td>\n",
       "      <td>6.883367</td>\n",
       "      <td>1.119767</td>\n",
       "      <td>1.743645</td>\n",
       "    </tr>\n",
       "    <tr>\n",
       "      <th>7</th>\n",
       "      <td>6B+</td>\n",
       "      <td>5</td>\n",
       "      <td>5</td>\n",
       "      <td>0</td>\n",
       "      <td>4</td>\n",
       "      <td>1</td>\n",
       "      <td>1.000000</td>\n",
       "      <td>0.800000</td>\n",
       "      <td>0.200000</td>\n",
       "      <td>1.000000</td>\n",
       "      <td>6.925795</td>\n",
       "      <td>0.952574</td>\n",
       "      <td>1.804434</td>\n",
       "    </tr>\n",
       "    <tr>\n",
       "      <th>8</th>\n",
       "      <td>6B+</td>\n",
       "      <td>9</td>\n",
       "      <td>8</td>\n",
       "      <td>4</td>\n",
       "      <td>1</td>\n",
       "      <td>4</td>\n",
       "      <td>0.888889</td>\n",
       "      <td>0.111111</td>\n",
       "      <td>0.444444</td>\n",
       "      <td>0.555556</td>\n",
       "      <td>6.680419</td>\n",
       "      <td>6.711247</td>\n",
       "      <td>3.238451</td>\n",
       "    </tr>\n",
       "    <tr>\n",
       "      <th>9</th>\n",
       "      <td>6B+</td>\n",
       "      <td>7</td>\n",
       "      <td>7</td>\n",
       "      <td>3</td>\n",
       "      <td>0</td>\n",
       "      <td>4</td>\n",
       "      <td>1.000000</td>\n",
       "      <td>0.000000</td>\n",
       "      <td>0.571429</td>\n",
       "      <td>0.571429</td>\n",
       "      <td>5.965694</td>\n",
       "      <td>0.736140</td>\n",
       "      <td>2.247867</td>\n",
       "    </tr>\n",
       "  </tbody>\n",
       "</table>\n",
       "</div>"
      ],
      "text/plain": [
       "  Grade  number_of_holds  downwards_count  yellow_count  black_count  \\\n",
       "0   6B+                7                7             0            7   \n",
       "1   6B+                8                7             0            3   \n",
       "2   6B+                7                7             0            4   \n",
       "3   6B+                7                7             0            4   \n",
       "4   6B+                6                6             0            2   \n",
       "5   6B+                6                6             0            4   \n",
       "6   6B+                5                5             0            2   \n",
       "7   6B+                5                5             0            4   \n",
       "8   6B+                9                8             4            1   \n",
       "9   6B+                7                7             3            0   \n",
       "\n",
       "   white_count  downwards_percent  black_percent  white_percent  b_w_percent  \\\n",
       "0            0           1.000000       1.000000       0.000000     1.000000   \n",
       "1            5           0.875000       0.375000       0.625000     1.000000   \n",
       "2            3           1.000000       0.571429       0.428571     1.000000   \n",
       "3            3           1.000000       0.571429       0.428571     1.000000   \n",
       "4            4           1.000000       0.333333       0.666667     1.000000   \n",
       "5            2           1.000000       0.666667       0.333333     1.000000   \n",
       "6            3           1.000000       0.400000       0.600000     1.000000   \n",
       "7            1           1.000000       0.800000       0.200000     1.000000   \n",
       "8            4           0.888889       0.111111       0.444444     0.555556   \n",
       "9            4           1.000000       0.000000       0.571429     0.571429   \n",
       "\n",
       "   mean_distance_of_holds  last_move_diff  first_move_diff  \n",
       "0                6.399841        0.788516         1.870958  \n",
       "1                7.424608        0.854800         2.094284  \n",
       "2                6.444026        1.040404         2.124323  \n",
       "3                6.520696        0.775559         2.172539  \n",
       "4                6.631099        0.941565         1.881420  \n",
       "5                6.617727        0.864005         1.595092  \n",
       "6                6.883367        1.119767         1.743645  \n",
       "7                6.925795        0.952574         1.804434  \n",
       "8                6.680419        6.711247         3.238451  \n",
       "9                5.965694        0.736140         2.247867  "
      ]
     },
     "execution_count": 2,
     "metadata": {},
     "output_type": "execute_result"
    }
   ],
   "source": [
    "# DataFrame\n",
    "df = pd.read_csv(\"dataset_draft3.csv\")\n",
    "df.drop([\n",
    "         \"median_diff_holds\",\n",
    "         \"mean_diff_holds\",\n",
    "         \"Unnamed: 0\",\n",
    "         \"holds\", \n",
    "         \"Name\", \"Moves\",\n",
    "         \"Holdsets\",\n",
    "         \"Id\",\n",
    "         \"lengths_of_moves\",\n",
    "         \"Grade_thermo\",\n",
    "         \"Grade_ohe\",\n",
    "         \"numeric_grades\",\n",
    "         'only_sideways_count',\n",
    "         'only_upwards_count',\n",
    "         'only_upwards_percent',\n",
    "         \"yellow_percent\",\n",
    "        ],\n",
    "        axis=1, inplace=True)\n",
    "\n",
    "# sort by grade\n",
    "\n",
    "df = df.sort_values(by=['Grade_numeric'])\n",
    "df = df.reset_index(drop=True)\n",
    "df.drop([\"Grade_numeric\"], axis=1, inplace=True)\n",
    "df.head(10)"
   ]
  },
  {
   "cell_type": "code",
   "execution_count": 3,
   "metadata": {
    "scrolled": true
   },
   "outputs": [
    {
     "data": {
      "text/plain": [
       "Index(['Grade', 'number_of_holds', 'downwards_count', 'yellow_count',\n",
       "       'black_count', 'white_count', 'downwards_percent', 'black_percent',\n",
       "       'white_percent', 'b_w_percent', 'mean_distance_of_holds',\n",
       "       'last_move_diff', 'first_move_diff'],\n",
       "      dtype='object')"
      ]
     },
     "execution_count": 3,
     "metadata": {},
     "output_type": "execute_result"
    }
   ],
   "source": [
    "df.columns"
   ]
  },
  {
   "cell_type": "code",
   "execution_count": 4,
   "metadata": {
    "scrolled": false
   },
   "outputs": [
    {
     "name": "stderr",
     "output_type": "stream",
     "text": [
      "C:\\Users\\mertt\\anaconda3\\envs\\tf\\lib\\site-packages\\sklearn\\preprocessing\\_label.py:115: DataConversionWarning: A column-vector y was passed when a 1d array was expected. Please change the shape of y to (n_samples, ), for example using ravel().\n",
      "  y = column_or_1d(y, warn=True)\n",
      "C:\\Users\\mertt\\anaconda3\\envs\\tf\\lib\\site-packages\\imblearn\\utils\\_validation.py:299: UserWarning: After over-sampling, the number of samples (500) in class 0 will be larger than the number of samples in the majority class (class #4 -> 69)\n",
      "  warnings.warn(\n",
      "C:\\Users\\mertt\\anaconda3\\envs\\tf\\lib\\site-packages\\imblearn\\utils\\_validation.py:299: UserWarning: After over-sampling, the number of samples (500) in class 1 will be larger than the number of samples in the majority class (class #4 -> 69)\n",
      "  warnings.warn(\n",
      "C:\\Users\\mertt\\anaconda3\\envs\\tf\\lib\\site-packages\\imblearn\\utils\\_validation.py:299: UserWarning: After over-sampling, the number of samples (500) in class 2 will be larger than the number of samples in the majority class (class #4 -> 69)\n",
      "  warnings.warn(\n",
      "C:\\Users\\mertt\\anaconda3\\envs\\tf\\lib\\site-packages\\imblearn\\utils\\_validation.py:299: UserWarning: After over-sampling, the number of samples (500) in class 3 will be larger than the number of samples in the majority class (class #4 -> 69)\n",
      "  warnings.warn(\n",
      "C:\\Users\\mertt\\anaconda3\\envs\\tf\\lib\\site-packages\\imblearn\\utils\\_validation.py:299: UserWarning: After over-sampling, the number of samples (500) in class 4 will be larger than the number of samples in the majority class (class #4 -> 69)\n",
      "  warnings.warn(\n",
      "C:\\Users\\mertt\\anaconda3\\envs\\tf\\lib\\site-packages\\imblearn\\utils\\_validation.py:299: UserWarning: After over-sampling, the number of samples (500) in class 5 will be larger than the number of samples in the majority class (class #4 -> 69)\n",
      "  warnings.warn(\n",
      "C:\\Users\\mertt\\anaconda3\\envs\\tf\\lib\\site-packages\\imblearn\\utils\\_validation.py:299: UserWarning: After over-sampling, the number of samples (500) in class 6 will be larger than the number of samples in the majority class (class #4 -> 69)\n",
      "  warnings.warn(\n",
      "C:\\Users\\mertt\\anaconda3\\envs\\tf\\lib\\site-packages\\imblearn\\utils\\_validation.py:299: UserWarning: After over-sampling, the number of samples (500) in class 7 will be larger than the number of samples in the majority class (class #4 -> 69)\n",
      "  warnings.warn(\n",
      "C:\\Users\\mertt\\anaconda3\\envs\\tf\\lib\\site-packages\\imblearn\\utils\\_validation.py:299: UserWarning: After over-sampling, the number of samples (500) in class 8 will be larger than the number of samples in the majority class (class #4 -> 69)\n",
      "  warnings.warn(\n",
      "C:\\Users\\mertt\\anaconda3\\envs\\tf\\lib\\site-packages\\imblearn\\utils\\_validation.py:299: UserWarning: After over-sampling, the number of samples (500) in class 9 will be larger than the number of samples in the majority class (class #4 -> 69)\n",
      "  warnings.warn(\n"
     ]
    },
    {
     "name": "stdout",
     "output_type": "stream",
     "text": [
      "Class=0, n=500 (9.994%)\n",
      "Class=1, n=500 (9.994%)\n",
      "Class=2, n=500 (9.994%)\n",
      "Class=3, n=500 (9.994%)\n",
      "Class=4, n=500 (9.994%)\n",
      "Class=5, n=500 (9.994%)\n",
      "Class=6, n=500 (9.994%)\n",
      "Class=7, n=500 (9.994%)\n",
      "Class=8, n=500 (9.994%)\n",
      "Class=9, n=500 (9.994%)\n",
      "Class=10, n=2 (0.040%)\n",
      "Class=11, n=1 (0.020%)\n"
     ]
    },
    {
     "data": {
      "image/png": "[encoded data removed]",
      "text/plain": [
       "<Figure size 432x288 with 1 Axes>"
      ]
     },
     "metadata": {
      "needs_background": "light"
     },
     "output_type": "display_data"
    }
   ],
   "source": [
    "# OVER SAMPLING\n",
    "\n",
    "data = df.values\n",
    "X, y =  data[:, 1:], data[:, [0]]\n",
    "# label encode the target variable\n",
    "y = LabelEncoder().fit_transform(y)\n",
    "\n",
    "\n",
    "# transform the dataset\n",
    "strategy = {0:500, 1:500, 2:500, 3:500, 4:500, 5:500, 6:500,7:500,8:500,9:500}\n",
    "oversample = SMOTE(sampling_strategy=strategy)\n",
    "X, y = oversample.fit_resample(X, y)\n",
    "# summarize distribution\n",
    "counter = Counter(y)\n",
    "for k,v in counter.items():\n",
    "    per = v / len(y) * 100\n",
    "    print('Class=%d, n=%d (%.3f%%)' % (k, v, per))\n",
    "# plot the distribution\n",
    "pyplot.bar(counter.keys(), counter.values())\n",
    "pyplot.show()"
   ]
  },
  {
   "cell_type": "code",
   "execution_count": 5,
   "metadata": {},
   "outputs": [],
   "source": [
    "# split in to train test sets\n",
    "X_train, X_test, y_train, y_test = train_test_split(X, y, test_size=0.25, random_state=1)"
   ]
  },
  {
   "cell_type": "code",
   "execution_count": 6,
   "metadata": {
    "scrolled": true
   },
   "outputs": [],
   "source": [
    "# feature selection\n",
    "\n",
    "#sel = SelectFromModel(RandomForestClassifier(n_estimators = 100))\n",
    "#sel.fit(X_train, y_train)\n",
    "#sel.get_support()\n",
    "#pd.series(sel.estimator_,feature_importances_,.ravel()).hist()"
   ]
  },
  {
   "cell_type": "markdown",
   "metadata": {},
   "source": [
    "parameters = {\n",
    "    \"n_estimators\":[5,10,50,100,250,500,1000],\n",
    "    \"max_depth\":[2,4,8,16,32,None]\n",
    "}\n",
    "\n",
    "model = RandomForestClassifier()\n",
    "\n",
    "from sklearn.model_selection import GridSearchCV\n",
    "cv = GridSearchCV(model,parameters,cv=5)\n",
    "cv.fit(X_train,y_train.ravel())\n",
    "\n",
    "def display(results):\n",
    "    print(f'Best parameters are: {results.best_params_}')\n",
    "    print(\"\\n\")\n",
    "    mean_score = results.cv_results_['mean_test_score']\n",
    "    std_score = results.cv_results_['std_test_score']\n",
    "    params = results.cv_results_['params']\n",
    "    for mean,std,params in zip(mean_score,std_score,params):\n",
    "        print(f'{round(mean,3)} + or -{round(std,3)} for the {params}')"
   ]
  },
  {
   "cell_type": "markdown",
   "metadata": {
    "scrolled": true
   },
   "source": [
    "display(cv)"
   ]
  },
  {
   "cell_type": "code",
   "execution_count": 7,
   "metadata": {
    "scrolled": true
   },
   "outputs": [
    {
     "name": "stdout",
     "output_type": "stream",
     "text": [
      "('number_of_holds', 0.07479460073939934)\n",
      "('downwards_count', 0.07724281693578014)\n",
      "('downwards_percent', 0.047625028913385374)\n",
      "('black_percent', 0.07237259890950558)\n",
      "('white_percent', 0.0708458680059134)\n",
      "('b_w_percent', 0.06846007148605991)\n",
      "('mean_distance_of_holds', 0.06782681877073389)\n",
      "('last_move_diff', 0.06857419241958364)\n",
      "('first_move_diff', 0.048890448195130026)\n"
     ]
    }
   ],
   "source": [
    "import pandas as pd\n",
    "from sklearn.feature_selection import SelectFromModel\n",
    "\n",
    "clf = RandomForestClassifier(n_estimators=500, random_state=0, n_jobs=-1)\n",
    "\n",
    "feat_labels = ['number_of_holds', 'downwards_count',  'downwards_percent', 'black_percent',\n",
    "       'white_percent', 'b_w_percent', 'mean_distance_of_holds', 'last_move_diff',\n",
    "       'first_move_diff']\n",
    "\n",
    "# Train the classifier\n",
    "clf.fit(X_train, y_train)\n",
    "\n",
    "# Print the name and gini importance of each feature\n",
    "for feature in zip(feat_labels, clf.feature_importances_):\n",
    "    print(feature)"
   ]
  },
  {
   "cell_type": "code",
   "execution_count": 8,
   "metadata": {
    "scrolled": false
   },
   "outputs": [
    {
     "name": "stdout",
     "output_type": "stream",
     "text": [
      "              precision    recall  f1-score   support\n",
      "\n",
      "           0       1.00      1.00      1.00       385\n",
      "           1       1.00      0.99      1.00       373\n",
      "           2       1.00      1.00      1.00       360\n",
      "           3       0.99      1.00      1.00       370\n",
      "           4       1.00      1.00      1.00       383\n",
      "           5       1.00      1.00      1.00       370\n",
      "           6       1.00      1.00      1.00       386\n",
      "           7       1.00      1.00      1.00       368\n",
      "           8       1.00      1.00      1.00       375\n",
      "           9       1.00      1.00      1.00       380\n",
      "          10       1.00      1.00      1.00         1\n",
      "          11       1.00      1.00      1.00         1\n",
      "\n",
      "    accuracy                           1.00      3752\n",
      "   macro avg       1.00      1.00      1.00      3752\n",
      "weighted avg       1.00      1.00      1.00      3752\n",
      "\n"
     ]
    },
    {
     "data": {
      "image/png": "[encoded data removed]",
      "text/plain": [
       "<Figure size 720x576 with 2 Axes>"
      ]
     },
     "metadata": {
      "needs_background": "light"
     },
     "output_type": "display_data"
    }
   ],
   "source": [
    "# Model\n",
    "\n",
    "# labels\n",
    "grade_to_num = {\"6B+\":0,\"6C\":1,\"6C+\":2,\"7A\":3,\"7A+\":4,\"7B\":5,\"7B+\":6,\"7C\":7,\"7C+\":8,\"8A\":9,\"8A+\":10,\"8B\":11}\n",
    "num_to_grade = {v: k for k, v in grade_to_num.items()}\n",
    "\n",
    "# model\n",
    "# weights = {0:2.0, 1:2.0, 2:2.0, 3:4.0, 4:4.0, 5:2.0, 6:2.0,  7:2.0, 8:2.0, 9:2.0, 10:1.0, 11:1.0}\n",
    "model = RandomForestClassifier(max_depth=14,n_estimators=250)\n",
    "model.fit(X_train, y_train)\n",
    "y_pred = model.predict(X_train)\n",
    "\n",
    "# classification report\n",
    "print(classification_report(y_train, y_pred))\n",
    "\n",
    "\n",
    "# confusion matrix\n",
    "confusion_matrix = metrics.confusion_matrix(y_train, y_pred)\n",
    "confusion_matrix_df = pd.DataFrame(confusion_matrix)\n",
    "confusion_matrix_df.rename(num_to_grade,axis=0,inplace=True)\n",
    "confusion_matrix_df.rename(num_to_grade,axis=1,inplace=True)\n",
    "\n",
    "\n",
    "# plot confusion matrix\n",
    "plt.figure(figsize=(10,8))\n",
    "sns.heatmap(confusion_matrix_df, annot=True,fmt='g')\n",
    "plt.title('Training Confusion Matrix')\n",
    "plt.ylabel('Actal Values')\n",
    "plt.xlabel('Predicted Values')\n",
    "plt.show()"
   ]
  },
  {
   "cell_type": "code",
   "execution_count": 9,
   "metadata": {
    "scrolled": false
   },
   "outputs": [
    {
     "name": "stderr",
     "output_type": "stream",
     "text": [
      "C:\\Users\\mertt\\anaconda3\\envs\\tf\\lib\\site-packages\\sklearn\\metrics\\_classification.py:1327: UndefinedMetricWarning: Precision and F-score are ill-defined and being set to 0.0 in labels with no predicted samples. Use `zero_division` parameter to control this behavior.\n",
      "  _warn_prf(average, modifier, msg_start, len(result))\n",
      "C:\\Users\\mertt\\anaconda3\\envs\\tf\\lib\\site-packages\\sklearn\\metrics\\_classification.py:1327: UndefinedMetricWarning: Precision and F-score are ill-defined and being set to 0.0 in labels with no predicted samples. Use `zero_division` parameter to control this behavior.\n",
      "  _warn_prf(average, modifier, msg_start, len(result))\n",
      "C:\\Users\\mertt\\anaconda3\\envs\\tf\\lib\\site-packages\\sklearn\\metrics\\_classification.py:1327: UndefinedMetricWarning: Precision and F-score are ill-defined and being set to 0.0 in labels with no predicted samples. Use `zero_division` parameter to control this behavior.\n",
      "  _warn_prf(average, modifier, msg_start, len(result))\n"
     ]
    },
    {
     "name": "stdout",
     "output_type": "stream",
     "text": [
      "              precision    recall  f1-score   support\n",
      "\n",
      "           0       0.91      0.93      0.92       115\n",
      "           1       0.92      0.91      0.91       127\n",
      "           2       0.91      0.85      0.88       140\n",
      "           3       0.82      0.85      0.83       130\n",
      "           4       0.89      0.85      0.87       117\n",
      "           5       0.91      0.90      0.91       130\n",
      "           6       0.92      0.94      0.93       114\n",
      "           7       0.92      0.93      0.92       132\n",
      "           8       0.92      0.91      0.92       125\n",
      "           9       0.91      0.98      0.95       120\n",
      "          10       0.00      0.00      0.00         1\n",
      "\n",
      "    accuracy                           0.90      1251\n",
      "   macro avg       0.82      0.82      0.82      1251\n",
      "weighted avg       0.90      0.90      0.90      1251\n",
      "\n"
     ]
    },
    {
     "data": {
      "image/png": "[encoded data removed]",
      "text/plain": [
       "<Figure size 720x576 with 2 Axes>"
      ]
     },
     "metadata": {
      "needs_background": "light"
     },
     "output_type": "display_data"
    }
   ],
   "source": [
    "# Test\n",
    "\n",
    "# predict\n",
    "y_pred = model.predict(X_test)\n",
    "\n",
    "# classification report\n",
    "print(classification_report(y_test, y_pred))\n",
    "\n",
    "# confusion matrix\n",
    "confusion_matrix = metrics.confusion_matrix(y_test, y_pred)\n",
    "confusion_matrix_df = pd.DataFrame(confusion_matrix)\n",
    "confusion_matrix_df.rename(num_to_grade,axis=0,inplace=True)\n",
    "confusion_matrix_df.rename(num_to_grade,axis=1,inplace=True)\n",
    "\n",
    "\n",
    "plt.figure(figsize=(10,8))\n",
    "sns.heatmap(confusion_matrix_df, annot=True,fmt='g')\n",
    "plt.title('Test Confusion Matrix',)\n",
    "plt.ylabel('Actal Values')\n",
    "plt.xlabel('Predicted Values')\n",
    "plt.show()"
   ]
  },
  {
   "cell_type": "code",
   "execution_count": null,
   "metadata": {},
   "outputs": [],
   "source": []
  }
 ],
 "metadata": {
  "kernelspec": {
   "display_name": "Python 3",
   "language": "python",
   "name": "python3"
  },
  "language_info": {
   "codemirror_mode": {
    "name": "ipython",
    "version": 3
   },
   "file_extension": ".py",
   "mimetype": "text/x-python",
   "name": "python",
   "nbconvert_exporter": "python",
   "pygments_lexer": "ipython3",
   "version": "3.8.5"
  }
 },
 "nbformat": 4,
 "nbformat_minor": 4
}
