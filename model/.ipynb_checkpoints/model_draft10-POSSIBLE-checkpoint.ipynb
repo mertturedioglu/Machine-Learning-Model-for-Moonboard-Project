{
 "cells": [
  {
   "cell_type": "code",
   "execution_count": 1,
   "metadata": {},
   "outputs": [],
   "source": [
    "# check version number\n",
    "import imblearn\n",
    "from collections import Counter\n",
    "from matplotlib import pyplot\n",
    "import pandas as pd\n",
    "from imblearn.over_sampling import SMOTE\n",
    "import numpy as np\n",
    "from numpy import std\n",
    "from numpy import mean\n",
    "from pandas import read_csv\n",
    "from sklearn.preprocessing import LabelEncoder\n",
    "from sklearn.model_selection import cross_val_score\n",
    "from sklearn.model_selection import RepeatedStratifiedKFold\n",
    "from sklearn.ensemble import RandomForestClassifier\n",
    "from sklearn.model_selection import train_test_split\n",
    "from sklearn.datasets import make_classification\n",
    "from sklearn.feature_selection import SelectKBest\n",
    "from sklearn.feature_selection import f_classif"
   ]
  },
  {
   "cell_type": "code",
   "execution_count": 2,
   "metadata": {},
   "outputs": [],
   "source": [
    "df = pd.read_csv(\"dataset_draft1.csv\")\n",
    "df.drop([\"number_of_holds\",\"Grade_numeric\",\"Unnamed: 0\",\"holds\", \"Name\", \"Moves\", \"Holdsets\", \"Id\", \"lengths_of_moves\",\"Grade_thermo\",\"Grade_ohe\",\"numeric_grades\"], axis=1, inplace=True)\n",
    "X_train, X_test, y_train, y_test = train_test_split(df.drop('Grade',axis=1), \n",
    "                                                    df['Grade'], train_size = 0.7)\n",
    "df = pd.concat([X_train,y_train],axis=1,join=\"inner\")"
   ]
  },
  {
   "cell_type": "code",
   "execution_count": 3,
   "metadata": {
    "scrolled": false
   },
   "outputs": [
    {
     "name": "stderr",
     "output_type": "stream",
     "text": [
      "C:\\Users\\mertt\\anaconda3\\envs\\tf\\lib\\site-packages\\imblearn\\utils\\_validation.py:299: UserWarning: After over-sampling, the number of samples (200) in class 0 will be larger than the number of samples in the majority class (class #0 -> 39)\n",
      "  warnings.warn(\n",
      "C:\\Users\\mertt\\anaconda3\\envs\\tf\\lib\\site-packages\\imblearn\\utils\\_validation.py:299: UserWarning: After over-sampling, the number of samples (200) in class 1 will be larger than the number of samples in the majority class (class #0 -> 39)\n",
      "  warnings.warn(\n",
      "C:\\Users\\mertt\\anaconda3\\envs\\tf\\lib\\site-packages\\imblearn\\utils\\_validation.py:299: UserWarning: After over-sampling, the number of samples (200) in class 2 will be larger than the number of samples in the majority class (class #0 -> 39)\n",
      "  warnings.warn(\n",
      "C:\\Users\\mertt\\anaconda3\\envs\\tf\\lib\\site-packages\\imblearn\\utils\\_validation.py:299: UserWarning: After over-sampling, the number of samples (200) in class 3 will be larger than the number of samples in the majority class (class #0 -> 39)\n",
      "  warnings.warn(\n",
      "C:\\Users\\mertt\\anaconda3\\envs\\tf\\lib\\site-packages\\imblearn\\utils\\_validation.py:299: UserWarning: After over-sampling, the number of samples (200) in class 4 will be larger than the number of samples in the majority class (class #0 -> 39)\n",
      "  warnings.warn(\n",
      "C:\\Users\\mertt\\anaconda3\\envs\\tf\\lib\\site-packages\\imblearn\\utils\\_validation.py:299: UserWarning: After over-sampling, the number of samples (200) in class 5 will be larger than the number of samples in the majority class (class #0 -> 39)\n",
      "  warnings.warn(\n",
      "C:\\Users\\mertt\\anaconda3\\envs\\tf\\lib\\site-packages\\imblearn\\utils\\_validation.py:299: UserWarning: After over-sampling, the number of samples (200) in class 6 will be larger than the number of samples in the majority class (class #0 -> 39)\n",
      "  warnings.warn(\n",
      "C:\\Users\\mertt\\anaconda3\\envs\\tf\\lib\\site-packages\\imblearn\\utils\\_validation.py:299: UserWarning: After over-sampling, the number of samples (200) in class 7 will be larger than the number of samples in the majority class (class #0 -> 39)\n",
      "  warnings.warn(\n",
      "C:\\Users\\mertt\\anaconda3\\envs\\tf\\lib\\site-packages\\imblearn\\utils\\_validation.py:299: UserWarning: After over-sampling, the number of samples (200) in class 8 will be larger than the number of samples in the majority class (class #0 -> 39)\n",
      "  warnings.warn(\n",
      "C:\\Users\\mertt\\anaconda3\\envs\\tf\\lib\\site-packages\\imblearn\\utils\\_validation.py:299: UserWarning: After over-sampling, the number of samples (200) in class 9 will be larger than the number of samples in the majority class (class #0 -> 39)\n",
      "  warnings.warn(\n"
     ]
    },
    {
     "name": "stdout",
     "output_type": "stream",
     "text": [
      "Class=4, n=200 (63.492%)\n",
      "Class=0, n=200 (63.492%)\n",
      "Class=1, n=200 (63.492%)\n",
      "Class=3, n=200 (63.492%)\n",
      "Class=5, n=200 (63.492%)\n",
      "Class=7, n=200 (63.492%)\n",
      "Class=2, n=200 (63.492%)\n",
      "Class=6, n=200 (63.492%)\n",
      "Class=9, n=200 (63.492%)\n",
      "Class=8, n=200 (63.492%)\n",
      "Class=10, n=1 (0.317%)\n"
     ]
    },
    {
     "data": {
      "image/png": "[encoded data removed]",
      "text/plain": [
       "<Figure size 432x288 with 1 Axes>"
      ]
     },
     "metadata": {
      "needs_background": "light"
     },
     "output_type": "display_data"
    }
   ],
   "source": [
    "data = df.values\n",
    "X, y = data[:, :-1], data[:, -1]\n",
    "# label encode the target variable\n",
    "y = LabelEncoder().fit_transform(y)\n",
    "# split in to train test sets\n",
    "X_train, X_test, y_train, y_test = train_test_split(X, y, test_size=0.2, random_state=1)\n",
    "\n",
    "# transform the dataset\n",
    "strategy = {0:200, 1:200, 2:200, 3:200, 4:200, 5:200, 6:200,7:200,8:200,9:200}\n",
    "oversample = SMOTE(sampling_strategy=strategy)\n",
    "X_train, y_train = oversample.fit_resample(X_train, y_train)\n",
    "# summarize distribution\n",
    "counter = Counter(y_train)\n",
    "for k,v in counter.items():\n",
    "    per = v / len(y) * 100\n",
    "    print('Class=%d, n=%d (%.3f%%)' % (k, v, per))\n",
    "# plot the distribution\n",
    "pyplot.bar(counter.keys(), counter.values())\n",
    "pyplot.show()"
   ]
  },
  {
   "cell_type": "code",
   "execution_count": 24,
   "metadata": {},
   "outputs": [],
   "source": [
    "def evaluate_model(X, y, model):\n",
    "    # define evaluation procedure\n",
    "    cv = RepeatedStratifiedKFold(n_splits=5, n_repeats=4, random_state=1)\n",
    "    # evaluate model\n",
    "    scores = cross_val_score(model, X, y, scoring='accuracy', cv=cv, n_jobs=-1)\n",
    "    return scores"
   ]
  },
  {
   "cell_type": "code",
   "execution_count": 25,
   "metadata": {},
   "outputs": [
    {
     "name": "stderr",
     "output_type": "stream",
     "text": [
      "C:\\Users\\mertt\\anaconda3\\envs\\tf\\lib\\site-packages\\sklearn\\model_selection\\_split.py:680: UserWarning: The least populated class in y has only 1 members, which is less than n_splits=5.\n",
      "  warnings.warn(\n"
     ]
    }
   ],
   "source": [
    "parameters = {\n",
    "    \"n_estimators\":[5,10,50,100,250],\n",
    "    \"max_depth\":[2,4,8,16,32,None]\n",
    "}\n",
    "weights = {0:2.0, 1:2.0, 2:2.0, 3:2.0, 4:2.0, 5:2.0, 6:2.0,  7:2.0, 8:2.0, 9:2.0, 10:1.0, 11:1.0}\n",
    "model = RandomForestClassifier(class_weight=weights)\n",
    "\n",
    "from sklearn.model_selection import GridSearchCV\n",
    "cv = GridSearchCV(model,parameters,cv=5)\n",
    "cv.fit(X_train,y_train.ravel())\n",
    "\n",
    "def display(results):\n",
    "    print(f'Best parameters are: {results.best_params_}')\n",
    "    print(\"\\n\")\n",
    "    mean_score = results.cv_results_['mean_test_score']\n",
    "    std_score = results.cv_results_['std_test_score']\n",
    "    params = results.cv_results_['params']\n",
    "    for mean,std,params in zip(mean_score,std_score,params):\n",
    "        print(f'{round(mean,3)} + or -{round(std,3)} for the {params}')"
   ]
  },
  {
   "cell_type": "code",
   "execution_count": 26,
   "metadata": {},
   "outputs": [
    {
     "name": "stdout",
     "output_type": "stream",
     "text": [
      "Best parameters are: {'max_depth': None, 'n_estimators': 100}\n",
      "\n",
      "\n",
      "0.331 + or -0.024 for the {'max_depth': 2, 'n_estimators': 5}\n",
      "0.37 + or -0.011 for the {'max_depth': 2, 'n_estimators': 10}\n",
      "0.435 + or -0.02 for the {'max_depth': 2, 'n_estimators': 50}\n",
      "0.429 + or -0.024 for the {'max_depth': 2, 'n_estimators': 100}\n",
      "0.441 + or -0.018 for the {'max_depth': 2, 'n_estimators': 250}\n",
      "0.515 + or -0.013 for the {'max_depth': 4, 'n_estimators': 5}\n",
      "0.546 + or -0.016 for the {'max_depth': 4, 'n_estimators': 10}\n",
      "0.586 + or -0.023 for the {'max_depth': 4, 'n_estimators': 50}\n",
      "0.59 + or -0.027 for the {'max_depth': 4, 'n_estimators': 100}\n",
      "0.606 + or -0.027 for the {'max_depth': 4, 'n_estimators': 250}\n",
      "0.734 + or -0.042 for the {'max_depth': 8, 'n_estimators': 5}\n",
      "0.777 + or -0.027 for the {'max_depth': 8, 'n_estimators': 10}\n",
      "0.807 + or -0.033 for the {'max_depth': 8, 'n_estimators': 50}\n",
      "0.812 + or -0.026 for the {'max_depth': 8, 'n_estimators': 100}\n",
      "0.819 + or -0.027 for the {'max_depth': 8, 'n_estimators': 250}\n",
      "0.814 + or -0.029 for the {'max_depth': 16, 'n_estimators': 5}\n",
      "0.851 + or -0.023 for the {'max_depth': 16, 'n_estimators': 10}\n",
      "0.889 + or -0.021 for the {'max_depth': 16, 'n_estimators': 50}\n",
      "0.893 + or -0.018 for the {'max_depth': 16, 'n_estimators': 100}\n",
      "0.896 + or -0.02 for the {'max_depth': 16, 'n_estimators': 250}\n",
      "0.816 + or -0.012 for the {'max_depth': 32, 'n_estimators': 5}\n",
      "0.857 + or -0.028 for the {'max_depth': 32, 'n_estimators': 10}\n",
      "0.888 + or -0.018 for the {'max_depth': 32, 'n_estimators': 50}\n",
      "0.886 + or -0.019 for the {'max_depth': 32, 'n_estimators': 100}\n",
      "0.895 + or -0.025 for the {'max_depth': 32, 'n_estimators': 250}\n",
      "0.818 + or -0.023 for the {'max_depth': None, 'n_estimators': 5}\n",
      "0.856 + or -0.01 for the {'max_depth': None, 'n_estimators': 10}\n",
      "0.882 + or -0.019 for the {'max_depth': None, 'n_estimators': 50}\n",
      "0.901 + or -0.02 for the {'max_depth': None, 'n_estimators': 100}\n",
      "0.893 + or -0.024 for the {'max_depth': None, 'n_estimators': 250}\n"
     ]
    }
   ],
   "source": [
    "display(cv)"
   ]
  },
  {
   "cell_type": "code",
   "execution_count": 29,
   "metadata": {},
   "outputs": [
    {
     "name": "stderr",
     "output_type": "stream",
     "text": [
      "C:\\Users\\mertt\\anaconda3\\envs\\tf\\lib\\site-packages\\sklearn\\model_selection\\_split.py:680: UserWarning: The least populated class in y has only 1 members, which is less than n_splits=5.\n",
      "  warnings.warn(\n",
      "C:\\Users\\mertt\\anaconda3\\envs\\tf\\lib\\site-packages\\sklearn\\model_selection\\_split.py:680: UserWarning: The least populated class in y has only 1 members, which is less than n_splits=5.\n",
      "  warnings.warn(\n",
      "C:\\Users\\mertt\\anaconda3\\envs\\tf\\lib\\site-packages\\sklearn\\model_selection\\_split.py:680: UserWarning: The least populated class in y has only 1 members, which is less than n_splits=5.\n",
      "  warnings.warn(\n",
      "C:\\Users\\mertt\\anaconda3\\envs\\tf\\lib\\site-packages\\sklearn\\model_selection\\_split.py:680: UserWarning: The least populated class in y has only 1 members, which is less than n_splits=5.\n",
      "  warnings.warn(\n"
     ]
    },
    {
     "name": "stdout",
     "output_type": "stream",
     "text": [
      "Mean Accuracy: 0.873 (0.013)\n"
     ]
    }
   ],
   "source": [
    "## generate dataset\n",
    "#X_train, y_train = make_classification(n_samples=100, n_features=7, n_informative=2)\n",
    "## define feature selection\n",
    "#fs = SelectKBest(score_func=f_classif, k=5)\n",
    "## apply feature selection\n",
    "#X_selected = fs.fit_transform(X, y)\n",
    "#print(X_selected.shape)\n",
    "#\n",
    "weights = {0:2.0, 1:2.0, 2:2.0, 3:2.0, 4:2.0, 5:2.0, 6:2.0,  7:2.0, 8:2.0, 9:2.0, 10:5.0, 11:5.0}\n",
    "model = RandomForestClassifier(max_depth=None,n_estimators=100,class_weight=weights)\n",
    "scores = evaluate_model(X_train, y_train, model)\n",
    "print('Mean Accuracy: %.3f (%.3f)' % (mean(scores), std(scores)))"
   ]
  },
  {
   "cell_type": "code",
   "execution_count": 30,
   "metadata": {
    "scrolled": true
   },
   "outputs": [
    {
     "name": "stderr",
     "output_type": "stream",
     "text": [
      "C:\\Users\\mertt\\anaconda3\\envs\\tf\\lib\\site-packages\\sklearn\\model_selection\\_split.py:680: UserWarning: The least populated class in y has only 3 members, which is less than n_splits=5.\n",
      "  warnings.warn(\n",
      "C:\\Users\\mertt\\anaconda3\\envs\\tf\\lib\\site-packages\\sklearn\\model_selection\\_split.py:680: UserWarning: The least populated class in y has only 3 members, which is less than n_splits=5.\n",
      "  warnings.warn(\n",
      "C:\\Users\\mertt\\anaconda3\\envs\\tf\\lib\\site-packages\\sklearn\\model_selection\\_split.py:680: UserWarning: The least populated class in y has only 3 members, which is less than n_splits=5.\n",
      "  warnings.warn(\n",
      "C:\\Users\\mertt\\anaconda3\\envs\\tf\\lib\\site-packages\\sklearn\\model_selection\\_split.py:680: UserWarning: The least populated class in y has only 3 members, which is less than n_splits=5.\n",
      "  warnings.warn(\n"
     ]
    },
    {
     "name": "stdout",
     "output_type": "stream",
     "text": [
      "Mean Accuracy: 0.320 (0.079)\n"
     ]
    }
   ],
   "source": [
    "scores = evaluate_model(X_test, y_test, model)\n",
    "print('Mean Accuracy: %.3f (%.3f)' % (mean(scores), std(scores)))"
   ]
  }
 ],
 "metadata": {
  "kernelspec": {
   "display_name": "Python 3",
   "language": "python",
   "name": "python3"
  },
  "language_info": {
   "codemirror_mode": {
    "name": "ipython",
    "version": 3
   },
   "file_extension": ".py",
   "mimetype": "text/x-python",
   "name": "python",
   "nbconvert_exporter": "python",
   "pygments_lexer": "ipython3",
   "version": "3.8.5"
  }
 },
 "nbformat": 4,
 "nbformat_minor": 4
}
