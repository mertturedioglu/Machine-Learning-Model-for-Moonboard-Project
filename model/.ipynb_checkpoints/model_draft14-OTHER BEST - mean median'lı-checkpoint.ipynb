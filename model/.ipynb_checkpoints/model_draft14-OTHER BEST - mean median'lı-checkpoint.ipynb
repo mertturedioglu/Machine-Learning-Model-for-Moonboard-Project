{
 "cells": [
  {
   "cell_type": "code",
   "execution_count": 1,
   "metadata": {},
   "outputs": [],
   "source": [
    "# check version number\n",
    "import imblearn\n",
    "from collections import Counter\n",
    "from matplotlib import pyplot\n",
    "import pandas as pd\n",
    "from imblearn.over_sampling import SMOTE\n",
    "import numpy as np\n",
    "from numpy import std\n",
    "from numpy import mean\n",
    "from pandas import read_csv\n",
    "from sklearn.preprocessing import LabelEncoder\n",
    "from sklearn.model_selection import cross_val_score\n",
    "from sklearn.model_selection import RepeatedStratifiedKFold\n",
    "from sklearn.ensemble import RandomForestClassifier\n",
    "from sklearn.model_selection import train_test_split\n",
    "from sklearn.datasets import make_classification\n",
    "from sklearn.feature_selection import SelectKBest\n",
    "from sklearn.feature_selection import f_classif"
   ]
  },
  {
   "cell_type": "code",
   "execution_count": 2,
   "metadata": {},
   "outputs": [],
   "source": [
    "df = pd.read_csv(\"dataset_draft1.csv\")\n",
    "df.drop([\"only_upwards_count\",\"number_of_holds\",\"Grade_numeric\",\"Unnamed: 0\",\"holds\", \"Name\", \"Moves\", \"Holdsets\", \"Id\", \"lengths_of_moves\",\"Grade_thermo\",\"Grade_ohe\",\"numeric_grades\"], axis=1, inplace=True)\n"
   ]
  },
  {
   "cell_type": "code",
   "execution_count": 4,
   "metadata": {
    "scrolled": true
   },
   "outputs": [
    {
     "data": {
      "text/html": [
       "<div>\n",
       "<style scoped>\n",
       "    .dataframe tbody tr th:only-of-type {\n",
       "        vertical-align: middle;\n",
       "    }\n",
       "\n",
       "    .dataframe tbody tr th {\n",
       "        vertical-align: top;\n",
       "    }\n",
       "\n",
       "    .dataframe thead th {\n",
       "        text-align: right;\n",
       "    }\n",
       "</style>\n",
       "<table border=\"1\" class=\"dataframe\">\n",
       "  <thead>\n",
       "    <tr style=\"text-align: right;\">\n",
       "      <th></th>\n",
       "      <th>Grade</th>\n",
       "      <th>median_diff_holds</th>\n",
       "      <th>mean_diff_holds</th>\n",
       "      <th>downwards_count</th>\n",
       "      <th>yellow_count</th>\n",
       "      <th>black_count</th>\n",
       "      <th>white_count</th>\n",
       "    </tr>\n",
       "  </thead>\n",
       "  <tbody>\n",
       "    <tr>\n",
       "      <th>0</th>\n",
       "      <td>8B</td>\n",
       "      <td>15.345703</td>\n",
       "      <td>19.623801</td>\n",
       "      <td>3</td>\n",
       "      <td>1</td>\n",
       "      <td>3</td>\n",
       "      <td>0</td>\n",
       "    </tr>\n",
       "    <tr>\n",
       "      <th>1</th>\n",
       "      <td>8A+</td>\n",
       "      <td>18.509766</td>\n",
       "      <td>29.576319</td>\n",
       "      <td>6</td>\n",
       "      <td>5</td>\n",
       "      <td>1</td>\n",
       "      <td>0</td>\n",
       "    </tr>\n",
       "    <tr>\n",
       "      <th>2</th>\n",
       "      <td>8A+</td>\n",
       "      <td>18.509766</td>\n",
       "      <td>27.793141</td>\n",
       "      <td>6</td>\n",
       "      <td>8</td>\n",
       "      <td>0</td>\n",
       "      <td>0</td>\n",
       "    </tr>\n",
       "    <tr>\n",
       "      <th>3</th>\n",
       "      <td>8A</td>\n",
       "      <td>12.339844</td>\n",
       "      <td>21.766030</td>\n",
       "      <td>7</td>\n",
       "      <td>2</td>\n",
       "      <td>3</td>\n",
       "      <td>3</td>\n",
       "    </tr>\n",
       "    <tr>\n",
       "      <th>4</th>\n",
       "      <td>8A</td>\n",
       "      <td>25.628906</td>\n",
       "      <td>30.831236</td>\n",
       "      <td>7</td>\n",
       "      <td>8</td>\n",
       "      <td>0</td>\n",
       "      <td>0</td>\n",
       "    </tr>\n",
       "  </tbody>\n",
       "</table>\n",
       "</div>"
      ],
      "text/plain": [
       "  Grade  median_diff_holds  mean_diff_holds  downwards_count  yellow_count  \\\n",
       "0    8B          15.345703        19.623801                3             1   \n",
       "1   8A+          18.509766        29.576319                6             5   \n",
       "2   8A+          18.509766        27.793141                6             8   \n",
       "3    8A          12.339844        21.766030                7             2   \n",
       "4    8A          25.628906        30.831236                7             8   \n",
       "\n",
       "   black_count  white_count  \n",
       "0            3            0  \n",
       "1            1            0  \n",
       "2            0            0  \n",
       "3            3            3  \n",
       "4            0            0  "
      ]
     },
     "execution_count": 4,
     "metadata": {},
     "output_type": "execute_result"
    }
   ],
   "source": [
    "df.head(5)"
   ]
  },
  {
   "cell_type": "code",
   "execution_count": 5,
   "metadata": {
    "scrolled": true
   },
   "outputs": [
    {
     "name": "stderr",
     "output_type": "stream",
     "text": [
      "C:\\Users\\mertt\\anaconda3\\envs\\tf\\lib\\site-packages\\sklearn\\preprocessing\\_label.py:115: DataConversionWarning: A column-vector y was passed when a 1d array was expected. Please change the shape of y to (n_samples, ), for example using ravel().\n",
      "  y = column_or_1d(y, warn=True)\n",
      "C:\\Users\\mertt\\anaconda3\\envs\\tf\\lib\\site-packages\\imblearn\\utils\\_validation.py:299: UserWarning: After over-sampling, the number of samples (400) in class 0 will be larger than the number of samples in the majority class (class #4 -> 69)\n",
      "  warnings.warn(\n",
      "C:\\Users\\mertt\\anaconda3\\envs\\tf\\lib\\site-packages\\imblearn\\utils\\_validation.py:299: UserWarning: After over-sampling, the number of samples (400) in class 1 will be larger than the number of samples in the majority class (class #4 -> 69)\n",
      "  warnings.warn(\n",
      "C:\\Users\\mertt\\anaconda3\\envs\\tf\\lib\\site-packages\\imblearn\\utils\\_validation.py:299: UserWarning: After over-sampling, the number of samples (400) in class 2 will be larger than the number of samples in the majority class (class #4 -> 69)\n",
      "  warnings.warn(\n",
      "C:\\Users\\mertt\\anaconda3\\envs\\tf\\lib\\site-packages\\imblearn\\utils\\_validation.py:299: UserWarning: After over-sampling, the number of samples (400) in class 3 will be larger than the number of samples in the majority class (class #4 -> 69)\n",
      "  warnings.warn(\n",
      "C:\\Users\\mertt\\anaconda3\\envs\\tf\\lib\\site-packages\\imblearn\\utils\\_validation.py:299: UserWarning: After over-sampling, the number of samples (400) in class 4 will be larger than the number of samples in the majority class (class #4 -> 69)\n",
      "  warnings.warn(\n",
      "C:\\Users\\mertt\\anaconda3\\envs\\tf\\lib\\site-packages\\imblearn\\utils\\_validation.py:299: UserWarning: After over-sampling, the number of samples (400) in class 5 will be larger than the number of samples in the majority class (class #4 -> 69)\n",
      "  warnings.warn(\n",
      "C:\\Users\\mertt\\anaconda3\\envs\\tf\\lib\\site-packages\\imblearn\\utils\\_validation.py:299: UserWarning: After over-sampling, the number of samples (400) in class 6 will be larger than the number of samples in the majority class (class #4 -> 69)\n",
      "  warnings.warn(\n",
      "C:\\Users\\mertt\\anaconda3\\envs\\tf\\lib\\site-packages\\imblearn\\utils\\_validation.py:299: UserWarning: After over-sampling, the number of samples (400) in class 7 will be larger than the number of samples in the majority class (class #4 -> 69)\n",
      "  warnings.warn(\n",
      "C:\\Users\\mertt\\anaconda3\\envs\\tf\\lib\\site-packages\\imblearn\\utils\\_validation.py:299: UserWarning: After over-sampling, the number of samples (400) in class 8 will be larger than the number of samples in the majority class (class #4 -> 69)\n",
      "  warnings.warn(\n",
      "C:\\Users\\mertt\\anaconda3\\envs\\tf\\lib\\site-packages\\imblearn\\utils\\_validation.py:299: UserWarning: After over-sampling, the number of samples (400) in class 9 will be larger than the number of samples in the majority class (class #4 -> 69)\n",
      "  warnings.warn(\n"
     ]
    },
    {
     "name": "stdout",
     "output_type": "stream",
     "text": [
      "Class=11, n=1 (0.025%)\n",
      "Class=10, n=2 (0.050%)\n",
      "Class=9, n=400 (9.993%)\n",
      "Class=8, n=400 (9.993%)\n",
      "Class=1, n=400 (9.993%)\n",
      "Class=0, n=400 (9.993%)\n",
      "Class=7, n=400 (9.993%)\n",
      "Class=6, n=400 (9.993%)\n",
      "Class=5, n=400 (9.993%)\n",
      "Class=4, n=400 (9.993%)\n",
      "Class=3, n=400 (9.993%)\n",
      "Class=2, n=400 (9.993%)\n"
     ]
    },
    {
     "data": {
      "image/png": "[encoded data removed]",
      "text/plain": [
       "<Figure size 432x288 with 1 Axes>"
      ]
     },
     "metadata": {
      "needs_background": "light"
     },
     "output_type": "display_data"
    }
   ],
   "source": [
    "\n",
    "data = df.values\n",
    "X, y =  data[:, 1:], data[:, [0]]\n",
    "# label encode the target variable\n",
    "y = LabelEncoder().fit_transform(y)\n",
    "\n",
    "\n",
    "# transform the dataset\n",
    "strategy = {0:400, 1:400, 2:400, 3:400, 4:400, 5:400, 6:400,7:400,8:400,9:400}\n",
    "oversample = SMOTE(sampling_strategy=strategy)\n",
    "X, y = oversample.fit_resample(X, y)\n",
    "# summarize distribution\n",
    "counter = Counter(y)\n",
    "for k,v in counter.items():\n",
    "    per = v / len(y) * 100\n",
    "    print('Class=%d, n=%d (%.3f%%)' % (k, v, per))\n",
    "# plot the distribution\n",
    "pyplot.bar(counter.keys(), counter.values())\n",
    "pyplot.show()"
   ]
  },
  {
   "cell_type": "code",
   "execution_count": 6,
   "metadata": {},
   "outputs": [],
   "source": [
    "def evaluate_model(X, y, model):\n",
    "    # define evaluation procedure\n",
    "    cv = RepeatedStratifiedKFold(n_splits=5, n_repeats=4, random_state=1)\n",
    "    # evaluate model\n",
    "    scores = cross_val_score(model, X, y, scoring='accuracy', cv=cv, n_jobs=-1)\n",
    "    return scores"
   ]
  },
  {
   "cell_type": "code",
   "execution_count": 7,
   "metadata": {},
   "outputs": [],
   "source": [
    "# split in to train test sets\n",
    "X_train, X_test, y_train, y_test = train_test_split(X, y, test_size=0.25, random_state=1)"
   ]
  },
  {
   "cell_type": "code",
   "execution_count": 8,
   "metadata": {},
   "outputs": [
    {
     "name": "stderr",
     "output_type": "stream",
     "text": [
      "C:\\Users\\mertt\\anaconda3\\envs\\tf\\lib\\site-packages\\sklearn\\model_selection\\_split.py:680: UserWarning: The least populated class in y has only 1 members, which is less than n_splits=5.\n",
      "  warnings.warn(\n"
     ]
    }
   ],
   "source": [
    "parameters = {\n",
    "    \"n_estimators\":[5,10,50,100,250],\n",
    "    \"max_depth\":[2,4,8,16,32,None]\n",
    "}\n",
    "weights = {0:2.0, 1:2.0, 2:2.0, 3:2.0, 4:2.0, 5:2.0, 6:2.0,  7:2.0, 8:2.0, 9:2.0, 10:1.0, 11:1.0}\n",
    "model = RandomForestClassifier(class_weight=weights)\n",
    "\n",
    "from sklearn.model_selection import GridSearchCV\n",
    "cv = GridSearchCV(model,parameters,cv=5)\n",
    "cv.fit(X_train,y_train.ravel())\n",
    "\n",
    "def display(results):\n",
    "    print(f'Best parameters are: {results.best_params_}')\n",
    "    print(\"\\n\")\n",
    "    mean_score = results.cv_results_['mean_test_score']\n",
    "    std_score = results.cv_results_['std_test_score']\n",
    "    params = results.cv_results_['params']\n",
    "    for mean,std,params in zip(mean_score,std_score,params):\n",
    "        print(f'{round(mean,3)} + or -{round(std,3)} for the {params}')"
   ]
  },
  {
   "cell_type": "code",
   "execution_count": 9,
   "metadata": {
    "scrolled": false
   },
   "outputs": [
    {
     "name": "stdout",
     "output_type": "stream",
     "text": [
      "Best parameters are: {'max_depth': None, 'n_estimators': 250}\n",
      "\n",
      "\n",
      "0.329 + or -0.018 for the {'max_depth': 2, 'n_estimators': 5}\n",
      "0.327 + or -0.01 for the {'max_depth': 2, 'n_estimators': 10}\n",
      "0.337 + or -0.009 for the {'max_depth': 2, 'n_estimators': 50}\n",
      "0.336 + or -0.015 for the {'max_depth': 2, 'n_estimators': 100}\n",
      "0.337 + or -0.01 for the {'max_depth': 2, 'n_estimators': 250}\n",
      "0.435 + or -0.016 for the {'max_depth': 4, 'n_estimators': 5}\n",
      "0.443 + or -0.027 for the {'max_depth': 4, 'n_estimators': 10}\n",
      "0.459 + or -0.025 for the {'max_depth': 4, 'n_estimators': 50}\n",
      "0.468 + or -0.027 for the {'max_depth': 4, 'n_estimators': 100}\n",
      "0.469 + or -0.024 for the {'max_depth': 4, 'n_estimators': 250}\n",
      "0.648 + or -0.011 for the {'max_depth': 8, 'n_estimators': 5}\n",
      "0.691 + or -0.013 for the {'max_depth': 8, 'n_estimators': 10}\n",
      "0.717 + or -0.013 for the {'max_depth': 8, 'n_estimators': 50}\n",
      "0.717 + or -0.018 for the {'max_depth': 8, 'n_estimators': 100}\n",
      "0.726 + or -0.013 for the {'max_depth': 8, 'n_estimators': 250}\n",
      "0.776 + or -0.015 for the {'max_depth': 16, 'n_estimators': 5}\n",
      "0.812 + or -0.01 for the {'max_depth': 16, 'n_estimators': 10}\n",
      "0.85 + or -0.008 for the {'max_depth': 16, 'n_estimators': 50}\n",
      "0.851 + or -0.008 for the {'max_depth': 16, 'n_estimators': 100}\n",
      "0.851 + or -0.01 for the {'max_depth': 16, 'n_estimators': 250}\n",
      "0.778 + or -0.007 for the {'max_depth': 32, 'n_estimators': 5}\n",
      "0.814 + or -0.009 for the {'max_depth': 32, 'n_estimators': 10}\n",
      "0.845 + or -0.009 for the {'max_depth': 32, 'n_estimators': 50}\n",
      "0.851 + or -0.008 for the {'max_depth': 32, 'n_estimators': 100}\n",
      "0.854 + or -0.009 for the {'max_depth': 32, 'n_estimators': 250}\n",
      "0.776 + or -0.007 for the {'max_depth': None, 'n_estimators': 5}\n",
      "0.818 + or -0.009 for the {'max_depth': None, 'n_estimators': 10}\n",
      "0.848 + or -0.005 for the {'max_depth': None, 'n_estimators': 50}\n",
      "0.849 + or -0.013 for the {'max_depth': None, 'n_estimators': 100}\n",
      "0.855 + or -0.009 for the {'max_depth': None, 'n_estimators': 250}\n"
     ]
    }
   ],
   "source": [
    "display(cv)"
   ]
  },
  {
   "cell_type": "code",
   "execution_count": 10,
   "metadata": {
    "scrolled": true
   },
   "outputs": [
    {
     "name": "stderr",
     "output_type": "stream",
     "text": [
      "C:\\Users\\mertt\\anaconda3\\envs\\tf\\lib\\site-packages\\sklearn\\model_selection\\_split.py:680: UserWarning: The least populated class in y has only 1 members, which is less than n_splits=5.\n",
      "  warnings.warn(\n",
      "C:\\Users\\mertt\\anaconda3\\envs\\tf\\lib\\site-packages\\sklearn\\model_selection\\_split.py:680: UserWarning: The least populated class in y has only 1 members, which is less than n_splits=5.\n",
      "  warnings.warn(\n",
      "C:\\Users\\mertt\\anaconda3\\envs\\tf\\lib\\site-packages\\sklearn\\model_selection\\_split.py:680: UserWarning: The least populated class in y has only 1 members, which is less than n_splits=5.\n",
      "  warnings.warn(\n",
      "C:\\Users\\mertt\\anaconda3\\envs\\tf\\lib\\site-packages\\sklearn\\model_selection\\_split.py:680: UserWarning: The least populated class in y has only 1 members, which is less than n_splits=5.\n",
      "  warnings.warn(\n"
     ]
    },
    {
     "name": "stdout",
     "output_type": "stream",
     "text": [
      "Mean Accuracy: 0.849 (0.012)\n"
     ]
    }
   ],
   "source": [
    "## generate dataset\n",
    "#X_train, y_train = make_classification(n_samples=100, n_features=7, n_informative=2)\n",
    "## define feature selection\n",
    "#fs = SelectKBest(score_func=f_classif, k=5)\n",
    "## apply feature selection\n",
    "#X_selected = fs.fit_transform(X_train, y_train)\n",
    "#print(X_selected.shape)\n",
    "\n",
    "weights = {0:2.0, 1:2.0, 2:2.0, 3:2.0, 4:2.0, 5:2.0, 6:2.0,  7:2.0, 8:2.0, 9:2.0, 10:1.0, 11:1.0}\n",
    "model = RandomForestClassifier(max_depth=None,n_estimators=250,class_weight=weights)\n",
    "scores = evaluate_model(X_train, y_train, model)\n",
    "model.fit(X_train, y_train)\n",
    "print('Mean Accuracy: %.3f (%.3f)' % (mean(scores), std(scores)))"
   ]
  },
  {
   "cell_type": "code",
   "execution_count": 11,
   "metadata": {
    "scrolled": true
   },
   "outputs": [
    {
     "name": "stdout",
     "output_type": "stream",
     "text": [
      "Mean Accuracy: 0.720 (0.026)\n"
     ]
    }
   ],
   "source": [
    "# generate dataset\n",
    "#X_test, y_test = make_classification(n_samples=100, n_features=10, n_informative=2)\n",
    "# define feature selection\n",
    "#fs = SelectKBest(score_func=f_classif, k=5)\n",
    "## apply feature selection\n",
    "#X_test_selected = fs.fit_transform(X_test, y_test)\n",
    "#print(X_test_selected.shape)\n",
    "\n",
    "scores = evaluate_model(X_test, y_test, model)\n",
    "print('Mean Accuracy: %.3f (%.3f)' % (mean(scores), std(scores)))"
   ]
  },
  {
   "cell_type": "code",
   "execution_count": 12,
   "metadata": {
    "scrolled": true
   },
   "outputs": [
    {
     "data": {
      "image/png": "[encoded data removed]",
      "text/plain": [
       "<Figure size 360x288 with 2 Axes>"
      ]
     },
     "metadata": {
      "needs_background": "light"
     },
     "output_type": "display_data"
    }
   ],
   "source": [
    "from sklearn import metrics\n",
    "import seaborn as sns\n",
    "import matplotlib.pyplot as plt\n",
    "\n",
    "y_pred = model.predict(X_test)\n",
    "confusion_matrix = metrics.confusion_matrix(y_test, y_pred)\n",
    "confusion_matrix_df = pd.DataFrame(confusion_matrix,\n",
    ")\n",
    "\n",
    "plt.figure(figsize=(5,4))\n",
    "sns.heatmap(confusion_matrix_df, annot=True)\n",
    "plt.title('Confusion Matrix')\n",
    "plt.ylabel('Actal Values')\n",
    "plt.xlabel('Predicted Values')\n",
    "plt.show()"
   ]
  }
 ],
 "metadata": {
  "kernelspec": {
   "display_name": "Python 3",
   "language": "python",
   "name": "python3"
  },
  "language_info": {
   "codemirror_mode": {
    "name": "ipython",
    "version": 3
   },
   "file_extension": ".py",
   "mimetype": "text/x-python",
   "name": "python",
   "nbconvert_exporter": "python",
   "pygments_lexer": "ipython3",
   "version": "3.8.5"
  }
 },
 "nbformat": 4,
 "nbformat_minor": 4
}
