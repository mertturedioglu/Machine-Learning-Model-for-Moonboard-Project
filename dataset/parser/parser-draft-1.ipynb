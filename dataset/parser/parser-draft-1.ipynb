{
 "cells": [
  {
   "cell_type": "code",
   "execution_count": 1,
   "id": "bea268fd",
   "metadata": {},
   "outputs": [],
   "source": [
    "from bs4 import BeautifulSoup\n",
    "import json\n",
    "import re"
   ]
  },
  {
   "cell_type": "code",
   "execution_count": 64,
   "id": "d1d9a677",
   "metadata": {},
   "outputs": [],
   "source": [
    "def main():\n",
    "    with open(\"./routes-source-pages/page2.html\", errors='ignore') as fp:\n",
    "        soup = BeautifulSoup(fp, \"html.parser\")\n",
    "    \n",
    "    problem_list = []\n",
    "    \n",
    "    all_script_elements = get_all_script_elements(soup)\n",
    "    \n",
    "    for script in all_script_elements:\n",
    "        try:\n",
    "            str_problem = get_problem_raw(script)\n",
    "        except:\n",
    "            pass\n",
    "        dict_problem = json.loads(str_problem)\n",
    "        problem_list.append(dict_problem)\n",
    "    \n",
    "    return problem_list"
   ]
  },
  {
   "cell_type": "code",
   "execution_count": 65,
   "id": "7bd70633",
   "metadata": {
    "scrolled": false
   },
   "outputs": [
    {
     "ename": "FileNotFoundError",
     "evalue": "[Errno 2] No such file or directory: './routes-source-pages/page2.html'",
     "output_type": "error",
     "traceback": [
      "\u001b[1;31m---------------------------------------------------------------------------\u001b[0m",
      "\u001b[1;31mFileNotFoundError\u001b[0m                         Traceback (most recent call last)",
      "Input \u001b[1;32mIn [65]\u001b[0m, in \u001b[0;36m<cell line: 1>\u001b[1;34m()\u001b[0m\n\u001b[1;32m----> 1\u001b[0m problem_list \u001b[38;5;241m=\u001b[39m \u001b[43mmain\u001b[49m\u001b[43m(\u001b[49m\u001b[43m)\u001b[49m\n",
      "Input \u001b[1;32mIn [64]\u001b[0m, in \u001b[0;36mmain\u001b[1;34m()\u001b[0m\n\u001b[0;32m      1\u001b[0m \u001b[38;5;28;01mdef\u001b[39;00m \u001b[38;5;21mmain\u001b[39m():\n\u001b[1;32m----> 2\u001b[0m     \u001b[38;5;28;01mwith\u001b[39;00m \u001b[38;5;28;43mopen\u001b[39;49m\u001b[43m(\u001b[49m\u001b[38;5;124;43m\"\u001b[39;49m\u001b[38;5;124;43m./routes-source-pages/page2.html\u001b[39;49m\u001b[38;5;124;43m\"\u001b[39;49m\u001b[43m,\u001b[49m\u001b[43m \u001b[49m\u001b[43merrors\u001b[49m\u001b[38;5;241;43m=\u001b[39;49m\u001b[38;5;124;43m'\u001b[39;49m\u001b[38;5;124;43mignore\u001b[39;49m\u001b[38;5;124;43m'\u001b[39;49m\u001b[43m)\u001b[49m \u001b[38;5;28;01mas\u001b[39;00m fp:\n\u001b[0;32m      3\u001b[0m         soup \u001b[38;5;241m=\u001b[39m BeautifulSoup(fp, \u001b[38;5;124m\"\u001b[39m\u001b[38;5;124mhtml.parser\u001b[39m\u001b[38;5;124m\"\u001b[39m)\n\u001b[0;32m      5\u001b[0m     problem_list \u001b[38;5;241m=\u001b[39m []\n",
      "\u001b[1;31mFileNotFoundError\u001b[0m: [Errno 2] No such file or directory: './routes-source-pages/page2.html'"
     ]
    }
   ],
   "source": [
    "problem_list = main()"
   ]
  },
  {
   "cell_type": "code",
   "execution_count": 57,
   "id": "7feb7a52",
   "metadata": {},
   "outputs": [
    {
     "data": {
      "text/plain": [
       "40"
      ]
     },
     "execution_count": 57,
     "metadata": {},
     "output_type": "execute_result"
    }
   ],
   "source": [
    "len(problem_list)"
   ]
  },
  {
   "cell_type": "code",
   "execution_count": 63,
   "id": "fbc6b5ae",
   "metadata": {},
   "outputs": [
    {
     "data": {
      "text/plain": [
       "{'Method': 'Feet follow hands',\n",
       " 'Name': 'ZANZIBAR',\n",
       " 'Grade': '7C+',\n",
       " 'UserGrade': '7C+',\n",
       " 'MoonBoardConfiguration': None,\n",
       " 'MoonBoardConfigurationId': 0,\n",
       " 'Setter': {'Id': '7ADF5DF9-B3F2-4D84-A696-2AD696895AFF',\n",
       "  'Nickname': 'Darrylrfd',\n",
       "  'Firstname': 'Darryl',\n",
       "  'Lastname': 'Dodson',\n",
       "  'City': 'Redondo Beach',\n",
       "  'Country': 'United States',\n",
       "  'ProfileImageUrl': '/Content/Account/Images/default-profile.png?637853962939404520',\n",
       "  'CanShareData': True},\n",
       " 'FirstAscender': False,\n",
       " 'Rating': 0,\n",
       " 'UserRating': 5,\n",
       " 'Repeats': 0,\n",
       " 'Attempts': 0,\n",
       " 'Holdsetup': {'Id': 1,\n",
       "  'Description': 'MoonBoard 2016',\n",
       "  'Setby': None,\n",
       "  'DateInserted': None,\n",
       "  'DateUpdated': None,\n",
       "  'DateDeleted': None,\n",
       "  'IsLocked': False,\n",
       "  'IsMini': False,\n",
       "  'Active': False,\n",
       "  'Holdsets': None,\n",
       "  'MoonBoardConfigurations': None,\n",
       "  'HoldLayoutId': 0,\n",
       "  'AllowClimbMethods': False},\n",
       " 'IsBenchmark': True,\n",
       " 'IsMaster': False,\n",
       " 'IsAssessmentProblem': False,\n",
       " 'ProblemType': None,\n",
       " 'Moves': [{'Id': 1529003,\n",
       "   'Description': 'F6',\n",
       "   'IsStart': True,\n",
       "   'IsEnd': False},\n",
       "  {'Id': 1529004, 'Description': 'K6', 'IsStart': True, 'IsEnd': False},\n",
       "  {'Id': 1529005, 'Description': 'G11', 'IsStart': False, 'IsEnd': False},\n",
       "  {'Id': 1529006, 'Description': 'A10', 'IsStart': False, 'IsEnd': False},\n",
       "  {'Id': 1529007, 'Description': 'C15', 'IsStart': False, 'IsEnd': False},\n",
       "  {'Id': 1529008, 'Description': 'C18', 'IsStart': False, 'IsEnd': True}],\n",
       " 'Holdsets': [{'Id': 0,\n",
       "   'Description': 'Original School Holds',\n",
       "   'Color': '#f6f60c',\n",
       "   'Holds': None}],\n",
       " 'Locations': [{'Id': 0,\n",
       "   'Holdset': None,\n",
       "   'Description': 'A10',\n",
       "   'X': 95,\n",
       "   'Y': 488,\n",
       "   'Color': '0x0000FF',\n",
       "   'Rotation': 0,\n",
       "   'Type': 2,\n",
       "   'HoldNumber': None,\n",
       "   'Direction': 0,\n",
       "   'DirectionString': 'N'},\n",
       "  {'Id': 0,\n",
       "   'Holdset': None,\n",
       "   'Description': 'C15',\n",
       "   'X': 195,\n",
       "   'Y': 238,\n",
       "   'Color': '0x0000FF',\n",
       "   'Rotation': 0,\n",
       "   'Type': 2,\n",
       "   'HoldNumber': None,\n",
       "   'Direction': 0,\n",
       "   'DirectionString': 'N'},\n",
       "  {'Id': 0,\n",
       "   'Holdset': None,\n",
       "   'Description': 'C18',\n",
       "   'X': 195,\n",
       "   'Y': 88,\n",
       "   'Color': '0xFF0000',\n",
       "   'Rotation': 0,\n",
       "   'Type': 3,\n",
       "   'HoldNumber': None,\n",
       "   'Direction': 0,\n",
       "   'DirectionString': 'N'},\n",
       "  {'Id': 0,\n",
       "   'Holdset': None,\n",
       "   'Description': 'F6',\n",
       "   'X': 345,\n",
       "   'Y': 686,\n",
       "   'Color': '0x00FF00',\n",
       "   'Rotation': 0,\n",
       "   'Type': 1,\n",
       "   'HoldNumber': None,\n",
       "   'Direction': 0,\n",
       "   'DirectionString': 'N'},\n",
       "  {'Id': 0,\n",
       "   'Holdset': None,\n",
       "   'Description': 'G11',\n",
       "   'X': 395,\n",
       "   'Y': 438,\n",
       "   'Color': '0x0000FF',\n",
       "   'Rotation': 0,\n",
       "   'Type': 2,\n",
       "   'HoldNumber': None,\n",
       "   'Direction': 0,\n",
       "   'DirectionString': 'N'},\n",
       "  {'Id': 0,\n",
       "   'Holdset': None,\n",
       "   'Description': 'K6',\n",
       "   'X': 595,\n",
       "   'Y': 688,\n",
       "   'Color': '0x00FF00',\n",
       "   'Rotation': 0,\n",
       "   'Type': 1,\n",
       "   'HoldNumber': None,\n",
       "   'Direction': 0,\n",
       "   'DirectionString': 'N'}],\n",
       " 'RepeatText': None,\n",
       " 'NumberOfTries': None,\n",
       " 'NameForUrl': 'zanzibar',\n",
       " 'Upgraded': False,\n",
       " 'Downgraded': False,\n",
       " 'Id': 43010,\n",
       " 'ApiId': 43010,\n",
       " 'DateInserted': '/Date(1474994287000)/',\n",
       " 'DateUpdated': None,\n",
       " 'DateDeleted': None,\n",
       " 'DateTimeString': '27 Sep 2016 17:38'}"
      ]
     },
     "execution_count": 63,
     "metadata": {},
     "output_type": "execute_result"
    }
   ],
   "source": [
    "problem_list[39]"
   ]
  },
  {
   "cell_type": "code",
   "execution_count": 52,
   "id": "182b17d2",
   "metadata": {
    "scrolled": true
   },
   "outputs": [],
   "source": [
    "# read html file and parse with BeautifulSoup\n",
    "\n",
    " \n",
    "# returns all script elements\n",
    "def get_all_script_elements(parsed_data):\n",
    "    return parsed_data.find_all(\"script\")   \n",
    "\n",
    "# returns problem as string from script element\n",
    "def get_problem_raw(script_element):\n",
    "    script_raw_text = script_element.string\n",
    "    problem_raw_string = \"\"\n",
    "    flag = False\n",
    "    for i in range(len(script_raw_text)): \n",
    "        if script_raw_text[i] == \";\":\n",
    "            break\n",
    "        if script_raw_text[i] == \"v\" and script_raw_text[i+1] == \"a\":\n",
    "            flag = True\n",
    "        if flag:\n",
    "            problem_raw_string = problem_raw_string + script_raw_text[i]\n",
    "    return problem_raw_string[26:-2]\n",
    "\n",
    "\n",
    "# convert str problem to dict\n",
    "def str_to_dict(str_problem):\n",
    "    return json.loads(str_problem)\n",
    "\n",
    "# adds problem to dict\n",
    "def append_to_problem_list(problem,problem_list):\n",
    "    return problem_list.append(problem)\n",
    "\n",
    "\n",
    "\n",
    "def main():\n",
    "\n",
    "    with open(\"./routes-source-pages/page1.html\", errors='ignore') as fp:\n",
    "        soup = BeautifulSoup(fp, \"html.parser\")\n",
    "    \n",
    "    problem_list = []\n",
    "    \n",
    "    all_script_elements = get_all_script_elements(soup)\n",
    "    \n",
    "    for script in all_script_elements:\n",
    "        try:\n",
    "            str_problem = get_problem_raw(script)\n",
    "            dict_problem = json.loads(str_problem)\n",
    "            problem_list.append(dict_problem)\n",
    "        except:\n",
    "            pass\n",
    "\n",
    "    \n",
    "    return problem_list "
   ]
  },
  {
   "cell_type": "code",
   "execution_count": null,
   "id": "6f82cb1d",
   "metadata": {},
   "outputs": [],
   "source": []
  },
  {
   "cell_type": "code",
   "execution_count": null,
   "id": "eba648e9",
   "metadata": {},
   "outputs": [],
   "source": []
  },
  {
   "cell_type": "code",
   "execution_count": 33,
   "id": "d2c41356",
   "metadata": {
    "scrolled": false
   },
   "outputs": [],
   "source": [
    "# parse script tag\n",
    "all_scripts = soup.find_all('script')\n",
    "\n",
    "# get the relevant script element\n",
    "problem_script_element = None\n",
    "counter = 0\n",
    "for script in all_scripts:\n",
    "    if counter == 23:\n",
    "        problem_script_element = script\n",
    "    counter += 1"
   ]
  },
  {
   "cell_type": "code",
   "execution_count": 4,
   "id": "cb3556d3",
   "metadata": {
    "scrolled": false
   },
   "outputs": [
    {
     "data": {
      "text/plain": [
       "bs4.element.Tag"
      ]
     },
     "execution_count": 4,
     "metadata": {},
     "output_type": "execute_result"
    }
   ],
   "source": [
    "type(problem_script_element)"
   ]
  },
  {
   "cell_type": "code",
   "execution_count": 34,
   "id": "d462cc92",
   "metadata": {
    "scrolled": false
   },
   "outputs": [],
   "source": [
    "def get_problem_raw(script_element):\n",
    "    script_raw_text = script_element.string\n",
    "    problem_raw_string = \"\"\n",
    "    flag = False\n",
    "    for i in range(len(script_raw_text)): \n",
    "        if script_raw_text[i] == \";\":\n",
    "            break\n",
    "        if script_raw_text[i] == \"v\" and script_raw_text[i+1] == \"a\":\n",
    "            flag = True\n",
    "        if flag:\n",
    "            problem_raw_string = problem_raw_string + script_raw_text[i]\n",
    "    return problem_raw_string[26:-2]"
   ]
  },
  {
   "cell_type": "code",
   "execution_count": 35,
   "id": "8104451e",
   "metadata": {
    "scrolled": false
   },
   "outputs": [],
   "source": [
    "a = get_problem_raw(problem_script_element)"
   ]
  },
  {
   "cell_type": "code",
   "execution_count": 36,
   "id": "85263941",
   "metadata": {
    "scrolled": true
   },
   "outputs": [
    {
     "data": {
      "text/plain": [
       "'{\"Method\":\"Feet follow hands\",\"Name\":\"BLACK BEAUTY\",\"Grade\":\"8B\",\"UserGrade\":\"8B\",\"MoonBoardConfiguration\":null,\"MoonBoardConfigurationId\":0,\"Setter\":{\"Id\":\"491FD2E9-AC19-4663-B5E9-34728B3F0363\",\"Nickname\":\"Daniel Woods\",\"Firstname\":\"Daniel\",\"Lastname\":\"Woods\",\"City\":\"Boulder\",\"Country\":\"United States\",\"ProfileImageUrl\":\"/Content/Account/Images/default-profile.png?637853961518978465\",\"CanShareData\":true},\"FirstAscender\":false,\"Rating\":0,\"UserRating\":5,\"Repeats\":0,\"Attempts\":0,\"Holdsetup\":{\"Id\":1,\"Description\":\"MoonBoard 2016\",\"Setby\":null,\"DateInserted\":null,\"DateUpdated\":null,\"DateDeleted\":null,\"IsLocked\":false,\"IsMini\":false,\"Active\":false,\"Holdsets\":null,\"MoonBoardConfigurations\":null,\"HoldLayoutId\":0,\"AllowClimbMethods\":false},\"IsBenchmark\":true,\"IsMaster\":false,\"IsAssessmentProblem\":false,\"ProblemType\":null,\"Moves\":[{\"Id\":1542554,\"Description\":\"J5\",\"IsStart\":true,\"IsEnd\":false},{\"Id\":1542555,\"Description\":\"I9\",\"IsStart\":false,\"IsEnd\":false},{\"Id\":1542556,\"Description\":\"E14\",\"IsStart\":false,\"IsEnd\":false},{\"Id\":1542557,\"Description\":\"H18\",\"IsStart\":false,\"IsEnd\":true}],\"Holdsets\":[{\"Id\":0,\"Description\":\"Original School Holds\",\"Color\":\"#f6f60c\",\"Holds\":null},{\"Id\":0,\"Description\":\"Hold Set B\",\"Color\":\"#000000\",\"Holds\":null}],\"Locations\":[{\"Id\":0,\"Holdset\":null,\"Description\":\"E14\",\"X\":295,\"Y\":288,\"Color\":\"0x0000FF\",\"Rotation\":0,\"Type\":2,\"HoldNumber\":null,\"Direction\":0,\"DirectionString\":\"N\"},{\"Id\":0,\"Holdset\":null,\"Description\":\"H18\",\"X\":445,\"Y\":86,\"Color\":\"0xFF0000\",\"Rotation\":0,\"Type\":3,\"HoldNumber\":null,\"Direction\":0,\"DirectionString\":\"N\"},{\"Id\":0,\"Holdset\":null,\"Description\":\"I9\",\"X\":495,\"Y\":538,\"Color\":\"0x0000FF\",\"Rotation\":0,\"Type\":2,\"HoldNumber\":null,\"Direction\":0,\"DirectionString\":\"N\"},{\"Id\":0,\"Holdset\":null,\"Description\":\"J5\",\"X\":545,\"Y\":736,\"Color\":\"0x00FF00\",\"Rotation\":0,\"Type\":1,\"HoldNumber\":null,\"Direction\":0,\"DirectionString\":\"N\"}],\"RepeatText\":null,\"NumberOfTries\":null,\"NameForUrl\":\"black-beauty\",\"Upgraded\":false,\"Downgraded\":false,\"Id\":82224,\"ApiId\":82224,\"DateInserted\":\"\\\\/Date(1482962157000)\\\\/\",\"DateUpdated\":null,\"DateDeleted\":null,\"DateTimeString\":\"28 Dec 2016 21:55\"}'"
      ]
     },
     "execution_count": 36,
     "metadata": {},
     "output_type": "execute_result"
    }
   ],
   "source": [
    "a"
   ]
  },
  {
   "cell_type": "code",
   "execution_count": 7,
   "id": "52ac6fe4",
   "metadata": {},
   "outputs": [
    {
     "data": {
      "text/plain": [
       "str"
      ]
     },
     "execution_count": 7,
     "metadata": {},
     "output_type": "execute_result"
    }
   ],
   "source": [
    "type(a)"
   ]
  },
  {
   "cell_type": "code",
   "execution_count": 8,
   "id": "fac42e77",
   "metadata": {},
   "outputs": [],
   "source": [
    "res = json.loads(a)"
   ]
  },
  {
   "cell_type": "code",
   "execution_count": 9,
   "id": "6e4fb06d",
   "metadata": {},
   "outputs": [
    {
     "data": {
      "text/plain": [
       "{'Method': 'Feet follow hands',\n",
       " 'Name': 'BLACK BEAUTY',\n",
       " 'Grade': '8B',\n",
       " 'UserGrade': '8B',\n",
       " 'MoonBoardConfiguration': None,\n",
       " 'MoonBoardConfigurationId': 0,\n",
       " 'Setter': {'Id': '491FD2E9-AC19-4663-B5E9-34728B3F0363',\n",
       "  'Nickname': 'Daniel Woods',\n",
       "  'Firstname': 'Daniel',\n",
       "  'Lastname': 'Woods',\n",
       "  'City': 'Boulder',\n",
       "  'Country': 'United States',\n",
       "  'ProfileImageUrl': '/Content/Account/Images/default-profile.png?637853961518978465',\n",
       "  'CanShareData': True},\n",
       " 'FirstAscender': False,\n",
       " 'Rating': 0,\n",
       " 'UserRating': 5,\n",
       " 'Repeats': 0,\n",
       " 'Attempts': 0,\n",
       " 'Holdsetup': {'Id': 1,\n",
       "  'Description': 'MoonBoard 2016',\n",
       "  'Setby': None,\n",
       "  'DateInserted': None,\n",
       "  'DateUpdated': None,\n",
       "  'DateDeleted': None,\n",
       "  'IsLocked': False,\n",
       "  'IsMini': False,\n",
       "  'Active': False,\n",
       "  'Holdsets': None,\n",
       "  'MoonBoardConfigurations': None,\n",
       "  'HoldLayoutId': 0,\n",
       "  'AllowClimbMethods': False},\n",
       " 'IsBenchmark': True,\n",
       " 'IsMaster': False,\n",
       " 'IsAssessmentProblem': False,\n",
       " 'ProblemType': None,\n",
       " 'Moves': [{'Id': 1542554,\n",
       "   'Description': 'J5',\n",
       "   'IsStart': True,\n",
       "   'IsEnd': False},\n",
       "  {'Id': 1542555, 'Description': 'I9', 'IsStart': False, 'IsEnd': False},\n",
       "  {'Id': 1542556, 'Description': 'E14', 'IsStart': False, 'IsEnd': False},\n",
       "  {'Id': 1542557, 'Description': 'H18', 'IsStart': False, 'IsEnd': True}],\n",
       " 'Holdsets': [{'Id': 0,\n",
       "   'Description': 'Original School Holds',\n",
       "   'Color': '#f6f60c',\n",
       "   'Holds': None},\n",
       "  {'Id': 0, 'Description': 'Hold Set B', 'Color': '#000000', 'Holds': None}],\n",
       " 'Locations': [{'Id': 0,\n",
       "   'Holdset': None,\n",
       "   'Description': 'E14',\n",
       "   'X': 295,\n",
       "   'Y': 288,\n",
       "   'Color': '0x0000FF',\n",
       "   'Rotation': 0,\n",
       "   'Type': 2,\n",
       "   'HoldNumber': None,\n",
       "   'Direction': 0,\n",
       "   'DirectionString': 'N'},\n",
       "  {'Id': 0,\n",
       "   'Holdset': None,\n",
       "   'Description': 'H18',\n",
       "   'X': 445,\n",
       "   'Y': 86,\n",
       "   'Color': '0xFF0000',\n",
       "   'Rotation': 0,\n",
       "   'Type': 3,\n",
       "   'HoldNumber': None,\n",
       "   'Direction': 0,\n",
       "   'DirectionString': 'N'},\n",
       "  {'Id': 0,\n",
       "   'Holdset': None,\n",
       "   'Description': 'I9',\n",
       "   'X': 495,\n",
       "   'Y': 538,\n",
       "   'Color': '0x0000FF',\n",
       "   'Rotation': 0,\n",
       "   'Type': 2,\n",
       "   'HoldNumber': None,\n",
       "   'Direction': 0,\n",
       "   'DirectionString': 'N'},\n",
       "  {'Id': 0,\n",
       "   'Holdset': None,\n",
       "   'Description': 'J5',\n",
       "   'X': 545,\n",
       "   'Y': 736,\n",
       "   'Color': '0x00FF00',\n",
       "   'Rotation': 0,\n",
       "   'Type': 1,\n",
       "   'HoldNumber': None,\n",
       "   'Direction': 0,\n",
       "   'DirectionString': 'N'}],\n",
       " 'RepeatText': None,\n",
       " 'NumberOfTries': None,\n",
       " 'NameForUrl': 'black-beauty',\n",
       " 'Upgraded': False,\n",
       " 'Downgraded': False,\n",
       " 'Id': 82224,\n",
       " 'ApiId': 82224,\n",
       " 'DateInserted': '/Date(1482962157000)/',\n",
       " 'DateUpdated': None,\n",
       " 'DateDeleted': None,\n",
       " 'DateTimeString': '28 Dec 2016 21:55'}"
      ]
     },
     "execution_count": 9,
     "metadata": {},
     "output_type": "execute_result"
    }
   ],
   "source": [
    "res"
   ]
  },
  {
   "cell_type": "markdown",
   "id": "5abcbbf0",
   "metadata": {},
   "source": [
    "<script type=\"text/javascript\">\n",
    "\n",
    "\n",
    "    var problem = JSON.parse('{\"Method\":\"Feet follow hands\",\"Name\":\"CAPPONE\",\"Grade\":\"7B+\",\"UserGrade\":\"7B+\",\"MoonBoardConfiguration\":null,\"MoonBoardConfigurationId\":0,\"Setter\":{\"Id\":\"BC1EB6AE-3997-41B0-B6FB-0A6CAC8C3F1D\",\"Nickname\":\"Riccardo Caprasecca\",\"Firstname\":\"Riccardo\",\"Lastname\":\"Caprasecca\",\"City\":\"Roma\",\"Country\":\"Italy\",\"ProfileImageUrl\":\"/Content/Account/Images/default-profile.png?637853964817992198\",\"CanShareData\":true},\"FirstAscender\":false,\"Rating\":0,\"UserRating\":4,\"Repeats\":0,\"Attempts\":0,\"Holdsetup\":{\"Id\":1,\"Description\":\"MoonBoard 2016\",\"Setby\":null,\"DateInserted\":null,\"DateUpdated\":null,\"DateDeleted\":null,\"IsLocked\":false,\"IsMini\":false,\"Active\":false,\"Holdsets\":null,\"MoonBoardConfigurations\":null,\"HoldLayoutId\":0,\"AllowClimbMethods\":false},\"IsBenchmark\":true,\"IsMaster\":false,\"IsAssessmentProblem\":false,\"ProblemType\":null,\"Moves\":[{\"Id\":1621573,\"Description\":\"C5\",\"IsStart\":true,\"IsEnd\":false},{\"Id\":1621574,\"Description\":\"E14\",\"IsStart\":false,\"IsEnd\":false},{\"Id\":1621575,\"Description\":\"F10\",\"IsStart\":false,\"IsEnd\":false},{\"Id\":1621576,\"Description\":\"I13\",\"IsStart\":false,\"IsEnd\":false},{\"Id\":1621577,\"Description\":\"K18\",\"IsStart\":false,\"IsEnd\":true}],\"Holdsets\":[{\"Id\":0,\"Description\":\"Hold Set A\",\"Color\":\"#dee1ce\",\"Holds\":null},{\"Id\":0,\"Description\":\"Hold Set B\",\"Color\":\"#000000\",\"Holds\":null}],\"Locations\":[{\"Id\":0,\"Holdset\":null,\"Description\":\"C5\",\"X\":195,\"Y\":738,\"Color\":\"0x00FF00\",\"Rotation\":0,\"Type\":1,\"HoldNumber\":null,\"Direction\":0,\"DirectionString\":\"N\"},{\"Id\":0,\"Holdset\":null,\"Description\":\"E14\",\"X\":295,\"Y\":288,\"Color\":\"0x0000FF\",\"Rotation\":0,\"Type\":2,\"HoldNumber\":null,\"Direction\":0,\"DirectionString\":\"N\"},{\"Id\":0,\"Holdset\":null,\"Description\":\"F10\",\"X\":345,\"Y\":486,\"Color\":\"0x0000FF\",\"Rotation\":0,\"Type\":2,\"HoldNumber\":null,\"Direction\":0,\"DirectionString\":\"N\"},{\"Id\":0,\"Holdset\":null,\"Description\":\"I13\",\"X\":495,\"Y\":338,\"Color\":\"0x0000FF\",\"Rotation\":0,\"Type\":2,\"HoldNumber\":null,\"Direction\":0,\"DirectionString\":\"N\"},{\"Id\":0,\"Holdset\":null,\"Description\":\"K18\",\"X\":595,\"Y\":88,\"Color\":\"0xFF0000\",\"Rotation\":0,\"Type\":3,\"HoldNumber\":null,\"Direction\":0,\"DirectionString\":\"N\"}],\"RepeatText\":null,\"NumberOfTries\":null,\"NameForUrl\":\"cappone\",\"Upgraded\":false,\"Downgraded\":false,\"Id\":79055,\"ApiId\":79055,\"DateInserted\":\"\\/Date(1482430900000)\\/\",\"DateUpdated\":null,\"DateDeleted\":null,\"DateTimeString\":\"22 Dec 2016 18:21\"}');\n"
   ]
  }
 ],
 "metadata": {
  "kernelspec": {
   "display_name": "Python 3 (ipykernel)",
   "language": "python",
   "name": "python3"
  },
  "language_info": {
   "codemirror_mode": {
    "name": "ipython",
    "version": 3
   },
   "file_extension": ".py",
   "mimetype": "text/x-python",
   "name": "python",
   "nbconvert_exporter": "python",
   "pygments_lexer": "ipython3",
   "version": "3.8.12"
  }
 },
 "nbformat": 4,
 "nbformat_minor": 5
}
