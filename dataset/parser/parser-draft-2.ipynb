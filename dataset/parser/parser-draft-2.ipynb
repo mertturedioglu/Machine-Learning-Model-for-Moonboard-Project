{
 "cells": [
  {
   "cell_type": "code",
   "execution_count": 1,
   "id": "05dd4624",
   "metadata": {},
   "outputs": [],
   "source": [
    "from bs4 import BeautifulSoup\n",
    "import json\n",
    "import re\n",
    "import os\n",
    "import pandas as pd"
   ]
  },
  {
   "cell_type": "code",
   "execution_count": 7,
   "id": "a00405d5",
   "metadata": {},
   "outputs": [],
   "source": [
    "# function definitions\n",
    "\n",
    "# returns all script elements\n",
    "def get_all_script_elements(parsed_data):\n",
    "    return parsed_data.find_all(\"script\")   \n",
    "\n",
    "# returns problem as string from script element\n",
    "def get_problem_raw(script_element):\n",
    "    script_raw_text = script_element.string\n",
    "    problem_raw_string = \"\"\n",
    "    flag = False\n",
    "    for i in range(len(script_raw_text)): \n",
    "        if script_raw_text[i] == \";\":\n",
    "            break\n",
    "        if script_raw_text[i] == \"v\" and script_raw_text[i+1] == \"a\":\n",
    "            flag = True\n",
    "        if flag:\n",
    "            problem_raw_string = problem_raw_string + script_raw_text[i]\n",
    "    return problem_raw_string[26:-2]\n",
    "\n",
    "\n",
    "\n",
    "\n",
    "# returns df of routes and creates csv file of df\n",
    "# parameters: \n",
    "#            folder_path of html files\n",
    "#            filename of csv file\n",
    "def parse_files(folder_path):\n",
    "    \n",
    "    problem_list = []\n",
    "    \n",
    "    for filename in os.scandir(folder_path):\n",
    "        try:\n",
    "            with open(filename, errors='ignore') as fp:\n",
    "                soup = BeautifulSoup(fp, \"html.parser\")\n",
    "\n",
    "\n",
    "            all_script_elements = get_all_script_elements(soup)\n",
    "\n",
    "            for script in all_script_elements:\n",
    "                try:\n",
    "                    str_problem = get_problem_raw(script)\n",
    "                    dict_problem = json.loads(str_problem)\n",
    "                    problem_list.append(dict_problem)\n",
    "                except:\n",
    "                    pass      \n",
    "        except:\n",
    "            pass\n",
    "    \n",
    "    df = pd.DataFrame(problem_list)  \n",
    "    df.to_csv('./problems-2019.csv')\n",
    "    \n",
    "    return df"
   ]
  },
  {
   "cell_type": "code",
   "execution_count": 8,
   "id": "dd50cb08",
   "metadata": {
    "scrolled": false
   },
   "outputs": [],
   "source": [
    "# uncomment to get df\n",
    "df = parse_files(\"../scraper/moonboard2019-scraped-files\")"
   ]
  }
 ],
 "metadata": {
  "kernelspec": {
   "display_name": "Python 3 (ipykernel)",
   "language": "python",
   "name": "python3"
  },
  "language_info": {
   "codemirror_mode": {
    "name": "ipython",
    "version": 3
   },
   "file_extension": ".py",
   "mimetype": "text/x-python",
   "name": "python",
   "nbconvert_exporter": "python",
   "pygments_lexer": "ipython3",
   "version": "3.7.11"
  }
 },
 "nbformat": 4,
 "nbformat_minor": 5
}
