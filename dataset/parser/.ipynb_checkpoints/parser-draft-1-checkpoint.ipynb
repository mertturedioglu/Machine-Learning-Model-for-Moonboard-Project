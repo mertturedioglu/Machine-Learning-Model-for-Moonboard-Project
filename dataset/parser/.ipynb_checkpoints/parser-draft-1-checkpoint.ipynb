{
 "cells": [
  {
   "cell_type": "code",
   "execution_count": 1,
   "id": "bea268fd",
   "metadata": {},
   "outputs": [],
   "source": [
    "from bs4 import BeautifulSoup\n",
    "import json\n",
    "import re\n",
    "import os\n",
    "import pandas as pd"
   ]
  },
  {
   "cell_type": "code",
   "execution_count": 18,
   "id": "d22ff85d",
   "metadata": {},
   "outputs": [],
   "source": [
    "# function definitions\n",
    "\n",
    "# returns all script elements\n",
    "def get_all_script_elements(parsed_data):\n",
    "    return parsed_data.find_all(\"script\")   \n",
    "\n",
    "# returns problem as string from script element\n",
    "def get_problem_raw(script_element):\n",
    "    script_raw_text = script_element.string\n",
    "    problem_raw_string = \"\"\n",
    "    flag = False\n",
    "    for i in range(len(script_raw_text)): \n",
    "        if script_raw_text[i] == \";\":\n",
    "            break\n",
    "        if script_raw_text[i] == \"v\" and script_raw_text[i+1] == \"a\":\n",
    "            flag = True\n",
    "        if flag:\n",
    "            problem_raw_string = problem_raw_string + script_raw_text[i]\n",
    "    return problem_raw_string[26:-2]\n",
    "\n",
    "\n",
    "\n",
    "\n",
    "# returns df of routes and creates csv file of df\n",
    "# parameters: \n",
    "#            folder_path of html files\n",
    "#            filename of csv file\n",
    "def parse_files(folder_path):\n",
    "    \n",
    "    problem_list = []\n",
    "    \n",
    "    for filename in os.scandir(folder_path):\n",
    "        try:\n",
    "            with open(filename, errors='ignore') as fp:\n",
    "                soup = BeautifulSoup(fp, \"html.parser\")\n",
    "\n",
    "\n",
    "            all_script_elements = get_all_script_elements(soup)\n",
    "\n",
    "            for script in all_script_elements:\n",
    "                try:\n",
    "                    str_problem = get_problem_raw(script)\n",
    "                    dict_problem = json.loads(str_problem)\n",
    "                    problem_list.append(dict_problem)\n",
    "                except:\n",
    "                    pass      \n",
    "        except:\n",
    "            pass\n",
    "    \n",
    "    df = pd.DataFrame(problem_list)  \n",
    "    df.to_csv('../problems.csv')\n",
    "    \n",
    "    return df"
   ]
  },
  {
   "cell_type": "code",
   "execution_count": 19,
   "id": "ab5a4c05",
   "metadata": {
    "scrolled": true
   },
   "outputs": [
    {
     "name": "stdout",
     "output_type": "stream",
     "text": [
      "<DirEntry '.ipynb_checkpoints'>\n",
      "<DirEntry 'page1.html'>\n",
      "<DirEntry 'page10.html'>\n",
      "<DirEntry 'page11.html'>\n",
      "<DirEntry 'page12.html'>\n",
      "<DirEntry 'page2.html'>\n",
      "<DirEntry 'page3.html'>\n",
      "<DirEntry 'page4.html'>\n",
      "<DirEntry 'page5.html'>\n",
      "<DirEntry 'page6.html'>\n",
      "<DirEntry 'page7.html'>\n",
      "<DirEntry 'page8.html'>\n",
      "<DirEntry 'page9.html'>\n"
     ]
    }
   ],
   "source": [
    "# uncomment to get df\n",
    "# df = parse_files('../scraper/scraped_html_files')"
   ]
  }
 ],
 "metadata": {
  "kernelspec": {
   "display_name": "Python 3 (ipykernel)",
   "language": "python",
   "name": "python3"
  },
  "language_info": {
   "codemirror_mode": {
    "name": "ipython",
    "version": 3
   },
   "file_extension": ".py",
   "mimetype": "text/x-python",
   "name": "python",
   "nbconvert_exporter": "python",
   "pygments_lexer": "ipython3",
   "version": "3.8.12"
  }
 },
 "nbformat": 4,
 "nbformat_minor": 5
}
